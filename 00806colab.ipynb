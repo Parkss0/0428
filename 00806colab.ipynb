{
  "cells": [
    {
      "cell_type": "code",
      "execution_count": null,
      "id": "69e212b3",
      "metadata": {
        "colab": {
          "base_uri": "https://localhost:8080/"
        },
        "id": "69e212b3",
        "outputId": "1a235e94-9d9e-4882-ea37-96a41a2e5c64"
      },
      "outputs": [
        {
          "output_type": "stream",
          "name": "stdout",
          "text": [
            "4.54.0\n"
          ]
        }
      ],
      "source": [
        "import transformers\n",
        "print(transformers.__version__)  # 반드시 4.40 이상이어야 합니다!\n"
      ]
    },
    {
      "cell_type": "code",
      "source": [
        "from transformers import TrainingArguments\n",
        "\n",
        "args = TrainingArguments(\n",
        "    output_dir=\"./test\",\n",
        "    eval_strategy=\"epoch\",\n",
        "    save_strategy=\"epoch\",\n",
        "    num_train_epochs=1,\n",
        "    per_device_train_batch_size=8,\n",
        "    per_device_eval_batch_size=8,\n",
        "    logging_dir=\"./test/logs\",\n",
        "    logging_steps=10,\n",
        "    load_best_model_at_end=True,\n",
        "    metric_for_best_model=\"eval_loss\",\n",
        "    greater_is_better=False,\n",
        "    seed=42\n",
        ")\n",
        "\n",
        "print(\"✅ TrainingArguments 생성 성공\")"
      ],
      "metadata": {
        "colab": {
          "base_uri": "https://localhost:8080/"
        },
        "id": "ZjIGWRJH6b8N",
        "outputId": "974414ca-c19e-4d7b-cb85-a4bea4bf3af5"
      },
      "id": "ZjIGWRJH6b8N",
      "execution_count": null,
      "outputs": [
        {
          "output_type": "stream",
          "name": "stdout",
          "text": [
            "✅ TrainingArguments 생성 성공\n"
          ]
        }
      ]
    },
    {
      "cell_type": "code",
      "source": [
        "# ==============================  Colab 준비  ===============================\n",
        "# 한 번만 실행: 최신 라이브러리 + RDKit\n",
        "\n",
        "import os\n",
        "os.environ[\"WANDB_DISABLED\"] = \"true\"\n",
        "!pip -q install -U  datasets scikit-learn accelerate wandb rdkit-pypi\n",
        "!pip install -U \"transformers[torch]>=4.40\" --quiet\n",
        "# ------------------------------  라이브러리  -------------------------------\n",
        "import os\n",
        "os.environ[\"WANDB_DISABLED\"] = \"true\"\n",
        "import os, json, random, inspect, math, warnings\n",
        "from dataclasses import dataclass, asdict\n",
        "import numpy as np, pandas as pd, torch, wandb\n",
        "from torch.utils.data import Dataset\n",
        "from sklearn.model_selection import StratifiedKFold\n",
        "from sklearn.metrics import roc_auc_score, average_precision_score, accuracy_score\n",
        "from transformers import (\n",
        "    AutoTokenizer, AutoModelForSequenceClassification, Trainer, TrainingArguments\n",
        ")\n",
        "\n",
        "warnings.filterwarnings(\"ignore\")\n",
        "torch.backends.cuda.matmul.allow_tf32 = True  # T4 환경에서 mixed precision 성능 ↑\n",
        "\n",
        "# ==============================  설정값  ====================================\n",
        "@dataclass\n",
        "class CFG:\n",
        "    model_id: str = \"seyonec/ChemBERTa-zinc-base-v1\"   # HF public ID\n",
        "    train_csv: str = \"https://raw.githubusercontent.com/Parkss0/0428/refs/heads/main/dataset2.csv\"           # Colab 경로\n",
        "    output_dir: str = \"/content/outputs/0428_chemberta_smiles\"\n",
        "    k_fold: int = 5\n",
        "    max_length: int = 256\n",
        "    batch_size: int = 32\n",
        "    epochs: int = 10\n",
        "    lr: float = 2e-5\n",
        "    weight_decay: float = 1e-2\n",
        "    grad_accum: int = 1\n",
        "    seed: int = 42\n",
        "    fp16: bool = torch.cuda.is_available()             # Colab GPU\n",
        "    bf16: bool = False                                 # bfloat16(T4 지원X)\n",
        "    wandb_project: str = \"ChemBERTa_SMILES\"\n",
        "    save_oof: str = \"oof_preds.csv\"                    # stacking용\n",
        "\n",
        "cfg = CFG()\n",
        "os.makedirs(cfg.output_dir, exist_ok=True)\n",
        "random.seed(cfg.seed); np.random.seed(cfg.seed); torch.manual_seed(cfg.seed)\n",
        "\n",
        "# ==============================  모델/토크나이저  ============================\n",
        "tokenizer = AutoTokenizer.from_pretrained(cfg.model_id)\n",
        "base_model = AutoModelForSequenceClassification.from_pretrained(\n",
        "    cfg.model_id, num_labels=2\n",
        ")\n",
        "print(f\"[INFO] backbone loaded ({cfg.model_id}) | vocab={len(tokenizer)}\")\n",
        "\n",
        "# ==============================  데이터셋  ===================================\n",
        "class SmilesDataset(Dataset):\n",
        "    def __init__(self, df, tokenizer, max_len):\n",
        "        self.smi = df[\"canonical_smiles\"].tolist()\n",
        "        self.lab = df[\"label\"].astype(int).tolist()\n",
        "        self.tok, self.max = tokenizer, max_len\n",
        "    def __len__(self): return len(self.smi)\n",
        "    def __getitem__(self, i):\n",
        "        enc = self.tok(\n",
        "            self.smi[i],\n",
        "            padding=\"max_length\",\n",
        "            truncation=True,\n",
        "            max_length=self.max,\n",
        "            return_tensors=\"pt\"\n",
        "        )\n",
        "        item = {k: v.squeeze(0) for k, v in enc.items()}\n",
        "        item[\"labels\"] = torch.tensor(self.lab[i])\n",
        "        return item\n",
        "\n",
        "def compute_metrics(eval_pred):\n",
        "    logits, y_true = eval_pred\n",
        "    y_prob = torch.softmax(torch.tensor(logits), dim=-1)[:, 1].cpu().numpy()\n",
        "    return {\n",
        "        \"roc_auc\": roc_auc_score(y_true, y_prob),\n",
        "        \"auprc\": average_precision_score(y_true, y_prob),\n",
        "        \"accuracy\": accuracy_score(y_true, y_prob > 0.5),\n",
        "    }\n",
        "\n",
        "# ==============================  훈련/추론 함수  =============================\n",
        "from transformers import TrainingArguments\n",
        "\n",
        "def make_args(out_dir, fold_seed):\n",
        "    common = dict(\n",
        "        output_dir=out_dir,\n",
        "        overwrite_output_dir=True,\n",
        "        num_train_epochs=10,\n",
        "        per_device_train_batch_size=32,\n",
        "        per_device_eval_batch_size=64,\n",
        "        eval_strategy=\"epoch\",  # ✅ 중요!\n",
        "        logging_dir=f\"{out_dir}/logs\",\n",
        "        logging_steps=50,\n",
        "        save_strategy=\"epoch\",\n",
        "        load_best_model_at_end=True,\n",
        "        metric_for_best_model=\"eval_loss\",\n",
        "        greater_is_better=False,\n",
        "        seed=fold_seed\n",
        "    )\n",
        "    return TrainingArguments(**common)\n",
        "\n",
        "def run_fold(train_df, val_df, fold_idx):\n",
        "    \"\"\"단일 Fold 학습 & OOF 예측\"\"\"\n",
        "    # 매 Fold 새 모델 인스턴스 (가중치 reset)\n",
        "    model = AutoModelForSequenceClassification.from_pretrained(\n",
        "        cfg.model_id, num_labels=2\n",
        "    )\n",
        "\n",
        "    trainer = Trainer(\n",
        "        model=model,\n",
        "        args=make_args(os.path.join(cfg.output_dir, f\"fold{fold_idx}\"), cfg.seed + fold_idx),\n",
        "        train_dataset=SmilesDataset(train_df, tokenizer, cfg.max_length),\n",
        "        eval_dataset=SmilesDataset(val_df, tokenizer, cfg.max_length),\n",
        "        compute_metrics=compute_metrics,\n",
        "    )\n",
        "    trainer.train()\n",
        "\n",
        "    # ── OOF 예측 저장 ──\n",
        "    preds = trainer.predict(trainer.eval_dataset)\n",
        "    y_prob = torch.softmax(torch.tensor(preds.predictions), dim=-1)[:, 1].cpu().numpy()\n",
        "    oof_df = val_df[[\"label\"]].copy()\n",
        "    oof_df[\"prob\"] = y_prob\n",
        "    oof_df[\"fold\"] = fold_idx\n",
        "    oof_df[\"idx\"] = val_df.index\n",
        "    return preds.metrics, oof_df\n",
        "\n",
        "# ==============================  Main (CV)  =================================\n",
        "def main():\n",
        "    wandb.init(project=cfg.wandb_project, config=asdict(cfg))\n",
        "    df = pd.read_csv(cfg.train_csv)          # ① 먼저 읽기\n",
        "    df = df.drop(columns=[c for c in df.columns if \"Unnamed\" in c])  # ② 열 정리\n",
        "    assert {\"canonical_smiles\", \"label\"}.issubset(df.columns), \"Required columns missing!\"\n",
        "\n",
        "    skf = StratifiedKFold(n_splits=cfg.k_fold, shuffle=True, random_state=cfg.seed)\n",
        "    metrics_all, oof_list = [], []\n",
        "\n",
        "    for fold, (tr_idx, vl_idx) in enumerate(skf.split(df, df[\"label\"])):\n",
        "        train_df, val_df = df.iloc[tr_idx].reset_index(drop=True), df.iloc[vl_idx].reset_index(drop=True)\n",
        "        print(f\"========== Fold {fold+1}/{cfg.k_fold} ==========\")\n",
        "        m, oof = run_fold(train_df, val_df, fold)\n",
        "        metrics_all.append(m); oof_list.append(oof)\n",
        "        wandb.log({f\"fold{fold}_{k}\": v for k, v in m.items()})\n",
        "\n",
        "    # ── CV 평균 기록 ──\n",
        "    cv_metrics = {k: np.mean([m[k] for m in metrics_all]) for k in metrics_all[0]}\n",
        "    with open(os.path.join(cfg.output_dir, \"cv_metrics.json\"), \"w\", encoding=\"utf-8\") as f:\n",
        "        json.dump(cv_metrics, f, indent=2)\n",
        "    print(json.dumps(cv_metrics, indent=2))\n",
        "    wandb.log({\"CV_\"+k: v for k, v in cv_metrics.items()})\n",
        "\n",
        "    # ── Stacking용 OOF 파일 저장 ──\n",
        "    oof_df = pd.concat(oof_list).sort_values(\"idx\").reset_index(drop=True)\n",
        "    oof_path = os.path.join(cfg.output_dir, cfg.save_oof)\n",
        "    oof_df.to_csv(oof_path, index=False)\n",
        "    print(f\"[INFO] OOF probabilities saved ➜ {oof_path}\")\n",
        "\n",
        "    wandb.finish()\n",
        "\n",
        "if __name__ == \"__main__\":\n",
        "    main()\n"
      ],
      "metadata": {
        "colab": {
          "base_uri": "https://localhost:8080/",
          "height": 1000
        },
        "id": "x2wE62Oh62Dj",
        "outputId": "881bf487-f6bc-4e2b-af46-6c921440bd85"
      },
      "id": "x2wE62Oh62Dj",
      "execution_count": null,
      "outputs": [
        {
          "output_type": "stream",
          "name": "stderr",
          "text": [
            "Some weights of RobertaForSequenceClassification were not initialized from the model checkpoint at seyonec/ChemBERTa-zinc-base-v1 and are newly initialized: ['classifier.dense.bias', 'classifier.dense.weight', 'classifier.out_proj.bias', 'classifier.out_proj.weight']\n",
            "You should probably TRAIN this model on a down-stream task to be able to use it for predictions and inference.\n"
          ]
        },
        {
          "output_type": "stream",
          "name": "stdout",
          "text": [
            "[INFO] backbone loaded (seyonec/ChemBERTa-zinc-base-v1) | vocab=767\n"
          ]
        },
        {
          "output_type": "display_data",
          "data": {
            "text/plain": [
              "<IPython.core.display.Javascript object>"
            ],
            "application/javascript": [
              "\n",
              "        window._wandbApiKey = new Promise((resolve, reject) => {\n",
              "            function loadScript(url) {\n",
              "            return new Promise(function(resolve, reject) {\n",
              "                let newScript = document.createElement(\"script\");\n",
              "                newScript.onerror = reject;\n",
              "                newScript.onload = resolve;\n",
              "                document.body.appendChild(newScript);\n",
              "                newScript.src = url;\n",
              "            });\n",
              "            }\n",
              "            loadScript(\"https://cdn.jsdelivr.net/npm/postmate/build/postmate.min.js\").then(() => {\n",
              "            const iframe = document.createElement('iframe')\n",
              "            iframe.style.cssText = \"width:0;height:0;border:none\"\n",
              "            document.body.appendChild(iframe)\n",
              "            const handshake = new Postmate({\n",
              "                container: iframe,\n",
              "                url: 'https://wandb.ai/authorize'\n",
              "            });\n",
              "            const timeout = setTimeout(() => reject(\"Couldn't auto authenticate\"), 5000)\n",
              "            handshake.then(function(child) {\n",
              "                child.on('authorize', data => {\n",
              "                    clearTimeout(timeout)\n",
              "                    resolve(data)\n",
              "                });\n",
              "            });\n",
              "            })\n",
              "        });\n",
              "    "
            ]
          },
          "metadata": {}
        },
        {
          "output_type": "stream",
          "name": "stderr",
          "text": [
            "\u001b[34m\u001b[1mwandb\u001b[0m: Logging into wandb.ai. (Learn how to deploy a W&B server locally: https://wandb.me/wandb-server)\n",
            "\u001b[34m\u001b[1mwandb\u001b[0m: You can find your API key in your browser here: https://wandb.ai/authorize?ref=models\n",
            "wandb: Paste an API key from your profile and hit enter:"
          ]
        },
        {
          "name": "stdout",
          "output_type": "stream",
          "text": [
            " ··········\n"
          ]
        },
        {
          "output_type": "stream",
          "name": "stderr",
          "text": [
            "\u001b[34m\u001b[1mwandb\u001b[0m: \u001b[33mWARNING\u001b[0m If you're specifying your api key in code, ensure this code is not shared publicly.\n",
            "\u001b[34m\u001b[1mwandb\u001b[0m: \u001b[33mWARNING\u001b[0m Consider setting the WANDB_API_KEY environment variable, or running `wandb login` from the command line.\n",
            "\u001b[34m\u001b[1mwandb\u001b[0m: No netrc file found, creating one.\n",
            "\u001b[34m\u001b[1mwandb\u001b[0m: Appending key for api.wandb.ai to your netrc file: /root/.netrc\n",
            "\u001b[34m\u001b[1mwandb\u001b[0m: Currently logged in as: \u001b[33maika1108\u001b[0m (\u001b[33maika1108-korea-research-institute-of-bioscience-and-biot\u001b[0m) to \u001b[32mhttps://api.wandb.ai\u001b[0m. Use \u001b[1m`wandb login --relogin`\u001b[0m to force relogin\n"
          ]
        },
        {
          "output_type": "display_data",
          "data": {
            "text/plain": [
              "<IPython.core.display.HTML object>"
            ],
            "text/html": [
              "Tracking run with wandb version 0.21.0"
            ]
          },
          "metadata": {}
        },
        {
          "output_type": "display_data",
          "data": {
            "text/plain": [
              "<IPython.core.display.HTML object>"
            ],
            "text/html": [
              "Run data is saved locally in <code>/content/wandb/run-20250806_055316-yjmp38mb</code>"
            ]
          },
          "metadata": {}
        },
        {
          "output_type": "display_data",
          "data": {
            "text/plain": [
              "<IPython.core.display.HTML object>"
            ],
            "text/html": [
              "Syncing run <strong><a href='https://wandb.ai/aika1108-korea-research-institute-of-bioscience-and-biot/ChemBERTa_SMILES/runs/yjmp38mb' target=\"_blank\">scarlet-wildflower-8</a></strong> to <a href='https://wandb.ai/aika1108-korea-research-institute-of-bioscience-and-biot/ChemBERTa_SMILES' target=\"_blank\">Weights & Biases</a> (<a href='https://wandb.me/developer-guide' target=\"_blank\">docs</a>)<br>"
            ]
          },
          "metadata": {}
        },
        {
          "output_type": "display_data",
          "data": {
            "text/plain": [
              "<IPython.core.display.HTML object>"
            ],
            "text/html": [
              " View project at <a href='https://wandb.ai/aika1108-korea-research-institute-of-bioscience-and-biot/ChemBERTa_SMILES' target=\"_blank\">https://wandb.ai/aika1108-korea-research-institute-of-bioscience-and-biot/ChemBERTa_SMILES</a>"
            ]
          },
          "metadata": {}
        },
        {
          "output_type": "display_data",
          "data": {
            "text/plain": [
              "<IPython.core.display.HTML object>"
            ],
            "text/html": [
              " View run at <a href='https://wandb.ai/aika1108-korea-research-institute-of-bioscience-and-biot/ChemBERTa_SMILES/runs/yjmp38mb' target=\"_blank\">https://wandb.ai/aika1108-korea-research-institute-of-bioscience-and-biot/ChemBERTa_SMILES/runs/yjmp38mb</a>"
            ]
          },
          "metadata": {}
        },
        {
          "output_type": "stream",
          "name": "stdout",
          "text": [
            "========== Fold 1/5 ==========\n"
          ]
        },
        {
          "output_type": "stream",
          "name": "stderr",
          "text": [
            "Some weights of RobertaForSequenceClassification were not initialized from the model checkpoint at seyonec/ChemBERTa-zinc-base-v1 and are newly initialized: ['classifier.dense.bias', 'classifier.dense.weight', 'classifier.out_proj.bias', 'classifier.out_proj.weight']\n",
            "You should probably TRAIN this model on a down-stream task to be able to use it for predictions and inference.\n",
            "Using the `WANDB_DISABLED` environment variable is deprecated and will be removed in v5. Use the --report_to flag to control the integrations used for logging result (for instance --report_to none).\n"
          ]
        },
        {
          "output_type": "display_data",
          "data": {
            "text/plain": [
              "<IPython.core.display.HTML object>"
            ],
            "text/html": [
              "\n",
              "    <div>\n",
              "      \n",
              "      <progress value='2530' max='2530' style='width:300px; height:20px; vertical-align: middle;'></progress>\n",
              "      [2530/2530 31:24, Epoch 10/10]\n",
              "    </div>\n",
              "    <table border=\"1\" class=\"dataframe\">\n",
              "  <thead>\n",
              " <tr style=\"text-align: left;\">\n",
              "      <th>Epoch</th>\n",
              "      <th>Training Loss</th>\n",
              "      <th>Validation Loss</th>\n",
              "      <th>Roc Auc</th>\n",
              "      <th>Auprc</th>\n",
              "      <th>Accuracy</th>\n",
              "    </tr>\n",
              "  </thead>\n",
              "  <tbody>\n",
              "    <tr>\n",
              "      <td>1</td>\n",
              "      <td>0.270100</td>\n",
              "      <td>0.253464</td>\n",
              "      <td>0.734392</td>\n",
              "      <td>0.968112</td>\n",
              "      <td>0.922392</td>\n",
              "    </tr>\n",
              "    <tr>\n",
              "      <td>2</td>\n",
              "      <td>0.237600</td>\n",
              "      <td>0.273281</td>\n",
              "      <td>0.750256</td>\n",
              "      <td>0.970986</td>\n",
              "      <td>0.922392</td>\n",
              "    </tr>\n",
              "    <tr>\n",
              "      <td>3</td>\n",
              "      <td>0.215900</td>\n",
              "      <td>0.279050</td>\n",
              "      <td>0.708836</td>\n",
              "      <td>0.964987</td>\n",
              "      <td>0.920415</td>\n",
              "    </tr>\n",
              "    <tr>\n",
              "      <td>4</td>\n",
              "      <td>0.134700</td>\n",
              "      <td>0.329066</td>\n",
              "      <td>0.716537</td>\n",
              "      <td>0.961070</td>\n",
              "      <td>0.909540</td>\n",
              "    </tr>\n",
              "    <tr>\n",
              "      <td>5</td>\n",
              "      <td>0.087800</td>\n",
              "      <td>0.469801</td>\n",
              "      <td>0.714400</td>\n",
              "      <td>0.963915</td>\n",
              "      <td>0.910529</td>\n",
              "    </tr>\n",
              "    <tr>\n",
              "      <td>6</td>\n",
              "      <td>0.041800</td>\n",
              "      <td>0.535005</td>\n",
              "      <td>0.667151</td>\n",
              "      <td>0.953591</td>\n",
              "      <td>0.913989</td>\n",
              "    </tr>\n",
              "    <tr>\n",
              "      <td>7</td>\n",
              "      <td>0.040500</td>\n",
              "      <td>0.629283</td>\n",
              "      <td>0.652882</td>\n",
              "      <td>0.951588</td>\n",
              "      <td>0.908552</td>\n",
              "    </tr>\n",
              "    <tr>\n",
              "      <td>8</td>\n",
              "      <td>0.019100</td>\n",
              "      <td>0.678634</td>\n",
              "      <td>0.670251</td>\n",
              "      <td>0.953140</td>\n",
              "      <td>0.899654</td>\n",
              "    </tr>\n",
              "    <tr>\n",
              "      <td>9</td>\n",
              "      <td>0.013400</td>\n",
              "      <td>0.690069</td>\n",
              "      <td>0.668908</td>\n",
              "      <td>0.952775</td>\n",
              "      <td>0.905586</td>\n",
              "    </tr>\n",
              "    <tr>\n",
              "      <td>10</td>\n",
              "      <td>0.007100</td>\n",
              "      <td>0.709735</td>\n",
              "      <td>0.670072</td>\n",
              "      <td>0.953334</td>\n",
              "      <td>0.908057</td>\n",
              "    </tr>\n",
              "  </tbody>\n",
              "</table><p>"
            ]
          },
          "metadata": {}
        },
        {
          "output_type": "display_data",
          "data": {
            "text/plain": [
              "<IPython.core.display.HTML object>"
            ],
            "text/html": []
          },
          "metadata": {}
        },
        {
          "output_type": "stream",
          "name": "stdout",
          "text": [
            "========== Fold 2/5 ==========\n"
          ]
        },
        {
          "output_type": "stream",
          "name": "stderr",
          "text": [
            "Some weights of RobertaForSequenceClassification were not initialized from the model checkpoint at seyonec/ChemBERTa-zinc-base-v1 and are newly initialized: ['classifier.dense.bias', 'classifier.dense.weight', 'classifier.out_proj.bias', 'classifier.out_proj.weight']\n",
            "You should probably TRAIN this model on a down-stream task to be able to use it for predictions and inference.\n",
            "Using the `WANDB_DISABLED` environment variable is deprecated and will be removed in v5. Use the --report_to flag to control the integrations used for logging result (for instance --report_to none).\n"
          ]
        },
        {
          "output_type": "display_data",
          "data": {
            "text/plain": [
              "<IPython.core.display.HTML object>"
            ],
            "text/html": [
              "\n",
              "    <div>\n",
              "      \n",
              "      <progress value='2530' max='2530' style='width:300px; height:20px; vertical-align: middle;'></progress>\n",
              "      [2530/2530 31:15, Epoch 10/10]\n",
              "    </div>\n",
              "    <table border=\"1\" class=\"dataframe\">\n",
              "  <thead>\n",
              " <tr style=\"text-align: left;\">\n",
              "      <th>Epoch</th>\n",
              "      <th>Training Loss</th>\n",
              "      <th>Validation Loss</th>\n",
              "      <th>Roc Auc</th>\n",
              "      <th>Auprc</th>\n",
              "      <th>Accuracy</th>\n",
              "    </tr>\n",
              "  </thead>\n",
              "  <tbody>\n",
              "    <tr>\n",
              "      <td>1</td>\n",
              "      <td>0.253300</td>\n",
              "      <td>0.259564</td>\n",
              "      <td>0.754961</td>\n",
              "      <td>0.969747</td>\n",
              "      <td>0.922887</td>\n",
              "    </tr>\n",
              "    <tr>\n",
              "      <td>2</td>\n",
              "      <td>0.252000</td>\n",
              "      <td>0.249708</td>\n",
              "      <td>0.763099</td>\n",
              "      <td>0.972948</td>\n",
              "      <td>0.922887</td>\n",
              "    </tr>\n",
              "    <tr>\n",
              "      <td>3</td>\n",
              "      <td>0.187200</td>\n",
              "      <td>0.268615</td>\n",
              "      <td>0.757756</td>\n",
              "      <td>0.971632</td>\n",
              "      <td>0.909540</td>\n",
              "    </tr>\n",
              "    <tr>\n",
              "      <td>4</td>\n",
              "      <td>0.154800</td>\n",
              "      <td>0.351577</td>\n",
              "      <td>0.722994</td>\n",
              "      <td>0.965443</td>\n",
              "      <td>0.911023</td>\n",
              "    </tr>\n",
              "    <tr>\n",
              "      <td>5</td>\n",
              "      <td>0.114200</td>\n",
              "      <td>0.406687</td>\n",
              "      <td>0.724218</td>\n",
              "      <td>0.964814</td>\n",
              "      <td>0.898665</td>\n",
              "    </tr>\n",
              "    <tr>\n",
              "      <td>6</td>\n",
              "      <td>0.072100</td>\n",
              "      <td>0.494979</td>\n",
              "      <td>0.657460</td>\n",
              "      <td>0.952545</td>\n",
              "      <td>0.897182</td>\n",
              "    </tr>\n",
              "    <tr>\n",
              "      <td>7</td>\n",
              "      <td>0.040000</td>\n",
              "      <td>0.584206</td>\n",
              "      <td>0.686193</td>\n",
              "      <td>0.957506</td>\n",
              "      <td>0.902620</td>\n",
              "    </tr>\n",
              "    <tr>\n",
              "      <td>8</td>\n",
              "      <td>0.027200</td>\n",
              "      <td>0.638220</td>\n",
              "      <td>0.668021</td>\n",
              "      <td>0.953562</td>\n",
              "      <td>0.904597</td>\n",
              "    </tr>\n",
              "    <tr>\n",
              "      <td>9</td>\n",
              "      <td>0.017900</td>\n",
              "      <td>0.666295</td>\n",
              "      <td>0.681206</td>\n",
              "      <td>0.955186</td>\n",
              "      <td>0.907069</td>\n",
              "    </tr>\n",
              "    <tr>\n",
              "      <td>10</td>\n",
              "      <td>0.007800</td>\n",
              "      <td>0.683485</td>\n",
              "      <td>0.664303</td>\n",
              "      <td>0.951680</td>\n",
              "      <td>0.910035</td>\n",
              "    </tr>\n",
              "  </tbody>\n",
              "</table><p>"
            ]
          },
          "metadata": {}
        },
        {
          "output_type": "display_data",
          "data": {
            "text/plain": [
              "<IPython.core.display.HTML object>"
            ],
            "text/html": []
          },
          "metadata": {}
        },
        {
          "output_type": "stream",
          "name": "stdout",
          "text": [
            "========== Fold 3/5 ==========\n"
          ]
        },
        {
          "output_type": "stream",
          "name": "stderr",
          "text": [
            "Some weights of RobertaForSequenceClassification were not initialized from the model checkpoint at seyonec/ChemBERTa-zinc-base-v1 and are newly initialized: ['classifier.dense.bias', 'classifier.dense.weight', 'classifier.out_proj.bias', 'classifier.out_proj.weight']\n",
            "You should probably TRAIN this model on a down-stream task to be able to use it for predictions and inference.\n",
            "Using the `WANDB_DISABLED` environment variable is deprecated and will be removed in v5. Use the --report_to flag to control the integrations used for logging result (for instance --report_to none).\n"
          ]
        },
        {
          "output_type": "display_data",
          "data": {
            "text/plain": [
              "<IPython.core.display.HTML object>"
            ],
            "text/html": [
              "\n",
              "    <div>\n",
              "      \n",
              "      <progress value='2530' max='2530' style='width:300px; height:20px; vertical-align: middle;'></progress>\n",
              "      [2530/2530 31:07, Epoch 10/10]\n",
              "    </div>\n",
              "    <table border=\"1\" class=\"dataframe\">\n",
              "  <thead>\n",
              " <tr style=\"text-align: left;\">\n",
              "      <th>Epoch</th>\n",
              "      <th>Training Loss</th>\n",
              "      <th>Validation Loss</th>\n",
              "      <th>Roc Auc</th>\n",
              "      <th>Auprc</th>\n",
              "      <th>Accuracy</th>\n",
              "    </tr>\n",
              "  </thead>\n",
              "  <tbody>\n",
              "    <tr>\n",
              "      <td>1</td>\n",
              "      <td>0.265100</td>\n",
              "      <td>0.254698</td>\n",
              "      <td>0.733753</td>\n",
              "      <td>0.966726</td>\n",
              "      <td>0.922887</td>\n",
              "    </tr>\n",
              "    <tr>\n",
              "      <td>2</td>\n",
              "      <td>0.226200</td>\n",
              "      <td>0.239695</td>\n",
              "      <td>0.769461</td>\n",
              "      <td>0.972207</td>\n",
              "      <td>0.922887</td>\n",
              "    </tr>\n",
              "    <tr>\n",
              "      <td>3</td>\n",
              "      <td>0.201800</td>\n",
              "      <td>0.294593</td>\n",
              "      <td>0.744712</td>\n",
              "      <td>0.969082</td>\n",
              "      <td>0.921404</td>\n",
              "    </tr>\n",
              "    <tr>\n",
              "      <td>4</td>\n",
              "      <td>0.157700</td>\n",
              "      <td>0.344128</td>\n",
              "      <td>0.706569</td>\n",
              "      <td>0.964114</td>\n",
              "      <td>0.917944</td>\n",
              "    </tr>\n",
              "    <tr>\n",
              "      <td>5</td>\n",
              "      <td>0.092000</td>\n",
              "      <td>0.425380</td>\n",
              "      <td>0.701068</td>\n",
              "      <td>0.960841</td>\n",
              "      <td>0.906574</td>\n",
              "    </tr>\n",
              "    <tr>\n",
              "      <td>6</td>\n",
              "      <td>0.051600</td>\n",
              "      <td>0.548852</td>\n",
              "      <td>0.690155</td>\n",
              "      <td>0.957986</td>\n",
              "      <td>0.905091</td>\n",
              "    </tr>\n",
              "    <tr>\n",
              "      <td>7</td>\n",
              "      <td>0.036900</td>\n",
              "      <td>0.629467</td>\n",
              "      <td>0.687746</td>\n",
              "      <td>0.957061</td>\n",
              "      <td>0.911518</td>\n",
              "    </tr>\n",
              "    <tr>\n",
              "      <td>8</td>\n",
              "      <td>0.021500</td>\n",
              "      <td>0.703584</td>\n",
              "      <td>0.662474</td>\n",
              "      <td>0.950352</td>\n",
              "      <td>0.915472</td>\n",
              "    </tr>\n",
              "    <tr>\n",
              "      <td>9</td>\n",
              "      <td>0.009800</td>\n",
              "      <td>0.720696</td>\n",
              "      <td>0.667508</td>\n",
              "      <td>0.951174</td>\n",
              "      <td>0.913000</td>\n",
              "    </tr>\n",
              "    <tr>\n",
              "      <td>10</td>\n",
              "      <td>0.013200</td>\n",
              "      <td>0.737454</td>\n",
              "      <td>0.665908</td>\n",
              "      <td>0.950455</td>\n",
              "      <td>0.914483</td>\n",
              "    </tr>\n",
              "  </tbody>\n",
              "</table><p>"
            ]
          },
          "metadata": {}
        },
        {
          "output_type": "display_data",
          "data": {
            "text/plain": [
              "<IPython.core.display.HTML object>"
            ],
            "text/html": []
          },
          "metadata": {}
        },
        {
          "output_type": "stream",
          "name": "stdout",
          "text": [
            "========== Fold 4/5 ==========\n"
          ]
        },
        {
          "output_type": "stream",
          "name": "stderr",
          "text": [
            "Some weights of RobertaForSequenceClassification were not initialized from the model checkpoint at seyonec/ChemBERTa-zinc-base-v1 and are newly initialized: ['classifier.dense.bias', 'classifier.dense.weight', 'classifier.out_proj.bias', 'classifier.out_proj.weight']\n",
            "You should probably TRAIN this model on a down-stream task to be able to use it for predictions and inference.\n",
            "Using the `WANDB_DISABLED` environment variable is deprecated and will be removed in v5. Use the --report_to flag to control the integrations used for logging result (for instance --report_to none).\n"
          ]
        },
        {
          "output_type": "display_data",
          "data": {
            "text/plain": [
              "<IPython.core.display.HTML object>"
            ],
            "text/html": [
              "\n",
              "    <div>\n",
              "      \n",
              "      <progress value='2530' max='2530' style='width:300px; height:20px; vertical-align: middle;'></progress>\n",
              "      [2530/2530 31:18, Epoch 10/10]\n",
              "    </div>\n",
              "    <table border=\"1\" class=\"dataframe\">\n",
              "  <thead>\n",
              " <tr style=\"text-align: left;\">\n",
              "      <th>Epoch</th>\n",
              "      <th>Training Loss</th>\n",
              "      <th>Validation Loss</th>\n",
              "      <th>Roc Auc</th>\n",
              "      <th>Auprc</th>\n",
              "      <th>Accuracy</th>\n",
              "    </tr>\n",
              "  </thead>\n",
              "  <tbody>\n",
              "    <tr>\n",
              "      <td>1</td>\n",
              "      <td>0.239100</td>\n",
              "      <td>0.245611</td>\n",
              "      <td>0.740767</td>\n",
              "      <td>0.968428</td>\n",
              "      <td>0.922887</td>\n",
              "    </tr>\n",
              "    <tr>\n",
              "      <td>2</td>\n",
              "      <td>0.231500</td>\n",
              "      <td>0.299827</td>\n",
              "      <td>0.700181</td>\n",
              "      <td>0.961579</td>\n",
              "      <td>0.922887</td>\n",
              "    </tr>\n",
              "    <tr>\n",
              "      <td>3</td>\n",
              "      <td>0.186000</td>\n",
              "      <td>0.287847</td>\n",
              "      <td>0.724994</td>\n",
              "      <td>0.966415</td>\n",
              "      <td>0.910035</td>\n",
              "    </tr>\n",
              "    <tr>\n",
              "      <td>4</td>\n",
              "      <td>0.142800</td>\n",
              "      <td>0.352679</td>\n",
              "      <td>0.712199</td>\n",
              "      <td>0.963962</td>\n",
              "      <td>0.908057</td>\n",
              "    </tr>\n",
              "    <tr>\n",
              "      <td>5</td>\n",
              "      <td>0.078000</td>\n",
              "      <td>0.427455</td>\n",
              "      <td>0.701205</td>\n",
              "      <td>0.961878</td>\n",
              "      <td>0.900643</td>\n",
              "    </tr>\n",
              "    <tr>\n",
              "      <td>6</td>\n",
              "      <td>0.058700</td>\n",
              "      <td>0.535022</td>\n",
              "      <td>0.731052</td>\n",
              "      <td>0.965795</td>\n",
              "      <td>0.907069</td>\n",
              "    </tr>\n",
              "    <tr>\n",
              "      <td>7</td>\n",
              "      <td>0.028100</td>\n",
              "      <td>0.625957</td>\n",
              "      <td>0.721329</td>\n",
              "      <td>0.962963</td>\n",
              "      <td>0.907563</td>\n",
              "    </tr>\n",
              "    <tr>\n",
              "      <td>8</td>\n",
              "      <td>0.020300</td>\n",
              "      <td>0.657891</td>\n",
              "      <td>0.722055</td>\n",
              "      <td>0.962700</td>\n",
              "      <td>0.905586</td>\n",
              "    </tr>\n",
              "    <tr>\n",
              "      <td>9</td>\n",
              "      <td>0.018500</td>\n",
              "      <td>0.693561</td>\n",
              "      <td>0.703702</td>\n",
              "      <td>0.960134</td>\n",
              "      <td>0.908057</td>\n",
              "    </tr>\n",
              "    <tr>\n",
              "      <td>10</td>\n",
              "      <td>0.007800</td>\n",
              "      <td>0.713345</td>\n",
              "      <td>0.702878</td>\n",
              "      <td>0.959770</td>\n",
              "      <td>0.908552</td>\n",
              "    </tr>\n",
              "  </tbody>\n",
              "</table><p>"
            ]
          },
          "metadata": {}
        },
        {
          "output_type": "display_data",
          "data": {
            "text/plain": [
              "<IPython.core.display.HTML object>"
            ],
            "text/html": []
          },
          "metadata": {}
        },
        {
          "output_type": "stream",
          "name": "stdout",
          "text": [
            "========== Fold 5/5 ==========\n"
          ]
        },
        {
          "output_type": "stream",
          "name": "stderr",
          "text": [
            "Some weights of RobertaForSequenceClassification were not initialized from the model checkpoint at seyonec/ChemBERTa-zinc-base-v1 and are newly initialized: ['classifier.dense.bias', 'classifier.dense.weight', 'classifier.out_proj.bias', 'classifier.out_proj.weight']\n",
            "You should probably TRAIN this model on a down-stream task to be able to use it for predictions and inference.\n",
            "Using the `WANDB_DISABLED` environment variable is deprecated and will be removed in v5. Use the --report_to flag to control the integrations used for logging result (for instance --report_to none).\n"
          ]
        },
        {
          "output_type": "display_data",
          "data": {
            "text/plain": [
              "<IPython.core.display.HTML object>"
            ],
            "text/html": [
              "\n",
              "    <div>\n",
              "      \n",
              "      <progress value='2530' max='2530' style='width:300px; height:20px; vertical-align: middle;'></progress>\n",
              "      [2530/2530 31:36, Epoch 10/10]\n",
              "    </div>\n",
              "    <table border=\"1\" class=\"dataframe\">\n",
              "  <thead>\n",
              " <tr style=\"text-align: left;\">\n",
              "      <th>Epoch</th>\n",
              "      <th>Training Loss</th>\n",
              "      <th>Validation Loss</th>\n",
              "      <th>Roc Auc</th>\n",
              "      <th>Auprc</th>\n",
              "      <th>Accuracy</th>\n",
              "    </tr>\n",
              "  </thead>\n",
              "  <tbody>\n",
              "    <tr>\n",
              "      <td>1</td>\n",
              "      <td>0.251900</td>\n",
              "      <td>0.259332</td>\n",
              "      <td>0.724940</td>\n",
              "      <td>0.965512</td>\n",
              "      <td>0.916419</td>\n",
              "    </tr>\n",
              "    <tr>\n",
              "      <td>2</td>\n",
              "      <td>0.232900</td>\n",
              "      <td>0.270929</td>\n",
              "      <td>0.718577</td>\n",
              "      <td>0.962458</td>\n",
              "      <td>0.916419</td>\n",
              "    </tr>\n",
              "    <tr>\n",
              "      <td>3</td>\n",
              "      <td>0.206000</td>\n",
              "      <td>0.291242</td>\n",
              "      <td>0.710204</td>\n",
              "      <td>0.963325</td>\n",
              "      <td>0.904550</td>\n",
              "    </tr>\n",
              "    <tr>\n",
              "      <td>4</td>\n",
              "      <td>0.150300</td>\n",
              "      <td>0.370173</td>\n",
              "      <td>0.697883</td>\n",
              "      <td>0.960977</td>\n",
              "      <td>0.898615</td>\n",
              "    </tr>\n",
              "    <tr>\n",
              "      <td>5</td>\n",
              "      <td>0.087000</td>\n",
              "      <td>0.472750</td>\n",
              "      <td>0.697493</td>\n",
              "      <td>0.958583</td>\n",
              "      <td>0.906034</td>\n",
              "    </tr>\n",
              "    <tr>\n",
              "      <td>6</td>\n",
              "      <td>0.048100</td>\n",
              "      <td>0.566333</td>\n",
              "      <td>0.686193</td>\n",
              "      <td>0.957354</td>\n",
              "      <td>0.907023</td>\n",
              "    </tr>\n",
              "    <tr>\n",
              "      <td>7</td>\n",
              "      <td>0.048400</td>\n",
              "      <td>0.650524</td>\n",
              "      <td>0.675202</td>\n",
              "      <td>0.957212</td>\n",
              "      <td>0.911474</td>\n",
              "    </tr>\n",
              "    <tr>\n",
              "      <td>8</td>\n",
              "      <td>0.030700</td>\n",
              "      <td>0.704268</td>\n",
              "      <td>0.692129</td>\n",
              "      <td>0.958058</td>\n",
              "      <td>0.910485</td>\n",
              "    </tr>\n",
              "    <tr>\n",
              "      <td>9</td>\n",
              "      <td>0.017400</td>\n",
              "      <td>0.724536</td>\n",
              "      <td>0.693613</td>\n",
              "      <td>0.958952</td>\n",
              "      <td>0.902572</td>\n",
              "    </tr>\n",
              "    <tr>\n",
              "      <td>10</td>\n",
              "      <td>0.007200</td>\n",
              "      <td>0.748138</td>\n",
              "      <td>0.688237</td>\n",
              "      <td>0.958357</td>\n",
              "      <td>0.909001</td>\n",
              "    </tr>\n",
              "  </tbody>\n",
              "</table><p>"
            ]
          },
          "metadata": {}
        },
        {
          "output_type": "display_data",
          "data": {
            "text/plain": [
              "<IPython.core.display.HTML object>"
            ],
            "text/html": []
          },
          "metadata": {}
        },
        {
          "output_type": "stream",
          "name": "stdout",
          "text": [
            "{\n",
            "  \"test_loss\": 0.24956215023994446,\n",
            "  \"test_roc_auc\": 0.7465317182034689,\n",
            "  \"test_auprc\": 0.9694413045037976,\n",
            "  \"test_accuracy\": 0.9214944556981459,\n",
            "  \"test_runtime\": 13.67996,\n",
            "  \"test_samples_per_second\": 147.8808,\n",
            "  \"test_steps_per_second\": 2.3394\n",
            "}\n",
            "[INFO] OOF probabilities saved ➜ /content/outputs/0428_chemberta_smiles/oof_preds.csv\n"
          ]
        },
        {
          "output_type": "display_data",
          "data": {
            "text/plain": [
              "<IPython.core.display.HTML object>"
            ],
            "text/html": []
          },
          "metadata": {}
        },
        {
          "output_type": "display_data",
          "data": {
            "text/plain": [
              "<IPython.core.display.HTML object>"
            ],
            "text/html": [
              "<br>    <style><br>        .wandb-row {<br>            display: flex;<br>            flex-direction: row;<br>            flex-wrap: wrap;<br>            justify-content: flex-start;<br>            width: 100%;<br>        }<br>        .wandb-col {<br>            display: flex;<br>            flex-direction: column;<br>            flex-basis: 100%;<br>            flex: 1;<br>            padding: 10px;<br>        }<br>    </style><br><div class=\"wandb-row\"><div class=\"wandb-col\"><h3>Run history:</h3><br/><table class=\"wandb\"><tr><td>CV_test_accuracy</td><td>▁</td></tr><tr><td>CV_test_auprc</td><td>▁</td></tr><tr><td>CV_test_loss</td><td>▁</td></tr><tr><td>CV_test_roc_auc</td><td>▁</td></tr><tr><td>CV_test_runtime</td><td>▁</td></tr><tr><td>CV_test_samples_per_second</td><td>▁</td></tr><tr><td>CV_test_steps_per_second</td><td>▁</td></tr><tr><td>fold0_test_accuracy</td><td>▁</td></tr><tr><td>fold0_test_auprc</td><td>▁</td></tr><tr><td>fold0_test_loss</td><td>▁</td></tr><tr><td>fold0_test_roc_auc</td><td>▁</td></tr><tr><td>fold0_test_runtime</td><td>▁</td></tr><tr><td>fold0_test_samples_per_second</td><td>▁</td></tr><tr><td>fold0_test_steps_per_second</td><td>▁</td></tr><tr><td>fold1_test_accuracy</td><td>▁</td></tr><tr><td>fold1_test_auprc</td><td>▁</td></tr><tr><td>fold1_test_loss</td><td>▁</td></tr><tr><td>fold1_test_roc_auc</td><td>▁</td></tr><tr><td>fold1_test_runtime</td><td>▁</td></tr><tr><td>fold1_test_samples_per_second</td><td>▁</td></tr><tr><td>fold1_test_steps_per_second</td><td>▁</td></tr><tr><td>fold2_test_accuracy</td><td>▁</td></tr><tr><td>fold2_test_auprc</td><td>▁</td></tr><tr><td>fold2_test_loss</td><td>▁</td></tr><tr><td>fold2_test_roc_auc</td><td>▁</td></tr><tr><td>fold2_test_runtime</td><td>▁</td></tr><tr><td>fold2_test_samples_per_second</td><td>▁</td></tr><tr><td>fold2_test_steps_per_second</td><td>▁</td></tr><tr><td>fold3_test_accuracy</td><td>▁</td></tr><tr><td>fold3_test_auprc</td><td>▁</td></tr><tr><td>fold3_test_loss</td><td>▁</td></tr><tr><td>fold3_test_roc_auc</td><td>▁</td></tr><tr><td>fold3_test_runtime</td><td>▁</td></tr><tr><td>fold3_test_samples_per_second</td><td>▁</td></tr><tr><td>fold3_test_steps_per_second</td><td>▁</td></tr><tr><td>fold4_test_accuracy</td><td>▁</td></tr><tr><td>fold4_test_auprc</td><td>▁</td></tr><tr><td>fold4_test_loss</td><td>▁</td></tr><tr><td>fold4_test_roc_auc</td><td>▁</td></tr><tr><td>fold4_test_runtime</td><td>▁</td></tr><tr><td>fold4_test_samples_per_second</td><td>▁</td></tr><tr><td>fold4_test_steps_per_second</td><td>▁</td></tr></table><br/></div><div class=\"wandb-col\"><h3>Run summary:</h3><br/><table class=\"wandb\"><tr><td>CV_test_accuracy</td><td>0.92149</td></tr><tr><td>CV_test_auprc</td><td>0.96944</td></tr><tr><td>CV_test_loss</td><td>0.24956</td></tr><tr><td>CV_test_roc_auc</td><td>0.74653</td></tr><tr><td>CV_test_runtime</td><td>13.67996</td></tr><tr><td>CV_test_samples_per_second</td><td>147.8808</td></tr><tr><td>CV_test_steps_per_second</td><td>2.3394</td></tr><tr><td>fold0_test_accuracy</td><td>0.92239</td></tr><tr><td>fold0_test_auprc</td><td>0.96811</td></tr><tr><td>fold0_test_loss</td><td>0.25346</td></tr><tr><td>fold0_test_roc_auc</td><td>0.73439</td></tr><tr><td>fold0_test_runtime</td><td>13.7918</td></tr><tr><td>fold0_test_samples_per_second</td><td>146.681</td></tr><tr><td>fold0_test_steps_per_second</td><td>2.32</td></tr><tr><td>fold1_test_accuracy</td><td>0.92289</td></tr><tr><td>fold1_test_auprc</td><td>0.97295</td></tr><tr><td>fold1_test_loss</td><td>0.24971</td></tr><tr><td>fold1_test_roc_auc</td><td>0.7631</td></tr><tr><td>fold1_test_runtime</td><td>13.4954</td></tr><tr><td>fold1_test_samples_per_second</td><td>149.903</td></tr><tr><td>fold1_test_steps_per_second</td><td>2.371</td></tr><tr><td>fold2_test_accuracy</td><td>0.92289</td></tr><tr><td>fold2_test_auprc</td><td>0.97221</td></tr><tr><td>fold2_test_loss</td><td>0.23969</td></tr><tr><td>fold2_test_roc_auc</td><td>0.76946</td></tr><tr><td>fold2_test_runtime</td><td>13.5309</td></tr><tr><td>fold2_test_samples_per_second</td><td>149.51</td></tr><tr><td>fold2_test_steps_per_second</td><td>2.365</td></tr><tr><td>fold3_test_accuracy</td><td>0.92289</td></tr><tr><td>fold3_test_auprc</td><td>0.96843</td></tr><tr><td>fold3_test_loss</td><td>0.24561</td></tr><tr><td>fold3_test_roc_auc</td><td>0.74077</td></tr><tr><td>fold3_test_runtime</td><td>13.778</td></tr><tr><td>fold3_test_samples_per_second</td><td>146.828</td></tr><tr><td>fold3_test_steps_per_second</td><td>2.323</td></tr><tr><td>fold4_test_accuracy</td><td>0.91642</td></tr><tr><td>fold4_test_auprc</td><td>0.96551</td></tr><tr><td>fold4_test_loss</td><td>0.25933</td></tr><tr><td>fold4_test_roc_auc</td><td>0.72494</td></tr><tr><td>fold4_test_runtime</td><td>13.8037</td></tr><tr><td>fold4_test_samples_per_second</td><td>146.482</td></tr><tr><td>fold4_test_steps_per_second</td><td>2.318</td></tr></table><br/></div></div>"
            ]
          },
          "metadata": {}
        },
        {
          "output_type": "display_data",
          "data": {
            "text/plain": [
              "<IPython.core.display.HTML object>"
            ],
            "text/html": [
              " View run <strong style=\"color:#cdcd00\">scarlet-wildflower-8</strong> at: <a href='https://wandb.ai/aika1108-korea-research-institute-of-bioscience-and-biot/ChemBERTa_SMILES/runs/yjmp38mb' target=\"_blank\">https://wandb.ai/aika1108-korea-research-institute-of-bioscience-and-biot/ChemBERTa_SMILES/runs/yjmp38mb</a><br> View project at: <a href='https://wandb.ai/aika1108-korea-research-institute-of-bioscience-and-biot/ChemBERTa_SMILES' target=\"_blank\">https://wandb.ai/aika1108-korea-research-institute-of-bioscience-and-biot/ChemBERTa_SMILES</a><br>Synced 5 W&B file(s), 0 media file(s), 0 artifact file(s) and 0 other file(s)"
            ]
          },
          "metadata": {}
        },
        {
          "output_type": "display_data",
          "data": {
            "text/plain": [
              "<IPython.core.display.HTML object>"
            ],
            "text/html": [
              "Find logs at: <code>./wandb/run-20250806_055316-yjmp38mb/logs</code>"
            ]
          },
          "metadata": {}
        }
      ]
    },
    {
      "cell_type": "code",
      "source": [
        "files.download('/content/outputs/0428_chemberta_smiles/cv_metrics.json')"
      ],
      "metadata": {
        "id": "LyzcRfvDkTaS",
        "outputId": "2fb46248-ab01-4e29-e990-4a22085b3a1e",
        "colab": {
          "base_uri": "https://localhost:8080/",
          "height": 17
        }
      },
      "id": "LyzcRfvDkTaS",
      "execution_count": null,
      "outputs": [
        {
          "output_type": "display_data",
          "data": {
            "text/plain": [
              "<IPython.core.display.Javascript object>"
            ],
            "application/javascript": [
              "\n",
              "    async function download(id, filename, size) {\n",
              "      if (!google.colab.kernel.accessAllowed) {\n",
              "        return;\n",
              "      }\n",
              "      const div = document.createElement('div');\n",
              "      const label = document.createElement('label');\n",
              "      label.textContent = `Downloading \"${filename}\": `;\n",
              "      div.appendChild(label);\n",
              "      const progress = document.createElement('progress');\n",
              "      progress.max = size;\n",
              "      div.appendChild(progress);\n",
              "      document.body.appendChild(div);\n",
              "\n",
              "      const buffers = [];\n",
              "      let downloaded = 0;\n",
              "\n",
              "      const channel = await google.colab.kernel.comms.open(id);\n",
              "      // Send a message to notify the kernel that we're ready.\n",
              "      channel.send({})\n",
              "\n",
              "      for await (const message of channel.messages) {\n",
              "        // Send a message to notify the kernel that we're ready.\n",
              "        channel.send({})\n",
              "        if (message.buffers) {\n",
              "          for (const buffer of message.buffers) {\n",
              "            buffers.push(buffer);\n",
              "            downloaded += buffer.byteLength;\n",
              "            progress.value = downloaded;\n",
              "          }\n",
              "        }\n",
              "      }\n",
              "      const blob = new Blob(buffers, {type: 'application/binary'});\n",
              "      const a = document.createElement('a');\n",
              "      a.href = window.URL.createObjectURL(blob);\n",
              "      a.download = filename;\n",
              "      div.appendChild(a);\n",
              "      a.click();\n",
              "      div.remove();\n",
              "    }\n",
              "  "
            ]
          },
          "metadata": {}
        },
        {
          "output_type": "display_data",
          "data": {
            "text/plain": [
              "<IPython.core.display.Javascript object>"
            ],
            "application/javascript": [
              "download(\"download_bfeb40d8-c51f-4821-8870-bf2c8350e3df\", \"cv_metrics.json\", 253)"
            ]
          },
          "metadata": {}
        }
      ]
    },
    {
      "cell_type": "code",
      "source": [
        "import pandas as pd\n",
        "import numpy as np\n",
        "import matplotlib.pyplot as plt\n",
        "from sklearn.metrics import (\n",
        "    roc_auc_score,\n",
        "    average_precision_score,\n",
        "    accuracy_score,\n",
        "    roc_curve,\n",
        "    precision_recall_curve\n",
        ")\n",
        "\n",
        "# 파일 경로 설정\n",
        "oof_path = \"/content/outputs/0428_chemberta_smiles/oof_preds.csv\"\n",
        "\n",
        "# OOF 예측 데이터 로드\n",
        "oof = pd.read_csv(oof_path)\n",
        "\n",
        "# 폴드별 지표 계산\n",
        "folds = sorted(oof[\"fold\"].unique())\n",
        "auroc_list, auprc_list, acc_list = [], [], []\n",
        "\n",
        "for fold in folds:\n",
        "    df_fold = oof[oof[\"fold\"] == fold]\n",
        "    y_true = df_fold[\"label\"].values\n",
        "    y_prob = df_fold[\"prob\"].values\n",
        "\n",
        "    auroc = roc_auc_score(y_true, y_prob)\n",
        "    auprc = average_precision_score(y_true, y_prob)\n",
        "    acc = accuracy_score(y_true, y_prob > 0.5)\n",
        "\n",
        "    auroc_list.append(auroc)\n",
        "    auprc_list.append(auprc)\n",
        "    acc_list.append(acc)\n",
        "\n",
        "# 1. 폴드별 AUROC 및 AUPRC 바 차트\n",
        "x = np.arange(len(folds))\n",
        "width = 0.35\n",
        "\n",
        "fig1, ax1 = plt.subplots()\n",
        "ax1.bar(x - width/2, auroc_list, width, label=\"AUROC\")\n",
        "ax1.bar(x + width/2, auprc_list, width, label=\"AUPRC\")\n",
        "ax1.set_xticks(x)\n",
        "ax1.set_xticklabels([f\"Fold {f}\" for f in folds])\n",
        "ax1.set_ylabel(\"Score\")\n",
        "ax1.set_xlabel(\"Fold\")\n",
        "ax1.set_title(\"Per-Fold AUROC and AUPRC\")\n",
        "ax1.legend()\n",
        "plt.tight_layout()\n",
        "plt.show()\n",
        "\n",
        "# 2. 폴드별 ROC 커브\n",
        "fig2, ax2 = plt.subplots()\n",
        "mean_fpr = np.linspace(0, 1, 100)\n",
        "tprs = []\n",
        "\n",
        "for fold in folds:\n",
        "    df_fold = oof[oof[\"fold\"] == fold]\n",
        "    fpr, tpr, _ = roc_curve(df_fold[\"label\"], df_fold[\"prob\"])\n",
        "    ax2.plot(fpr, tpr, label=f\"Fold {fold}\")\n",
        "    tprs.append(np.interp(mean_fpr, fpr, tpr))\n",
        "\n",
        "mean_tpr = np.mean(tprs, axis=0)\n",
        "ax2.plot(mean_fpr, mean_tpr, linestyle=\"--\", label=\"Mean ROC\")\n",
        "ax2.plot([0, 1], [0, 1], linestyle=\":\")\n",
        "ax2.set_xlabel(\"False Positive Rate\")\n",
        "ax2.set_ylabel(\"True Positive Rate\")\n",
        "ax2.set_title(\"ROC Curves per Fold\")\n",
        "ax2.legend()\n",
        "plt.tight_layout()\n",
        "plt.show()\n",
        "\n",
        "# 3. 폴드별 Precision-Recall 커브\n",
        "fig3, ax3 = plt.subplots()\n",
        "\n",
        "for fold in folds:\n",
        "    df_fold = oof[oof[\"fold\"] == fold]\n",
        "    precision, recall, _ = precision_recall_curve(df_fold[\"label\"], df_fold[\"prob\"])\n",
        "    ax3.plot(recall, precision, label=f\"Fold {fold}\")\n",
        "\n",
        "ax3.set_xlabel(\"Recall\")\n",
        "ax3.set_ylabel(\"Precision\")\n",
        "ax3.set_title(\"Precision-Recall Curves per Fold\")\n",
        "ax3.legend()\n",
        "plt.tight_layout()\n",
        "plt.show()"
      ],
      "metadata": {
        "id": "pIh0RUS2lzGK",
        "outputId": "64337093-fb67-4d64-fb17-4571c97d88f1",
        "colab": {
          "base_uri": "https://localhost:8080/",
          "height": 1000
        }
      },
      "id": "pIh0RUS2lzGK",
      "execution_count": null,
      "outputs": [
        {
          "output_type": "display_data",
          "data": {
            "text/plain": [
              "<Figure size 640x480 with 1 Axes>"
            ],
            "image/png": "[encoded data removed]"
          },
          "metadata": {}
        },
        {
          "output_type": "display_data",
          "data": {
            "text/plain": [
              "<Figure size 640x480 with 1 Axes>"
            ],
            "image/png": "[encoded data removed]"
          },
          "metadata": {}
        },
        {
          "output_type": "display_data",
          "data": {
            "text/plain": [
              "<Figure size 640x480 with 1 Axes>"
            ],
            "image/png": "[encoded data removed]"
          },
          "metadata": {}
        }
      ]
    },
    {
      "cell_type": "code",
      "source": [
        "import pandas as pd\n",
        "import numpy as np\n",
        "from sklearn.metrics import roc_curve, auc, precision_recall_curve, average_precision_score\n",
        "import matplotlib.pyplot as plt\n",
        "\n",
        "# Load OOF predictions\n",
        "oof_path = \"/content/outputs/0428_chemberta_smiles/oof_preds.csv\"\n",
        "df = pd.read_csv(oof_path)\n",
        "y_true = df[\"label\"]\n",
        "y_prob = df[\"prob\"]\n",
        "\n",
        "# ROC Curve\n",
        "fpr, tpr, _ = roc_curve(y_true, y_prob)\n",
        "roc_auc = auc(fpr, tpr)\n",
        "\n",
        "plt.figure()\n",
        "plt.plot(fpr, tpr, label=f\"ROC AUC = {roc_auc:.3f}\")\n",
        "plt.plot([0, 1], [0, 1])\n",
        "plt.title(\"Receiver Operating Characteristic\")\n",
        "plt.xlabel(\"False Positive Rate\")\n",
        "plt.ylabel(\"True Positive Rate\")\n",
        "plt.legend(loc=\"lower right\")\n",
        "plt.grid(True)\n",
        "plt.show()\n",
        "\n",
        "# Precision-Recall Curve\n",
        "precision, recall, _ = precision_recall_curve(y_true, y_prob)\n",
        "pr_auc = average_precision_score(y_true, y_prob)\n",
        "\n",
        "plt.figure()\n",
        "plt.plot(recall, precision, label=f\"AP = {pr_auc:.3f}\")\n",
        "plt.title(\"Precision-Recall Curve\")\n",
        "plt.xlabel(\"Recall\")\n",
        "plt.ylabel(\"Precision\")\n",
        "plt.legend(loc=\"lower left\")\n",
        "plt.grid(True)\n",
        "plt.show()\n",
        "\n",
        "# Probability Distribution by Class\n",
        "plt.figure()\n",
        "plt.hist(y_prob[y_true == 0], bins=20, alpha=0.7, label=\"Negative\")\n",
        "plt.hist(y_prob[y_true == 1], bins=20, alpha=0.7, label=\"Positive\")\n",
        "plt.title(\"Predicted Probability Distribution\")\n",
        "plt.xlabel(\"Predicted Probability\")\n",
        "plt.ylabel(\"Count\")\n",
        "plt.legend()\n",
        "plt.grid(True)\n",
        "plt.show()\n"
      ],
      "metadata": {
        "id": "RKc8nErWmQHu",
        "outputId": "973bd046-1e31-4c60-ba57-c43234aa8895",
        "colab": {
          "base_uri": "https://localhost:8080/",
          "height": 1000
        }
      },
      "id": "RKc8nErWmQHu",
      "execution_count": null,
      "outputs": [
        {
          "output_type": "display_data",
          "data": {
            "text/plain": [
              "<Figure size 640x480 with 1 Axes>"
            ],
            "image/png": "[encoded data removed]"
          },
          "metadata": {}
        },
        {
          "output_type": "display_data",
          "data": {
            "text/plain": [
              "<Figure size 640x480 with 1 Axes>"
            ],
            "image/png": "[encoded data removed]"
          },
          "metadata": {}
        },
        {
          "output_type": "display_data",
          "data": {
            "text/plain": [
              "<Figure size 640x480 with 1 Axes>"
            ],
            "image/png": "[encoded data removed]"
          },
          "metadata": {}
        }
      ]
    },
    {
      "cell_type": "code",
      "source": [
        "import pandas as pd\n",
        "from sklearn.metrics import roc_curve, auc, precision_recall_curve, average_precision_score\n",
        "import matplotlib.pyplot as plt\n",
        "\n",
        "# 1) OOF 예측 불러오기\n",
        "oof_path = \"/content/outputs/0428_chemberta_smiles/oof_preds.csv\"  # 실제 경로로 수정 가능\n",
        "df = pd.read_csv(oof_path)\n",
        "y_true = df[\"label\"]\n",
        "y_prob = df[\"prob\"]\n",
        "\n",
        "# 2) ROC Curve\n",
        "fpr, tpr, _ = roc_curve(y_true, y_prob)\n",
        "roc_auc = auc(fpr, tpr)\n",
        "\n",
        "plt.figure()\n",
        "plt.plot(fpr, tpr, label=f\"ROC AUC = {roc_auc:.3f}\")\n",
        "plt.plot([0, 1], [0, 1], linestyle=\"--\")\n",
        "plt.title(\"Receiver Operating Characteristic\")\n",
        "plt.xlabel(\"False Positive Rate\")\n",
        "plt.ylabel(\"True Positive Rate\")\n",
        "plt.legend(loc=\"lower right\")\n",
        "plt.grid(True)\n",
        "plt.show()\n",
        "\n",
        "# 3) Precision–Recall Curve\n",
        "precision, recall, _ = precision_recall_curve(y_true, y_prob)\n",
        "pr_auc = average_precision_score(y_true, y_prob)\n",
        "\n",
        "plt.figure()\n",
        "plt.plot(recall, precision, label=f\"Average Precision (AP) = {pr_auc:.3f}\")\n",
        "plt.title(\"Precision–Recall Curve\")\n",
        "plt.xlabel(\"Recall\")\n",
        "plt.ylabel(\"Precision\")\n",
        "plt.legend(loc=\"lower left\")\n",
        "plt.grid(True)\n",
        "plt.show()\n",
        "\n",
        "# 4) Predicted Probability Distribution by True Class\n",
        "plt.figure()\n",
        "plt.hist(y_prob[y_true == 0], bins=20, alpha=0.7, label=\"Negative (0)\")\n",
        "plt.hist(y_prob[y_true == 1], bins=20, alpha=0.7, label=\"Positive (1)\")\n",
        "plt.title(\"Predicted Probability Distribution\")\n",
        "plt.xlabel(\"Predicted Probability\")\n",
        "plt.ylabel(\"Count\")\n",
        "plt.legend()\n",
        "plt.grid(True)\n",
        "plt.show()\n"
      ],
      "metadata": {
        "id": "qMa73mMdmghU",
        "outputId": "7211b25f-cc21-4c66-ed23-8d4056cfeb2b",
        "colab": {
          "base_uri": "https://localhost:8080/",
          "height": 1000
        }
      },
      "id": "qMa73mMdmghU",
      "execution_count": null,
      "outputs": [
        {
          "output_type": "display_data",
          "data": {
            "text/plain": [
              "<Figure size 640x480 with 1 Axes>"
            ],
            "image/png": "[encoded data removed]"
          },
          "metadata": {}
        },
        {
          "output_type": "display_data",
          "data": {
            "text/plain": [
              "<Figure size 640x480 with 1 Axes>"
            ],
            "image/png": "[encoded data removed]"
          },
          "metadata": {}
        },
        {
          "output_type": "display_data",
          "data": {
            "text/plain": [
              "<Figure size 640x480 with 1 Axes>"
            ],
            "image/png": "[encoded data removed]"
          },
          "metadata": {}
        }
      ]
    },
    {
      "cell_type": "code",
      "source": [
        "import wandb, json, pandas as pd\n",
        "\n",
        "# 이미 run이 살아 있다면 이걸로 가져오고, 아니면 init\n",
        "run = wandb.run or wandb.init()\n",
        "\n",
        "# Summary 전체를 dict로 가져오기\n",
        "metrics = run.summary._as_dict()\n",
        "\n",
        "# JSON 저장\n",
        "json_path = \"/content/outputs/0428_chemberta_smiles/run_summary.json\"\n",
        "with open(json_path, \"w\") as f:\n",
        "    json.dump(metrics, f, indent=2)\n",
        "print(f\"▶ JSON 저장됨: {json_path}\")\n",
        "\n",
        "# CSV 저장\n",
        "df = pd.DataFrame.from_dict(metrics, orient=\"index\", columns=[\"value\"])\n",
        "csv_path = \"/content/outputs/0428_chemberta_smiles/run_summary.csv\"\n",
        "df.to_csv(csv_path)\n",
        "print(f\"▶ CSV 저장됨: {csv_path}\")\n"
      ],
      "metadata": {
        "colab": {
          "base_uri": "https://localhost:8080/"
        },
        "id": "vqdB7gecjt9k",
        "outputId": "37be8268-8591-4d4f-f9b1-f6696b9b3e8e"
      },
      "id": "vqdB7gecjt9k",
      "execution_count": null,
      "outputs": [
        {
          "output_type": "stream",
          "name": "stdout",
          "text": [
            "▶ JSON 저장됨: /content/outputs/0428_chemberta_smiles/run_summary.json\n",
            "▶ CSV 저장됨: /content/outputs/0428_chemberta_smiles/run_summary.csv\n"
          ]
        }
      ]
    },
    {
      "cell_type": "code",
      "source": [
        "from google.colab import files\n",
        "\n",
        "files.download('/content/outputs/0428_chemberta_smiles/run_summary.json')\n",
        "files.download('/content/outputs/0428_chemberta_smiles/run_summary.csv')\n"
      ],
      "metadata": {
        "id": "UdRdr24Gj-yS",
        "outputId": "8b21ff9b-b411-4c88-a792-0a4540c3c6a3",
        "colab": {
          "base_uri": "https://localhost:8080/",
          "height": 17
        }
      },
      "id": "UdRdr24Gj-yS",
      "execution_count": null,
      "outputs": [
        {
          "output_type": "display_data",
          "data": {
            "text/plain": [
              "<IPython.core.display.Javascript object>"
            ],
            "application/javascript": [
              "\n",
              "    async function download(id, filename, size) {\n",
              "      if (!google.colab.kernel.accessAllowed) {\n",
              "        return;\n",
              "      }\n",
              "      const div = document.createElement('div');\n",
              "      const label = document.createElement('label');\n",
              "      label.textContent = `Downloading \"${filename}\": `;\n",
              "      div.appendChild(label);\n",
              "      const progress = document.createElement('progress');\n",
              "      progress.max = size;\n",
              "      div.appendChild(progress);\n",
              "      document.body.appendChild(div);\n",
              "\n",
              "      const buffers = [];\n",
              "      let downloaded = 0;\n",
              "\n",
              "      const channel = await google.colab.kernel.comms.open(id);\n",
              "      // Send a message to notify the kernel that we're ready.\n",
              "      channel.send({})\n",
              "\n",
              "      for await (const message of channel.messages) {\n",
              "        // Send a message to notify the kernel that we're ready.\n",
              "        channel.send({})\n",
              "        if (message.buffers) {\n",
              "          for (const buffer of message.buffers) {\n",
              "            buffers.push(buffer);\n",
              "            downloaded += buffer.byteLength;\n",
              "            progress.value = downloaded;\n",
              "          }\n",
              "        }\n",
              "      }\n",
              "      const blob = new Blob(buffers, {type: 'application/binary'});\n",
              "      const a = document.createElement('a');\n",
              "      a.href = window.URL.createObjectURL(blob);\n",
              "      a.download = filename;\n",
              "      div.appendChild(a);\n",
              "      a.click();\n",
              "      div.remove();\n",
              "    }\n",
              "  "
            ]
          },
          "metadata": {}
        },
        {
          "output_type": "display_data",
          "data": {
            "text/plain": [
              "<IPython.core.display.Javascript object>"
            ],
            "application/javascript": [
              "download(\"download_cb4f01b6-5580-4b4a-8eee-07d95c45d15d\", \"run_summary.json\", 2)"
            ]
          },
          "metadata": {}
        },
        {
          "output_type": "display_data",
          "data": {
            "text/plain": [
              "<IPython.core.display.Javascript object>"
            ],
            "application/javascript": [
              "\n",
              "    async function download(id, filename, size) {\n",
              "      if (!google.colab.kernel.accessAllowed) {\n",
              "        return;\n",
              "      }\n",
              "      const div = document.createElement('div');\n",
              "      const label = document.createElement('label');\n",
              "      label.textContent = `Downloading \"${filename}\": `;\n",
              "      div.appendChild(label);\n",
              "      const progress = document.createElement('progress');\n",
              "      progress.max = size;\n",
              "      div.appendChild(progress);\n",
              "      document.body.appendChild(div);\n",
              "\n",
              "      const buffers = [];\n",
              "      let downloaded = 0;\n",
              "\n",
              "      const channel = await google.colab.kernel.comms.open(id);\n",
              "      // Send a message to notify the kernel that we're ready.\n",
              "      channel.send({})\n",
              "\n",
              "      for await (const message of channel.messages) {\n",
              "        // Send a message to notify the kernel that we're ready.\n",
              "        channel.send({})\n",
              "        if (message.buffers) {\n",
              "          for (const buffer of message.buffers) {\n",
              "            buffers.push(buffer);\n",
              "            downloaded += buffer.byteLength;\n",
              "            progress.value = downloaded;\n",
              "          }\n",
              "        }\n",
              "      }\n",
              "      const blob = new Blob(buffers, {type: 'application/binary'});\n",
              "      const a = document.createElement('a');\n",
              "      a.href = window.URL.createObjectURL(blob);\n",
              "      a.download = filename;\n",
              "      div.appendChild(a);\n",
              "      a.click();\n",
              "      div.remove();\n",
              "    }\n",
              "  "
            ]
          },
          "metadata": {}
        },
        {
          "output_type": "display_data",
          "data": {
            "text/plain": [
              "<IPython.core.display.Javascript object>"
            ],
            "application/javascript": [
              "download(\"download_da206ab7-7089-4304-af0a-bc7800bb5d7c\", \"run_summary.csv\", 7)"
            ]
          },
          "metadata": {}
        }
      ]
    },
    {
      "cell_type": "code",
      "source": [
        "from google.colab import files\n",
        "files.download('/content/outputs/0428_chemberta_smiles/oof_preds.csv')"
      ],
      "metadata": {
        "colab": {
          "base_uri": "https://localhost:8080/",
          "height": 17
        },
        "id": "daT4omYCiqP4",
        "outputId": "879510dd-68c1-4cba-b787-ca155c5a3ed4"
      },
      "id": "daT4omYCiqP4",
      "execution_count": null,
      "outputs": [
        {
          "output_type": "display_data",
          "data": {
            "text/plain": [
              "<IPython.core.display.Javascript object>"
            ],
            "application/javascript": [
              "\n",
              "    async function download(id, filename, size) {\n",
              "      if (!google.colab.kernel.accessAllowed) {\n",
              "        return;\n",
              "      }\n",
              "      const div = document.createElement('div');\n",
              "      const label = document.createElement('label');\n",
              "      label.textContent = `Downloading \"${filename}\": `;\n",
              "      div.appendChild(label);\n",
              "      const progress = document.createElement('progress');\n",
              "      progress.max = size;\n",
              "      div.appendChild(progress);\n",
              "      document.body.appendChild(div);\n",
              "\n",
              "      const buffers = [];\n",
              "      let downloaded = 0;\n",
              "\n",
              "      const channel = await google.colab.kernel.comms.open(id);\n",
              "      // Send a message to notify the kernel that we're ready.\n",
              "      channel.send({})\n",
              "\n",
              "      for await (const message of channel.messages) {\n",
              "        // Send a message to notify the kernel that we're ready.\n",
              "        channel.send({})\n",
              "        if (message.buffers) {\n",
              "          for (const buffer of message.buffers) {\n",
              "            buffers.push(buffer);\n",
              "            downloaded += buffer.byteLength;\n",
              "            progress.value = downloaded;\n",
              "          }\n",
              "        }\n",
              "      }\n",
              "      const blob = new Blob(buffers, {type: 'application/binary'});\n",
              "      const a = document.createElement('a');\n",
              "      a.href = window.URL.createObjectURL(blob);\n",
              "      a.download = filename;\n",
              "      div.appendChild(a);\n",
              "      a.click();\n",
              "      div.remove();\n",
              "    }\n",
              "  "
            ]
          },
          "metadata": {}
        },
        {
          "output_type": "display_data",
          "data": {
            "text/plain": [
              "<IPython.core.display.Javascript object>"
            ],
            "application/javascript": [
              "download(\"download_24f78cb9-84b5-4c7a-ab35-51505bc3d548\", \"oof_preds.csv\", 190049)"
            ]
          },
          "metadata": {}
        }
      ]
    },
    {
      "cell_type": "code",
      "source": [
        "import matplotlib.pyplot as plt\n",
        "\n",
        "def plot_cv_metrics(metrics_all):\n",
        "    metrics_df = pd.DataFrame(metrics_all)\n",
        "\n",
        "    plt.figure(figsize=(12, 4))\n",
        "\n",
        "    for i, metric in enumerate([\"roc_auc\", \"auprc\", \"accuracy\"]):\n",
        "        plt.subplot(1, 3, i+1)\n",
        "        plt.plot(range(1, len(metrics_df)+1), metrics_df[metric], marker='o')\n",
        "        plt.title(f\"{metric.upper()} per Fold\")\n",
        "        plt.xlabel(\"Fold\")\n",
        "        plt.ylabel(metric.upper())\n",
        "        plt.ylim(0.0, 1.05)\n",
        "        plt.grid(True)\n",
        "\n",
        "    plt.tight_layout()\n",
        "    plt.show()\n",
        "\n",
        "# 호출\n",
        "plot_cv_metrics(metrics_all)\n"
      ],
      "metadata": {
        "id": "kcC3aHpXAYMm"
      },
      "id": "kcC3aHpXAYMm",
      "execution_count": null,
      "outputs": []
    },
    {
      "cell_type": "code",
      "source": [
        "!pip install rdkit-pypi"
      ],
      "metadata": {
        "id": "E9-CXlGP0YzV",
        "outputId": "39a9be45-2a25-49b7-ce48-c3bf5560904e",
        "colab": {
          "base_uri": "https://localhost:8080/"
        }
      },
      "id": "E9-CXlGP0YzV",
      "execution_count": null,
      "outputs": [
        {
          "output_type": "stream",
          "name": "stdout",
          "text": [
            "Collecting rdkit-pypi\n",
            "  Downloading rdkit_pypi-2022.9.5-cp311-cp311-manylinux_2_17_x86_64.manylinux2014_x86_64.whl.metadata (3.9 kB)\n",
            "Requirement already satisfied: numpy in /usr/local/lib/python3.11/dist-packages (from rdkit-pypi) (2.0.2)\n",
            "Requirement already satisfied: Pillow in /usr/local/lib/python3.11/dist-packages (from rdkit-pypi) (11.3.0)\n",
            "Downloading rdkit_pypi-2022.9.5-cp311-cp311-manylinux_2_17_x86_64.manylinux2014_x86_64.whl (29.4 MB)\n",
            "\u001b[2K   \u001b[90m━━━━━━━━━━━━━━━━━━━━━━━━━━━━━━━━━━━━━━━━\u001b[0m \u001b[32m29.4/29.4 MB\u001b[0m \u001b[31m75.9 MB/s\u001b[0m eta \u001b[36m0:00:00\u001b[0m\n",
            "\u001b[?25hInstalling collected packages: rdkit-pypi\n",
            "Successfully installed rdkit-pypi-2022.9.5\n"
          ]
        }
      ]
    },
    {
      "cell_type": "code",
      "source": [
        "# ⚡  Colab T4(GPU·CUDA 11.8)에서 가장 안전한 세트\n",
        "!pip install -U pip wheel\n",
        "!pip install torch==2.1.2+cu118 torchvision==0.16.2+cu118 torchaudio==2.1.2+cu118 \\\n",
        "           --extra-index-url https://download.pytorch.org/whl/cu118\n",
        "!pip install torch-scatter -f https://data.pyg.org/whl/torch-2.1.0+cu118.html\n",
        "!pip install torch-sparse  -f https://data.pyg.org/whl/torch-2.1.0+cu118.html\n",
        "!pip install torch-cluster -f https://data.pyg.org/whl/torch-2.1.0+cu118.html\n",
        "!pip install torch-geometric==2.5.0"
      ],
      "metadata": {
        "id": "p5HWWx-uODwG",
        "outputId": "f2160655-8cfe-452a-b3f2-a20a3d3c4602",
        "colab": {
          "base_uri": "https://localhost:8080/"
        }
      },
      "id": "p5HWWx-uODwG",
      "execution_count": null,
      "outputs": [
        {
          "output_type": "stream",
          "name": "stdout",
          "text": [
            "Requirement already satisfied: pip in /usr/local/lib/python3.11/dist-packages (24.1.2)\n",
            "Collecting pip\n",
            "  Downloading pip-25.2-py3-none-any.whl.metadata (4.7 kB)\n",
            "Requirement already satisfied: wheel in /usr/local/lib/python3.11/dist-packages (0.45.1)\n",
            "Downloading pip-25.2-py3-none-any.whl (1.8 MB)\n",
            "\u001b[2K   \u001b[90m━━━━━━━━━━━━━━━━━━━━━━━━━━━━━━━━━━━━━━━━\u001b[0m \u001b[32m1.8/1.8 MB\u001b[0m \u001b[31m19.0 MB/s\u001b[0m eta \u001b[36m0:00:00\u001b[0m\n",
            "\u001b[?25hInstalling collected packages: pip\n",
            "  Attempting uninstall: pip\n",
            "    Found existing installation: pip 24.1.2\n",
            "    Uninstalling pip-24.1.2:\n",
            "      Successfully uninstalled pip-24.1.2\n",
            "Successfully installed pip-25.2\n",
            "Looking in indexes: https://pypi.org/simple, https://download.pytorch.org/whl/cu118\n",
            "Collecting torch==2.1.2+cu118\n",
            "  Downloading https://download.pytorch.org/whl/cu118/torch-2.1.2%2Bcu118-cp311-cp311-linux_x86_64.whl (2325.9 MB)\n",
            "\u001b[2K     \u001b[90m━━━━━━━━━━━━━━━━━━━━━━━━━━━━━━━━━━━━━━━━\u001b[0m \u001b[32m2.3/2.3 GB\u001b[0m \u001b[31m9.0 MB/s\u001b[0m  \u001b[33m0:00:52\u001b[0m\n",
            "\u001b[?25hCollecting torchvision==0.16.2+cu118\n",
            "  Downloading https://download.pytorch.org/whl/cu118/torchvision-0.16.2%2Bcu118-cp311-cp311-linux_x86_64.whl (6.1 MB)\n",
            "\u001b[2K     \u001b[90m━━━━━━━━━━━━━━━━━━━━━━━━━━━━━━━━━━━━━━━━\u001b[0m \u001b[32m6.1/6.1 MB\u001b[0m \u001b[31m82.1 MB/s\u001b[0m  \u001b[33m0:00:00\u001b[0m\n",
            "\u001b[?25hCollecting torchaudio==2.1.2+cu118\n",
            "  Downloading https://download.pytorch.org/whl/cu118/torchaudio-2.1.2%2Bcu118-cp311-cp311-linux_x86_64.whl (3.2 MB)\n",
            "\u001b[2K     \u001b[90m━━━━━━━━━━━━━━━━━━━━━━━━━━━━━━━━━━━━━━━━\u001b[0m \u001b[32m3.2/3.2 MB\u001b[0m \u001b[31m86.1 MB/s\u001b[0m  \u001b[33m0:00:00\u001b[0m\n",
            "\u001b[?25hRequirement already satisfied: filelock in /usr/local/lib/python3.11/dist-packages (from torch==2.1.2+cu118) (3.18.0)\n",
            "Requirement already satisfied: typing-extensions in /usr/local/lib/python3.11/dist-packages (from torch==2.1.2+cu118) (4.14.1)\n",
            "Requirement already satisfied: sympy in /usr/local/lib/python3.11/dist-packages (from torch==2.1.2+cu118) (1.13.1)\n",
            "Requirement already satisfied: networkx in /usr/local/lib/python3.11/dist-packages (from torch==2.1.2+cu118) (3.5)\n",
            "Requirement already satisfied: jinja2 in /usr/local/lib/python3.11/dist-packages (from torch==2.1.2+cu118) (3.1.6)\n",
            "Requirement already satisfied: fsspec in /usr/local/lib/python3.11/dist-packages (from torch==2.1.2+cu118) (2025.3.0)\n",
            "Collecting triton==2.1.0 (from torch==2.1.2+cu118)\n",
            "  Downloading https://download.pytorch.org/whl/triton-2.1.0-0-cp311-cp311-manylinux2014_x86_64.manylinux_2_17_x86_64.whl (89.2 MB)\n",
            "\u001b[2K     \u001b[90m━━━━━━━━━━━━━━━━━━━━━━━━━━━━━━━━━━━━━━━━\u001b[0m \u001b[32m89.2/89.2 MB\u001b[0m \u001b[31m63.5 MB/s\u001b[0m  \u001b[33m0:00:01\u001b[0m\n",
            "\u001b[?25hRequirement already satisfied: numpy in /usr/local/lib/python3.11/dist-packages (from torchvision==0.16.2+cu118) (2.0.2)\n",
            "Requirement already satisfied: requests in /usr/local/lib/python3.11/dist-packages (from torchvision==0.16.2+cu118) (2.32.3)\n",
            "Requirement already satisfied: pillow!=8.3.*,>=5.3.0 in /usr/local/lib/python3.11/dist-packages (from torchvision==0.16.2+cu118) (11.3.0)\n",
            "Requirement already satisfied: MarkupSafe>=2.0 in /usr/local/lib/python3.11/dist-packages (from jinja2->torch==2.1.2+cu118) (3.0.2)\n",
            "Requirement already satisfied: charset-normalizer<4,>=2 in /usr/local/lib/python3.11/dist-packages (from requests->torchvision==0.16.2+cu118) (3.4.2)\n",
            "Requirement already satisfied: idna<4,>=2.5 in /usr/local/lib/python3.11/dist-packages (from requests->torchvision==0.16.2+cu118) (3.10)\n",
            "Requirement already satisfied: urllib3<3,>=1.21.1 in /usr/local/lib/python3.11/dist-packages (from requests->torchvision==0.16.2+cu118) (2.5.0)\n",
            "Requirement already satisfied: certifi>=2017.4.17 in /usr/local/lib/python3.11/dist-packages (from requests->torchvision==0.16.2+cu118) (2025.7.14)\n",
            "Requirement already satisfied: mpmath<1.4,>=1.1.0 in /usr/local/lib/python3.11/dist-packages (from sympy->torch==2.1.2+cu118) (1.3.0)\n",
            "Installing collected packages: triton, torch, torchvision, torchaudio\n",
            "\u001b[2K  Attempting uninstall: triton\n",
            "\u001b[2K    Found existing installation: triton 3.2.0\n",
            "\u001b[2K    Uninstalling triton-3.2.0:\n",
            "\u001b[2K      Successfully uninstalled triton-3.2.0\n",
            "\u001b[2K  Attempting uninstall: torch\n",
            "\u001b[2K    Found existing installation: torch 2.6.0+cu124\n",
            "\u001b[2K    Uninstalling torch-2.6.0+cu124:\n",
            "\u001b[2K      Successfully uninstalled torch-2.6.0+cu124\n",
            "\u001b[2K  Attempting uninstall: torchvision\n",
            "\u001b[2K    Found existing installation: torchvision 0.21.0+cu124\n",
            "\u001b[2K    Uninstalling torchvision-0.21.0+cu124:\n",
            "\u001b[2K      Successfully uninstalled torchvision-0.21.0+cu124\n",
            "\u001b[2K  Attempting uninstall: torchaudio\n",
            "\u001b[2K    Found existing installation: torchaudio 2.6.0+cu124\n",
            "\u001b[2K    Uninstalling torchaudio-2.6.0+cu124:\n",
            "\u001b[2K      Successfully uninstalled torchaudio-2.6.0+cu124\n",
            "\u001b[2K   \u001b[90m━━━━━━━━━━━━━━━━━━━━━━━━━━━━━━━━━━━━━━━━\u001b[0m \u001b[32m4/4\u001b[0m [torchaudio]\n",
            "\u001b[1A\u001b[2KSuccessfully installed torch-2.1.2+cu118 torchaudio-2.1.2+cu118 torchvision-0.16.2+cu118 triton-2.1.0\n",
            "Looking in links: https://data.pyg.org/whl/torch-2.1.0+cu118.html\n",
            "Collecting torch-scatter\n",
            "  Downloading https://data.pyg.org/whl/torch-2.1.0%2Bcu118/torch_scatter-2.1.2%2Bpt21cu118-cp311-cp311-linux_x86_64.whl (10.2 MB)\n",
            "\u001b[2K     \u001b[90m━━━━━━━━━━━━━━━━━━━━━━━━━━━━━━━━━━━━━━━━\u001b[0m \u001b[32m10.2/10.2 MB\u001b[0m \u001b[31m94.0 MB/s\u001b[0m  \u001b[33m0:00:00\u001b[0m\n",
            "\u001b[?25hInstalling collected packages: torch-scatter\n",
            "Successfully installed torch-scatter-2.1.2+pt21cu118\n",
            "Looking in links: https://data.pyg.org/whl/torch-2.1.0+cu118.html\n",
            "Collecting torch-sparse\n",
            "  Downloading https://data.pyg.org/whl/torch-2.1.0%2Bcu118/torch_sparse-0.6.18%2Bpt21cu118-cp311-cp311-linux_x86_64.whl (4.9 MB)\n",
            "\u001b[2K     \u001b[90m━━━━━━━━━━━━━━━━━━━━━━━━━━━━━━━━━━━━━━━━\u001b[0m \u001b[32m4.9/4.9 MB\u001b[0m \u001b[31m57.7 MB/s\u001b[0m  \u001b[33m0:00:00\u001b[0m\n",
            "\u001b[?25hRequirement already satisfied: scipy in /usr/local/lib/python3.11/dist-packages (from torch-sparse) (1.16.1)\n",
            "Requirement already satisfied: numpy<2.6,>=1.25.2 in /usr/local/lib/python3.11/dist-packages (from scipy->torch-sparse) (2.0.2)\n",
            "Installing collected packages: torch-sparse\n",
            "Successfully installed torch-sparse-0.6.18+pt21cu118\n",
            "Looking in links: https://data.pyg.org/whl/torch-2.1.0+cu118.html\n",
            "Collecting torch-cluster\n",
            "  Downloading https://data.pyg.org/whl/torch-2.1.0%2Bcu118/torch_cluster-1.6.3%2Bpt21cu118-cp311-cp311-linux_x86_64.whl (3.3 MB)\n",
            "\u001b[2K     \u001b[90m━━━━━━━━━━━━━━━━━━━━━━━━━━━━━━━━━━━━━━━━\u001b[0m \u001b[32m3.3/3.3 MB\u001b[0m \u001b[31m47.3 MB/s\u001b[0m  \u001b[33m0:00:00\u001b[0m\n",
            "\u001b[?25hRequirement already satisfied: scipy in /usr/local/lib/python3.11/dist-packages (from torch-cluster) (1.16.1)\n",
            "Requirement already satisfied: numpy<2.6,>=1.25.2 in /usr/local/lib/python3.11/dist-packages (from scipy->torch-cluster) (2.0.2)\n",
            "Installing collected packages: torch-cluster\n",
            "Successfully installed torch-cluster-1.6.3+pt21cu118\n",
            "Collecting torch-geometric==2.5.0\n",
            "  Downloading torch_geometric-2.5.0-py3-none-any.whl.metadata (64 kB)\n",
            "Requirement already satisfied: tqdm in /usr/local/lib/python3.11/dist-packages (from torch-geometric==2.5.0) (4.67.1)\n",
            "Requirement already satisfied: numpy in /usr/local/lib/python3.11/dist-packages (from torch-geometric==2.5.0) (2.0.2)\n",
            "Requirement already satisfied: scipy in /usr/local/lib/python3.11/dist-packages (from torch-geometric==2.5.0) (1.16.1)\n",
            "Requirement already satisfied: fsspec in /usr/local/lib/python3.11/dist-packages (from torch-geometric==2.5.0) (2025.3.0)\n",
            "Requirement already satisfied: jinja2 in /usr/local/lib/python3.11/dist-packages (from torch-geometric==2.5.0) (3.1.6)\n",
            "Requirement already satisfied: aiohttp in /usr/local/lib/python3.11/dist-packages (from torch-geometric==2.5.0) (3.12.15)\n",
            "Requirement already satisfied: requests in /usr/local/lib/python3.11/dist-packages (from torch-geometric==2.5.0) (2.32.3)\n",
            "Requirement already satisfied: pyparsing in /usr/local/lib/python3.11/dist-packages (from torch-geometric==2.5.0) (3.2.3)\n",
            "Requirement already satisfied: scikit-learn in /usr/local/lib/python3.11/dist-packages (from torch-geometric==2.5.0) (1.6.1)\n",
            "Requirement already satisfied: psutil>=5.8.0 in /usr/local/lib/python3.11/dist-packages (from torch-geometric==2.5.0) (5.9.5)\n",
            "Requirement already satisfied: aiohappyeyeballs>=2.5.0 in /usr/local/lib/python3.11/dist-packages (from aiohttp->torch-geometric==2.5.0) (2.6.1)\n",
            "Requirement already satisfied: aiosignal>=1.4.0 in /usr/local/lib/python3.11/dist-packages (from aiohttp->torch-geometric==2.5.0) (1.4.0)\n",
            "Requirement already satisfied: attrs>=17.3.0 in /usr/local/lib/python3.11/dist-packages (from aiohttp->torch-geometric==2.5.0) (25.3.0)\n",
            "Requirement already satisfied: frozenlist>=1.1.1 in /usr/local/lib/python3.11/dist-packages (from aiohttp->torch-geometric==2.5.0) (1.7.0)\n",
            "Requirement already satisfied: multidict<7.0,>=4.5 in /usr/local/lib/python3.11/dist-packages (from aiohttp->torch-geometric==2.5.0) (6.6.3)\n",
            "Requirement already satisfied: propcache>=0.2.0 in /usr/local/lib/python3.11/dist-packages (from aiohttp->torch-geometric==2.5.0) (0.3.2)\n",
            "Requirement already satisfied: yarl<2.0,>=1.17.0 in /usr/local/lib/python3.11/dist-packages (from aiohttp->torch-geometric==2.5.0) (1.20.1)\n",
            "Requirement already satisfied: idna>=2.0 in /usr/local/lib/python3.11/dist-packages (from yarl<2.0,>=1.17.0->aiohttp->torch-geometric==2.5.0) (3.10)\n",
            "Requirement already satisfied: typing-extensions>=4.2 in /usr/local/lib/python3.11/dist-packages (from aiosignal>=1.4.0->aiohttp->torch-geometric==2.5.0) (4.14.1)\n",
            "Requirement already satisfied: MarkupSafe>=2.0 in /usr/local/lib/python3.11/dist-packages (from jinja2->torch-geometric==2.5.0) (3.0.2)\n",
            "Requirement already satisfied: charset-normalizer<4,>=2 in /usr/local/lib/python3.11/dist-packages (from requests->torch-geometric==2.5.0) (3.4.2)\n",
            "Requirement already satisfied: urllib3<3,>=1.21.1 in /usr/local/lib/python3.11/dist-packages (from requests->torch-geometric==2.5.0) (2.5.0)\n",
            "Requirement already satisfied: certifi>=2017.4.17 in /usr/local/lib/python3.11/dist-packages (from requests->torch-geometric==2.5.0) (2025.7.14)\n",
            "Requirement already satisfied: joblib>=1.2.0 in /usr/local/lib/python3.11/dist-packages (from scikit-learn->torch-geometric==2.5.0) (1.5.1)\n",
            "Requirement already satisfied: threadpoolctl>=3.1.0 in /usr/local/lib/python3.11/dist-packages (from scikit-learn->torch-geometric==2.5.0) (3.6.0)\n",
            "Downloading torch_geometric-2.5.0-py3-none-any.whl (1.1 MB)\n",
            "\u001b[2K   \u001b[90m━━━━━━━━━━━━━━━━━━━━━━━━━━━━━━━━━━━━━━━━\u001b[0m \u001b[32m1.1/1.1 MB\u001b[0m \u001b[31m24.2 MB/s\u001b[0m  \u001b[33m0:00:00\u001b[0m\n",
            "\u001b[?25hInstalling collected packages: torch-geometric\n",
            "Successfully installed torch-geometric-2.5.0\n"
          ]
        }
      ]
    },
    {
      "cell_type": "code",
      "source": [
        "import numpy"
      ],
      "metadata": {
        "id": "DbkxLuWr1b5n"
      },
      "id": "DbkxLuWr1b5n",
      "execution_count": null,
      "outputs": []
    },
    {
      "cell_type": "code",
      "source": [
        "import rdkit"
      ],
      "metadata": {
        "id": "RDi3VMq31fvA"
      },
      "id": "RDi3VMq31fvA",
      "execution_count": null,
      "outputs": []
    },
    {
      "cell_type": "code",
      "source": [
        "import torch"
      ],
      "metadata": {
        "id": "uyaLtXrh1hRJ"
      },
      "id": "uyaLtXrh1hRJ",
      "execution_count": null,
      "outputs": []
    },
    {
      "cell_type": "code",
      "source": [
        "import torch_geometric"
      ],
      "metadata": {
        "id": "LgwhDOMY1jTG"
      },
      "id": "LgwhDOMY1jTG",
      "execution_count": null,
      "outputs": []
    },
    {
      "cell_type": "code",
      "source": [
        "import numpy, torch, rdkit, torch_geometric\n",
        "print(\"NumPy :\", numpy.__version__)\n",
        "print(\"Torch :\", torch.__version__)\n",
        "print(\"PyG   :\", torch_geometric.__version__)\n",
        "print(\"RDKit :\", rdkit.__version__)"
      ],
      "metadata": {
        "id": "0yaO3Vov0kC3",
        "outputId": "67ec5677-8564-4ae2-cd12-bce825f96609",
        "colab": {
          "base_uri": "https://localhost:8080/",
          "height": 503
        }
      },
      "id": "0yaO3Vov0kC3",
      "execution_count": null,
      "outputs": [
        {
          "output_type": "stream",
          "name": "stderr",
          "text": [
            "/usr/local/lib/python3.11/dist-packages/torch_geometric/typing.py:72: UserWarning: An issue occurred while importing 'torch-scatter'. Disabling its usage. Stacktrace: /usr/local/lib/python3.11/dist-packages/torch_scatter/_version_cuda.so: undefined symbol: _ZN3c1017RegisterOperatorsD1Ev\n",
            "  warnings.warn(f\"An issue occurred while importing 'torch-scatter'. \"\n",
            "/usr/local/lib/python3.11/dist-packages/torch_geometric/typing.py:83: UserWarning: An issue occurred while importing 'torch-cluster'. Disabling its usage. Stacktrace: /usr/local/lib/python3.11/dist-packages/torch_cluster/_version_cuda.so: undefined symbol: _ZN3c1017RegisterOperatorsD1Ev\n",
            "  warnings.warn(f\"An issue occurred while importing 'torch-cluster'. \"\n",
            "/usr/local/lib/python3.11/dist-packages/torch_geometric/typing.py:110: UserWarning: An issue occurred while importing 'torch-sparse'. Disabling its usage. Stacktrace: /usr/local/lib/python3.11/dist-packages/torch_sparse/_version_cuda.so: undefined symbol: _ZN3c1017RegisterOperatorsD1Ev\n",
            "  warnings.warn(f\"An issue occurred while importing 'torch-sparse'. \"\n"
          ]
        },
        {
          "output_type": "error",
          "ename": "OSError",
          "evalue": "/usr/local/lib/python3.11/dist-packages/torch_cluster/_version_cuda.so: undefined symbol: _ZN3c1017RegisterOperatorsD1Ev",
          "traceback": [
            "\u001b[0;31m---------------------------------------------------------------------------\u001b[0m",
            "\u001b[0;31mOSError\u001b[0m                                   Traceback (most recent call last)",
            "\u001b[0;32m/tmp/ipython-input-1870384739.py\u001b[0m in \u001b[0;36m<cell line: 0>\u001b[0;34m()\u001b[0m\n\u001b[0;32m----> 1\u001b[0;31m \u001b[0;32mimport\u001b[0m \u001b[0mnumpy\u001b[0m\u001b[0;34m,\u001b[0m \u001b[0mtorch\u001b[0m\u001b[0;34m,\u001b[0m \u001b[0mrdkit\u001b[0m\u001b[0;34m,\u001b[0m \u001b[0mtorch_geometric\u001b[0m\u001b[0;34m\u001b[0m\u001b[0;34m\u001b[0m\u001b[0m\n\u001b[0m\u001b[1;32m      2\u001b[0m \u001b[0mprint\u001b[0m\u001b[0;34m(\u001b[0m\u001b[0;34m\"NumPy :\"\u001b[0m\u001b[0;34m,\u001b[0m \u001b[0mnumpy\u001b[0m\u001b[0;34m.\u001b[0m\u001b[0m__version__\u001b[0m\u001b[0;34m)\u001b[0m\u001b[0;34m\u001b[0m\u001b[0;34m\u001b[0m\u001b[0m\n\u001b[1;32m      3\u001b[0m \u001b[0mprint\u001b[0m\u001b[0;34m(\u001b[0m\u001b[0;34m\"Torch :\"\u001b[0m\u001b[0;34m,\u001b[0m \u001b[0mtorch\u001b[0m\u001b[0;34m.\u001b[0m\u001b[0m__version__\u001b[0m\u001b[0;34m)\u001b[0m\u001b[0;34m\u001b[0m\u001b[0;34m\u001b[0m\u001b[0m\n\u001b[1;32m      4\u001b[0m \u001b[0mprint\u001b[0m\u001b[0;34m(\u001b[0m\u001b[0;34m\"PyG   :\"\u001b[0m\u001b[0;34m,\u001b[0m \u001b[0mtorch_geometric\u001b[0m\u001b[0;34m.\u001b[0m\u001b[0m__version__\u001b[0m\u001b[0;34m)\u001b[0m\u001b[0;34m\u001b[0m\u001b[0;34m\u001b[0m\u001b[0m\n\u001b[1;32m      5\u001b[0m \u001b[0mprint\u001b[0m\u001b[0;34m(\u001b[0m\u001b[0;34m\"RDKit :\"\u001b[0m\u001b[0;34m,\u001b[0m \u001b[0mrdkit\u001b[0m\u001b[0;34m.\u001b[0m\u001b[0m__version__\u001b[0m\u001b[0;34m)\u001b[0m\u001b[0;34m\u001b[0m\u001b[0;34m\u001b[0m\u001b[0m\n",
            "\u001b[0;32m/usr/local/lib/python3.11/dist-packages/torch_geometric/__init__.py\u001b[0m in \u001b[0;36m<module>\u001b[0;34m\u001b[0m\n\u001b[1;32m     11\u001b[0m \u001b[0;32mimport\u001b[0m \u001b[0mtorch_geometric\u001b[0m\u001b[0;34m.\u001b[0m\u001b[0mloader\u001b[0m\u001b[0;34m\u001b[0m\u001b[0;34m\u001b[0m\u001b[0m\n\u001b[1;32m     12\u001b[0m \u001b[0;32mimport\u001b[0m \u001b[0mtorch_geometric\u001b[0m\u001b[0;34m.\u001b[0m\u001b[0mtransforms\u001b[0m\u001b[0;34m\u001b[0m\u001b[0;34m\u001b[0m\u001b[0m\n\u001b[0;32m---> 13\u001b[0;31m \u001b[0;32mimport\u001b[0m \u001b[0mtorch_geometric\u001b[0m\u001b[0;34m.\u001b[0m\u001b[0mdatasets\u001b[0m\u001b[0;34m\u001b[0m\u001b[0;34m\u001b[0m\u001b[0m\n\u001b[0m\u001b[1;32m     14\u001b[0m \u001b[0;32mimport\u001b[0m \u001b[0mtorch_geometric\u001b[0m\u001b[0;34m.\u001b[0m\u001b[0mnn\u001b[0m\u001b[0;34m\u001b[0m\u001b[0;34m\u001b[0m\u001b[0m\n\u001b[1;32m     15\u001b[0m \u001b[0;32mimport\u001b[0m \u001b[0mtorch_geometric\u001b[0m\u001b[0;34m.\u001b[0m\u001b[0mexplain\u001b[0m\u001b[0;34m\u001b[0m\u001b[0;34m\u001b[0m\u001b[0m\n",
            "\u001b[0;32m/usr/local/lib/python3.11/dist-packages/torch_geometric/datasets/__init__.py\u001b[0m in \u001b[0;36m<module>\u001b[0;34m\u001b[0m\n\u001b[1;32m     99\u001b[0m \u001b[0;32mfrom\u001b[0m \u001b[0;34m.\u001b[0m\u001b[0msbm_dataset\u001b[0m \u001b[0;32mimport\u001b[0m \u001b[0mRandomPartitionGraphDataset\u001b[0m\u001b[0;34m\u001b[0m\u001b[0;34m\u001b[0m\u001b[0m\n\u001b[1;32m    100\u001b[0m \u001b[0;32mfrom\u001b[0m \u001b[0;34m.\u001b[0m\u001b[0mmixhop_synthetic_dataset\u001b[0m \u001b[0;32mimport\u001b[0m \u001b[0mMixHopSyntheticDataset\u001b[0m\u001b[0;34m\u001b[0m\u001b[0;34m\u001b[0m\u001b[0m\n\u001b[0;32m--> 101\u001b[0;31m \u001b[0;32mfrom\u001b[0m \u001b[0;34m.\u001b[0m\u001b[0mexplainer_dataset\u001b[0m \u001b[0;32mimport\u001b[0m \u001b[0mExplainerDataset\u001b[0m\u001b[0;34m\u001b[0m\u001b[0;34m\u001b[0m\u001b[0m\n\u001b[0m\u001b[1;32m    102\u001b[0m \u001b[0;32mfrom\u001b[0m \u001b[0;34m.\u001b[0m\u001b[0minfection_dataset\u001b[0m \u001b[0;32mimport\u001b[0m \u001b[0mInfectionDataset\u001b[0m\u001b[0;34m\u001b[0m\u001b[0;34m\u001b[0m\u001b[0m\n\u001b[1;32m    103\u001b[0m \u001b[0;32mfrom\u001b[0m \u001b[0;34m.\u001b[0m\u001b[0mba2motif_dataset\u001b[0m \u001b[0;32mimport\u001b[0m \u001b[0mBA2MotifDataset\u001b[0m\u001b[0;34m\u001b[0m\u001b[0;34m\u001b[0m\u001b[0m\n",
            "\u001b[0;32m/usr/local/lib/python3.11/dist-packages/torch_geometric/datasets/explainer_dataset.py\u001b[0m in \u001b[0;36m<module>\u001b[0;34m\u001b[0m\n\u001b[1;32m      7\u001b[0m \u001b[0;32mfrom\u001b[0m \u001b[0mtorch_geometric\u001b[0m\u001b[0;34m.\u001b[0m\u001b[0mdatasets\u001b[0m\u001b[0;34m.\u001b[0m\u001b[0mgraph_generator\u001b[0m \u001b[0;32mimport\u001b[0m \u001b[0mGraphGenerator\u001b[0m\u001b[0;34m\u001b[0m\u001b[0;34m\u001b[0m\u001b[0m\n\u001b[1;32m      8\u001b[0m \u001b[0;32mfrom\u001b[0m \u001b[0mtorch_geometric\u001b[0m\u001b[0;34m.\u001b[0m\u001b[0mdatasets\u001b[0m\u001b[0;34m.\u001b[0m\u001b[0mmotif_generator\u001b[0m \u001b[0;32mimport\u001b[0m \u001b[0mMotifGenerator\u001b[0m\u001b[0;34m\u001b[0m\u001b[0;34m\u001b[0m\u001b[0m\n\u001b[0;32m----> 9\u001b[0;31m \u001b[0;32mfrom\u001b[0m \u001b[0mtorch_geometric\u001b[0m\u001b[0;34m.\u001b[0m\u001b[0mexplain\u001b[0m \u001b[0;32mimport\u001b[0m \u001b[0mExplanation\u001b[0m\u001b[0;34m\u001b[0m\u001b[0;34m\u001b[0m\u001b[0m\n\u001b[0m\u001b[1;32m     10\u001b[0m \u001b[0;34m\u001b[0m\u001b[0m\n\u001b[1;32m     11\u001b[0m \u001b[0;34m\u001b[0m\u001b[0m\n",
            "\u001b[0;32m/usr/local/lib/python3.11/dist-packages/torch_geometric/explain/__init__.py\u001b[0m in \u001b[0;36m<module>\u001b[0;34m\u001b[0m\n\u001b[1;32m      1\u001b[0m \u001b[0;32mfrom\u001b[0m \u001b[0;34m.\u001b[0m\u001b[0mconfig\u001b[0m \u001b[0;32mimport\u001b[0m \u001b[0mExplainerConfig\u001b[0m\u001b[0;34m,\u001b[0m \u001b[0mModelConfig\u001b[0m\u001b[0;34m,\u001b[0m \u001b[0mThresholdConfig\u001b[0m\u001b[0;34m\u001b[0m\u001b[0;34m\u001b[0m\u001b[0m\n\u001b[1;32m      2\u001b[0m \u001b[0;32mfrom\u001b[0m \u001b[0;34m.\u001b[0m\u001b[0mexplanation\u001b[0m \u001b[0;32mimport\u001b[0m \u001b[0mExplanation\u001b[0m\u001b[0;34m,\u001b[0m \u001b[0mHeteroExplanation\u001b[0m\u001b[0;34m\u001b[0m\u001b[0;34m\u001b[0m\u001b[0m\n\u001b[0;32m----> 3\u001b[0;31m \u001b[0;32mfrom\u001b[0m \u001b[0;34m.\u001b[0m\u001b[0malgorithm\u001b[0m \u001b[0;32mimport\u001b[0m \u001b[0;34m*\u001b[0m  \u001b[0;31m# noqa\u001b[0m\u001b[0;34m\u001b[0m\u001b[0;34m\u001b[0m\u001b[0m\n\u001b[0m\u001b[1;32m      4\u001b[0m \u001b[0;32mfrom\u001b[0m \u001b[0;34m.\u001b[0m\u001b[0mexplainer\u001b[0m \u001b[0;32mimport\u001b[0m \u001b[0mExplainer\u001b[0m\u001b[0;34m\u001b[0m\u001b[0;34m\u001b[0m\u001b[0m\n\u001b[1;32m      5\u001b[0m \u001b[0;32mfrom\u001b[0m \u001b[0;34m.\u001b[0m\u001b[0mmetric\u001b[0m \u001b[0;32mimport\u001b[0m \u001b[0;34m*\u001b[0m  \u001b[0;31m# noqa\u001b[0m\u001b[0;34m\u001b[0m\u001b[0;34m\u001b[0m\u001b[0m\n",
            "\u001b[0;32m/usr/local/lib/python3.11/dist-packages/torch_geometric/explain/algorithm/__init__.py\u001b[0m in \u001b[0;36m<module>\u001b[0;34m\u001b[0m\n\u001b[0;32m----> 1\u001b[0;31m \u001b[0;32mfrom\u001b[0m \u001b[0;34m.\u001b[0m\u001b[0mbase\u001b[0m \u001b[0;32mimport\u001b[0m \u001b[0mExplainerAlgorithm\u001b[0m\u001b[0;34m\u001b[0m\u001b[0;34m\u001b[0m\u001b[0m\n\u001b[0m\u001b[1;32m      2\u001b[0m \u001b[0;32mfrom\u001b[0m \u001b[0;34m.\u001b[0m\u001b[0mdummy_explainer\u001b[0m \u001b[0;32mimport\u001b[0m \u001b[0mDummyExplainer\u001b[0m\u001b[0;34m\u001b[0m\u001b[0;34m\u001b[0m\u001b[0m\n\u001b[1;32m      3\u001b[0m \u001b[0;32mfrom\u001b[0m \u001b[0;34m.\u001b[0m\u001b[0mgnn_explainer\u001b[0m \u001b[0;32mimport\u001b[0m \u001b[0mGNNExplainer\u001b[0m\u001b[0;34m\u001b[0m\u001b[0;34m\u001b[0m\u001b[0m\n\u001b[1;32m      4\u001b[0m \u001b[0;32mfrom\u001b[0m \u001b[0;34m.\u001b[0m\u001b[0mcaptum_explainer\u001b[0m \u001b[0;32mimport\u001b[0m \u001b[0mCaptumExplainer\u001b[0m\u001b[0;34m\u001b[0m\u001b[0;34m\u001b[0m\u001b[0m\n\u001b[1;32m      5\u001b[0m \u001b[0;32mfrom\u001b[0m \u001b[0;34m.\u001b[0m\u001b[0mpg_explainer\u001b[0m \u001b[0;32mimport\u001b[0m \u001b[0mPGExplainer\u001b[0m\u001b[0;34m\u001b[0m\u001b[0;34m\u001b[0m\u001b[0m\n",
            "\u001b[0;32m/usr/local/lib/python3.11/dist-packages/torch_geometric/explain/algorithm/base.py\u001b[0m in \u001b[0;36m<module>\u001b[0;34m\u001b[0m\n\u001b[1;32m     12\u001b[0m     \u001b[0mModelReturnType\u001b[0m\u001b[0;34m,\u001b[0m\u001b[0;34m\u001b[0m\u001b[0;34m\u001b[0m\u001b[0m\n\u001b[1;32m     13\u001b[0m )\n\u001b[0;32m---> 14\u001b[0;31m \u001b[0;32mfrom\u001b[0m \u001b[0mtorch_geometric\u001b[0m\u001b[0;34m.\u001b[0m\u001b[0mnn\u001b[0m \u001b[0;32mimport\u001b[0m \u001b[0mMessagePassing\u001b[0m\u001b[0;34m\u001b[0m\u001b[0;34m\u001b[0m\u001b[0m\n\u001b[0m\u001b[1;32m     15\u001b[0m \u001b[0;32mfrom\u001b[0m \u001b[0mtorch_geometric\u001b[0m\u001b[0;34m.\u001b[0m\u001b[0mtyping\u001b[0m \u001b[0;32mimport\u001b[0m \u001b[0mEdgeType\u001b[0m\u001b[0;34m,\u001b[0m \u001b[0mNodeType\u001b[0m\u001b[0;34m\u001b[0m\u001b[0;34m\u001b[0m\u001b[0m\n\u001b[1;32m     16\u001b[0m \u001b[0;32mfrom\u001b[0m \u001b[0mtorch_geometric\u001b[0m\u001b[0;34m.\u001b[0m\u001b[0mutils\u001b[0m \u001b[0;32mimport\u001b[0m \u001b[0mk_hop_subgraph\u001b[0m\u001b[0;34m\u001b[0m\u001b[0;34m\u001b[0m\u001b[0m\n",
            "\u001b[0;32m/usr/local/lib/python3.11/dist-packages/torch_geometric/nn/__init__.py\u001b[0m in \u001b[0;36m<module>\u001b[0;34m\u001b[0m\n\u001b[1;32m      3\u001b[0m \u001b[0;32mfrom\u001b[0m \u001b[0;34m.\u001b[0m\u001b[0mdata_parallel\u001b[0m \u001b[0;32mimport\u001b[0m \u001b[0mDataParallel\u001b[0m\u001b[0;34m\u001b[0m\u001b[0;34m\u001b[0m\u001b[0m\n\u001b[1;32m      4\u001b[0m \u001b[0;32mfrom\u001b[0m \u001b[0;34m.\u001b[0m\u001b[0mto_hetero_transformer\u001b[0m \u001b[0;32mimport\u001b[0m \u001b[0mto_hetero\u001b[0m\u001b[0;34m\u001b[0m\u001b[0;34m\u001b[0m\u001b[0m\n\u001b[0;32m----> 5\u001b[0;31m \u001b[0;32mfrom\u001b[0m \u001b[0;34m.\u001b[0m\u001b[0mto_hetero_with_bases_transformer\u001b[0m \u001b[0;32mimport\u001b[0m \u001b[0mto_hetero_with_bases\u001b[0m\u001b[0;34m\u001b[0m\u001b[0;34m\u001b[0m\u001b[0m\n\u001b[0m\u001b[1;32m      6\u001b[0m \u001b[0;32mfrom\u001b[0m \u001b[0;34m.\u001b[0m\u001b[0mto_fixed_size_transformer\u001b[0m \u001b[0;32mimport\u001b[0m \u001b[0mto_fixed_size\u001b[0m\u001b[0;34m\u001b[0m\u001b[0;34m\u001b[0m\u001b[0m\n\u001b[1;32m      7\u001b[0m \u001b[0;32mfrom\u001b[0m \u001b[0;34m.\u001b[0m\u001b[0mencoding\u001b[0m \u001b[0;32mimport\u001b[0m \u001b[0mPositionalEncoding\u001b[0m\u001b[0;34m,\u001b[0m \u001b[0mTemporalEncoding\u001b[0m\u001b[0;34m\u001b[0m\u001b[0;34m\u001b[0m\u001b[0m\n",
            "\u001b[0;32m/usr/local/lib/python3.11/dist-packages/torch_geometric/nn/to_hetero_with_bases_transformer.py\u001b[0m in \u001b[0;36m<module>\u001b[0;34m\u001b[0m\n\u001b[1;32m      7\u001b[0m \u001b[0;32mfrom\u001b[0m \u001b[0mtorch\u001b[0m\u001b[0;34m.\u001b[0m\u001b[0mnn\u001b[0m \u001b[0;32mimport\u001b[0m \u001b[0mModule\u001b[0m\u001b[0;34m,\u001b[0m \u001b[0mParameter\u001b[0m\u001b[0;34m\u001b[0m\u001b[0;34m\u001b[0m\u001b[0m\n\u001b[1;32m      8\u001b[0m \u001b[0;34m\u001b[0m\u001b[0m\n\u001b[0;32m----> 9\u001b[0;31m \u001b[0;32mfrom\u001b[0m \u001b[0mtorch_geometric\u001b[0m\u001b[0;34m.\u001b[0m\u001b[0mnn\u001b[0m\u001b[0;34m.\u001b[0m\u001b[0mconv\u001b[0m \u001b[0;32mimport\u001b[0m \u001b[0mMessagePassing\u001b[0m\u001b[0;34m\u001b[0m\u001b[0;34m\u001b[0m\u001b[0m\n\u001b[0m\u001b[1;32m     10\u001b[0m \u001b[0;32mfrom\u001b[0m \u001b[0mtorch_geometric\u001b[0m\u001b[0;34m.\u001b[0m\u001b[0mnn\u001b[0m\u001b[0;34m.\u001b[0m\u001b[0mdense\u001b[0m \u001b[0;32mimport\u001b[0m \u001b[0mLinear\u001b[0m\u001b[0;34m\u001b[0m\u001b[0;34m\u001b[0m\u001b[0m\n\u001b[1;32m     11\u001b[0m \u001b[0;32mfrom\u001b[0m \u001b[0mtorch_geometric\u001b[0m\u001b[0;34m.\u001b[0m\u001b[0mnn\u001b[0m\u001b[0;34m.\u001b[0m\u001b[0mfx\u001b[0m \u001b[0;32mimport\u001b[0m \u001b[0mTransformer\u001b[0m\u001b[0;34m\u001b[0m\u001b[0;34m\u001b[0m\u001b[0m\n",
            "\u001b[0;32m/usr/local/lib/python3.11/dist-packages/torch_geometric/nn/conv/__init__.py\u001b[0m in \u001b[0;36m<module>\u001b[0;34m\u001b[0m\n\u001b[1;32m      6\u001b[0m \u001b[0;32mfrom\u001b[0m \u001b[0;34m.\u001b[0m\u001b[0mcugraph\u001b[0m\u001b[0;34m.\u001b[0m\u001b[0msage_conv\u001b[0m \u001b[0;32mimport\u001b[0m \u001b[0mCuGraphSAGEConv\u001b[0m\u001b[0;34m\u001b[0m\u001b[0;34m\u001b[0m\u001b[0m\n\u001b[1;32m      7\u001b[0m \u001b[0;32mfrom\u001b[0m \u001b[0;34m.\u001b[0m\u001b[0mgraph_conv\u001b[0m \u001b[0;32mimport\u001b[0m \u001b[0mGraphConv\u001b[0m\u001b[0;34m\u001b[0m\u001b[0;34m\u001b[0m\u001b[0m\n\u001b[0;32m----> 8\u001b[0;31m \u001b[0;32mfrom\u001b[0m \u001b[0;34m.\u001b[0m\u001b[0mgravnet_conv\u001b[0m \u001b[0;32mimport\u001b[0m \u001b[0mGravNetConv\u001b[0m\u001b[0;34m\u001b[0m\u001b[0;34m\u001b[0m\u001b[0m\n\u001b[0m\u001b[1;32m      9\u001b[0m \u001b[0;32mfrom\u001b[0m \u001b[0;34m.\u001b[0m\u001b[0mgated_graph_conv\u001b[0m \u001b[0;32mimport\u001b[0m \u001b[0mGatedGraphConv\u001b[0m\u001b[0;34m\u001b[0m\u001b[0;34m\u001b[0m\u001b[0m\n\u001b[1;32m     10\u001b[0m \u001b[0;32mfrom\u001b[0m \u001b[0;34m.\u001b[0m\u001b[0mres_gated_graph_conv\u001b[0m \u001b[0;32mimport\u001b[0m \u001b[0mResGatedGraphConv\u001b[0m\u001b[0;34m\u001b[0m\u001b[0;34m\u001b[0m\u001b[0m\n",
            "\u001b[0;32m/usr/local/lib/python3.11/dist-packages/torch_geometric/nn/conv/gravnet_conv.py\u001b[0m in \u001b[0;36m<module>\u001b[0;34m\u001b[0m\n\u001b[1;32m     11\u001b[0m \u001b[0;34m\u001b[0m\u001b[0m\n\u001b[1;32m     12\u001b[0m \u001b[0;32mtry\u001b[0m\u001b[0;34m:\u001b[0m\u001b[0;34m\u001b[0m\u001b[0;34m\u001b[0m\u001b[0m\n\u001b[0;32m---> 13\u001b[0;31m     \u001b[0;32mfrom\u001b[0m \u001b[0mtorch_cluster\u001b[0m \u001b[0;32mimport\u001b[0m \u001b[0mknn\u001b[0m\u001b[0;34m\u001b[0m\u001b[0;34m\u001b[0m\u001b[0m\n\u001b[0m\u001b[1;32m     14\u001b[0m \u001b[0;32mexcept\u001b[0m \u001b[0mImportError\u001b[0m\u001b[0;34m:\u001b[0m\u001b[0;34m\u001b[0m\u001b[0;34m\u001b[0m\u001b[0m\n\u001b[1;32m     15\u001b[0m     \u001b[0mknn\u001b[0m \u001b[0;34m=\u001b[0m \u001b[0;32mNone\u001b[0m\u001b[0;34m\u001b[0m\u001b[0;34m\u001b[0m\u001b[0m\n",
            "\u001b[0;32m/usr/local/lib/python3.11/dist-packages/torch_cluster/__init__.py\u001b[0m in \u001b[0;36m<module>\u001b[0;34m\u001b[0m\n\u001b[1;32m     16\u001b[0m     \u001b[0mspec\u001b[0m \u001b[0;34m=\u001b[0m \u001b[0mcuda_spec\u001b[0m \u001b[0;32mor\u001b[0m \u001b[0mcpu_spec\u001b[0m\u001b[0;34m\u001b[0m\u001b[0;34m\u001b[0m\u001b[0m\n\u001b[1;32m     17\u001b[0m     \u001b[0;32mif\u001b[0m \u001b[0mspec\u001b[0m \u001b[0;32mis\u001b[0m \u001b[0;32mnot\u001b[0m \u001b[0;32mNone\u001b[0m\u001b[0;34m:\u001b[0m\u001b[0;34m\u001b[0m\u001b[0;34m\u001b[0m\u001b[0m\n\u001b[0;32m---> 18\u001b[0;31m         \u001b[0mtorch\u001b[0m\u001b[0;34m.\u001b[0m\u001b[0mops\u001b[0m\u001b[0;34m.\u001b[0m\u001b[0mload_library\u001b[0m\u001b[0;34m(\u001b[0m\u001b[0mspec\u001b[0m\u001b[0;34m.\u001b[0m\u001b[0morigin\u001b[0m\u001b[0;34m)\u001b[0m\u001b[0;34m\u001b[0m\u001b[0;34m\u001b[0m\u001b[0m\n\u001b[0m\u001b[1;32m     19\u001b[0m     \u001b[0;32melse\u001b[0m\u001b[0;34m:\u001b[0m  \u001b[0;31m# pragma: no cover\u001b[0m\u001b[0;34m\u001b[0m\u001b[0;34m\u001b[0m\u001b[0m\n\u001b[1;32m     20\u001b[0m         raise ImportError(f\"Could not find module '{library}_cpu' in \"\n",
            "\u001b[0;32m/usr/local/lib/python3.11/dist-packages/torch/_ops.py\u001b[0m in \u001b[0;36mload_library\u001b[0;34m(self, path)\u001b[0m\n\u001b[1;32m   1030\u001b[0m             \u001b[0;31m# static (global) initialization code in order to register custom\u001b[0m\u001b[0;34m\u001b[0m\u001b[0;34m\u001b[0m\u001b[0m\n\u001b[1;32m   1031\u001b[0m             \u001b[0;31m# operators with the JIT.\u001b[0m\u001b[0;34m\u001b[0m\u001b[0;34m\u001b[0m\u001b[0m\n\u001b[0;32m-> 1032\u001b[0;31m             \u001b[0mctypes\u001b[0m\u001b[0;34m.\u001b[0m\u001b[0mCDLL\u001b[0m\u001b[0;34m(\u001b[0m\u001b[0mpath\u001b[0m\u001b[0;34m)\u001b[0m\u001b[0;34m\u001b[0m\u001b[0;34m\u001b[0m\u001b[0m\n\u001b[0m\u001b[1;32m   1033\u001b[0m         \u001b[0mself\u001b[0m\u001b[0;34m.\u001b[0m\u001b[0mloaded_libraries\u001b[0m\u001b[0;34m.\u001b[0m\u001b[0madd\u001b[0m\u001b[0;34m(\u001b[0m\u001b[0mpath\u001b[0m\u001b[0;34m)\u001b[0m\u001b[0;34m\u001b[0m\u001b[0;34m\u001b[0m\u001b[0m\n\u001b[1;32m   1034\u001b[0m \u001b[0;34m\u001b[0m\u001b[0m\n",
            "\u001b[0;32m/usr/lib/python3.11/ctypes/__init__.py\u001b[0m in \u001b[0;36m__init__\u001b[0;34m(self, name, mode, handle, use_errno, use_last_error, winmode)\u001b[0m\n\u001b[1;32m    374\u001b[0m \u001b[0;34m\u001b[0m\u001b[0m\n\u001b[1;32m    375\u001b[0m         \u001b[0;32mif\u001b[0m \u001b[0mhandle\u001b[0m \u001b[0;32mis\u001b[0m \u001b[0;32mNone\u001b[0m\u001b[0;34m:\u001b[0m\u001b[0;34m\u001b[0m\u001b[0;34m\u001b[0m\u001b[0m\n\u001b[0;32m--> 376\u001b[0;31m             \u001b[0mself\u001b[0m\u001b[0;34m.\u001b[0m\u001b[0m_handle\u001b[0m \u001b[0;34m=\u001b[0m \u001b[0m_dlopen\u001b[0m\u001b[0;34m(\u001b[0m\u001b[0mself\u001b[0m\u001b[0;34m.\u001b[0m\u001b[0m_name\u001b[0m\u001b[0;34m,\u001b[0m \u001b[0mmode\u001b[0m\u001b[0;34m)\u001b[0m\u001b[0;34m\u001b[0m\u001b[0;34m\u001b[0m\u001b[0m\n\u001b[0m\u001b[1;32m    377\u001b[0m         \u001b[0;32melse\u001b[0m\u001b[0;34m:\u001b[0m\u001b[0;34m\u001b[0m\u001b[0;34m\u001b[0m\u001b[0m\n\u001b[1;32m    378\u001b[0m             \u001b[0mself\u001b[0m\u001b[0;34m.\u001b[0m\u001b[0m_handle\u001b[0m \u001b[0;34m=\u001b[0m \u001b[0mhandle\u001b[0m\u001b[0;34m\u001b[0m\u001b[0;34m\u001b[0m\u001b[0m\n",
            "\u001b[0;31mOSError\u001b[0m: /usr/local/lib/python3.11/dist-packages/torch_cluster/_version_cuda.so: undefined symbol: _ZN3c1017RegisterOperatorsD1Ev"
          ]
        }
      ]
    },
    {
      "cell_type": "code",
      "source": [
        "# 1) 기존 패키지 제거\n",
        "!pip uninstall -y torch torchvision torchaudio\n",
        "\n",
        "# 2) CUDA 11.8용 최신 PyTorch 설치 (2025-08 기준 2.3.1)\n",
        "!pip install --quiet --upgrade \\\n",
        "  torch==2.3.1+cu118 torchvision==0.18.1+cu118 torchaudio==2.3.1 \\\n",
        "  --index-url https://download.pytorch.org/whl/cu118\n",
        "\n",
        "# 3) PyG도 새 버전으로 맞춰줍니다\n",
        "!pip install --quiet --upgrade torch_geometric==2.5.3\n",
        "\n",
        "# 4) 런타임 재시작 (Colab 메뉴: Runtime ▸ Restart)\n"
      ],
      "metadata": {
        "id": "lKeKKUg05FAL",
        "outputId": "30e252d8-7bd0-4306-d598-741ed3f33bce",
        "colab": {
          "base_uri": "https://localhost:8080/"
        }
      },
      "id": "lKeKKUg05FAL",
      "execution_count": null,
      "outputs": [
        {
          "output_type": "stream",
          "name": "stdout",
          "text": [
            "Found existing installation: torch 2.1.2+cu118\n",
            "Uninstalling torch-2.1.2+cu118:\n",
            "  Successfully uninstalled torch-2.1.2+cu118\n",
            "Found existing installation: torchvision 0.16.2+cu118\n",
            "Uninstalling torchvision-0.16.2+cu118:\n",
            "  Successfully uninstalled torchvision-0.16.2+cu118\n",
            "Found existing installation: torchaudio 2.1.2+cu118\n",
            "Uninstalling torchaudio-2.1.2+cu118:\n",
            "  Successfully uninstalled torchaudio-2.1.2+cu118\n"
          ]
        }
      ]
    },
    {
      "cell_type": "code",
      "source": [
        "# 1. RDKit 설치\n",
        "# 분자 SMILES를 처리하는 라이브러리\n",
        "!pip install rdkit\n",
        "\n",
        "# 2. PyTorch Geometric (PyG) 설치\n",
        "# 최신 PyG 설치 스크립트 사용\n",
        "!pip install torch_geometric\n",
        "!pip install pyg-lib torch-scatter torch-sparse -f https://data.pyg.org/whl/torch-2.3.0+cu121.html"
      ],
      "metadata": {
        "id": "bknuDYoL6HU3",
        "outputId": "178e7ceb-812e-4893-bb3c-4277b302af45",
        "colab": {
          "base_uri": "https://localhost:8080/"
        }
      },
      "id": "bknuDYoL6HU3",
      "execution_count": null,
      "outputs": [
        {
          "output_type": "stream",
          "name": "stdout",
          "text": [
            "Requirement already satisfied: rdkit in /usr/local/lib/python3.11/dist-packages (2025.3.5)\n",
            "Requirement already satisfied: numpy in /usr/local/lib/python3.11/dist-packages (from rdkit) (1.26.4)\n",
            "Requirement already satisfied: Pillow in /usr/local/lib/python3.11/dist-packages (from rdkit) (11.3.0)\n",
            "Requirement already satisfied: torch_geometric in /usr/local/lib/python3.11/dist-packages (2.5.3)\n",
            "Requirement already satisfied: tqdm in /usr/local/lib/python3.11/dist-packages (from torch_geometric) (4.67.1)\n",
            "Requirement already satisfied: numpy in /usr/local/lib/python3.11/dist-packages (from torch_geometric) (1.26.4)\n",
            "Requirement already satisfied: scipy in /usr/local/lib/python3.11/dist-packages (from torch_geometric) (1.16.1)\n",
            "Requirement already satisfied: fsspec in /usr/local/lib/python3.11/dist-packages (from torch_geometric) (2025.3.0)\n",
            "Requirement already satisfied: jinja2 in /usr/local/lib/python3.11/dist-packages (from torch_geometric) (3.1.6)\n",
            "Requirement already satisfied: aiohttp in /usr/local/lib/python3.11/dist-packages (from torch_geometric) (3.12.15)\n",
            "Requirement already satisfied: requests in /usr/local/lib/python3.11/dist-packages (from torch_geometric) (2.32.3)\n",
            "Requirement already satisfied: pyparsing in /usr/local/lib/python3.11/dist-packages (from torch_geometric) (3.2.3)\n",
            "Requirement already satisfied: scikit-learn in /usr/local/lib/python3.11/dist-packages (from torch_geometric) (1.6.1)\n",
            "Requirement already satisfied: psutil>=5.8.0 in /usr/local/lib/python3.11/dist-packages (from torch_geometric) (5.9.5)\n",
            "Requirement already satisfied: aiohappyeyeballs>=2.5.0 in /usr/local/lib/python3.11/dist-packages (from aiohttp->torch_geometric) (2.6.1)\n",
            "Requirement already satisfied: aiosignal>=1.4.0 in /usr/local/lib/python3.11/dist-packages (from aiohttp->torch_geometric) (1.4.0)\n",
            "Requirement already satisfied: attrs>=17.3.0 in /usr/local/lib/python3.11/dist-packages (from aiohttp->torch_geometric) (25.3.0)\n",
            "Requirement already satisfied: frozenlist>=1.1.1 in /usr/local/lib/python3.11/dist-packages (from aiohttp->torch_geometric) (1.7.0)\n",
            "Requirement already satisfied: multidict<7.0,>=4.5 in /usr/local/lib/python3.11/dist-packages (from aiohttp->torch_geometric) (6.6.3)\n",
            "Requirement already satisfied: propcache>=0.2.0 in /usr/local/lib/python3.11/dist-packages (from aiohttp->torch_geometric) (0.3.2)\n",
            "Requirement already satisfied: yarl<2.0,>=1.17.0 in /usr/local/lib/python3.11/dist-packages (from aiohttp->torch_geometric) (1.20.1)\n",
            "Requirement already satisfied: idna>=2.0 in /usr/local/lib/python3.11/dist-packages (from yarl<2.0,>=1.17.0->aiohttp->torch_geometric) (3.10)\n",
            "Requirement already satisfied: typing-extensions>=4.2 in /usr/local/lib/python3.11/dist-packages (from aiosignal>=1.4.0->aiohttp->torch_geometric) (4.14.1)\n",
            "Requirement already satisfied: MarkupSafe>=2.0 in /usr/local/lib/python3.11/dist-packages (from jinja2->torch_geometric) (3.0.2)\n",
            "Requirement already satisfied: charset-normalizer<4,>=2 in /usr/local/lib/python3.11/dist-packages (from requests->torch_geometric) (3.4.2)\n",
            "Requirement already satisfied: urllib3<3,>=1.21.1 in /usr/local/lib/python3.11/dist-packages (from requests->torch_geometric) (2.5.0)\n",
            "Requirement already satisfied: certifi>=2017.4.17 in /usr/local/lib/python3.11/dist-packages (from requests->torch_geometric) (2025.7.14)\n",
            "Requirement already satisfied: joblib>=1.2.0 in /usr/local/lib/python3.11/dist-packages (from scikit-learn->torch_geometric) (1.5.1)\n",
            "Requirement already satisfied: threadpoolctl>=3.1.0 in /usr/local/lib/python3.11/dist-packages (from scikit-learn->torch_geometric) (3.6.0)\n",
            "Looking in links: https://data.pyg.org/whl/torch-2.3.0+cu121.html\n",
            "Collecting pyg-lib\n",
            "  Using cached https://data.pyg.org/whl/torch-2.3.0%2Bcu121/pyg_lib-0.4.0%2Bpt23cu121-cp311-cp311-linux_x86_64.whl (2.5 MB)\n",
            "Requirement already satisfied: torch-scatter in /usr/local/lib/python3.11/dist-packages (2.1.2+pt21cu118)\n",
            "Requirement already satisfied: torch-sparse in /usr/local/lib/python3.11/dist-packages (0.6.18+pt21cu118)\n",
            "Requirement already satisfied: scipy in /usr/local/lib/python3.11/dist-packages (from torch-sparse) (1.16.1)\n",
            "Requirement already satisfied: numpy<2.6,>=1.25.2 in /usr/local/lib/python3.11/dist-packages (from scipy->torch-sparse) (1.26.4)\n",
            "Installing collected packages: pyg-lib\n",
            "Successfully installed pyg-lib-0.4.0+pt23cu121\n"
          ]
        }
      ]
    },
    {
      "cell_type": "code",
      "source": [
        "import torch, numpy as np\n",
        "print(\"Torch :\", torch.__version__)\n",
        "print(\"NumPy :\", np.__version__)\n",
        "x = torch.rand(5)\n",
        "print(\"↪ tensor → numpy OK:\", x.numpy())\n"
      ],
      "metadata": {
        "id": "8UyYjlK14_Or",
        "outputId": "6187ed1f-6b6e-4721-d154-6bca86e5f468",
        "colab": {
          "base_uri": "https://localhost:8080/"
        }
      },
      "id": "8UyYjlK14_Or",
      "execution_count": null,
      "outputs": [
        {
          "output_type": "stream",
          "name": "stdout",
          "text": [
            "Torch : 2.3.1+cu118\n",
            "NumPy : 1.26.4\n",
            "↪ tensor → numpy OK: [0.8943804  0.6029812  0.9743484  0.7754896  0.04489189]\n"
          ]
        }
      ]
    },
    {
      "cell_type": "code",
      "source": [
        "!pip install \"numpy==1.26.4\""
      ],
      "metadata": {
        "id": "vGw4Gn7754D3",
        "outputId": "243d48c9-74a9-47e3-e27e-f4da2e6ddce0",
        "colab": {
          "base_uri": "https://localhost:8080/"
        }
      },
      "id": "vGw4Gn7754D3",
      "execution_count": null,
      "outputs": [
        {
          "output_type": "stream",
          "name": "stdout",
          "text": [
            "Requirement already satisfied: numpy==1.26.4 in /usr/local/lib/python3.11/dist-packages (1.26.4)\n"
          ]
        }
      ]
    },
    {
      "cell_type": "code",
      "source": [
        "##최종\n",
        "# 0) 기존 불일치 바이너리 제거\n",
        "pip uninstall -y pyg_lib torch_scatter torch_sparse torch_cluster torch_spline_conv\n",
        "\n",
        "# 1) 호환되는 wheel 재설치  (★ 핵심)\n",
        "CUDA=cu118                      # 또는 cpu / cu121 / cu124 …\n",
        "TORCH=2.3.1\n",
        "pip install --no-cache-dir --upgrade \\\n",
        "  pyg_lib torch_scatter torch_sparse torch_cluster torch_spline_conv \\\n",
        "  -f https://data.pyg.org/whl/torch-${TORCH}+${CUDA}.html\n",
        "\n",
        "# 2) PyG 본체도 동일 신규 버전으로 맞추기\n",
        "pip install --no-cache-dir --upgrade torch_geometric==2.5.3\n"
      ],
      "metadata": {
        "id": "WbKpVMq56w6u",
        "outputId": "0793ca34-31c4-4172-d935-6b23d366c69a",
        "colab": {
          "base_uri": "https://localhost:8080/",
          "height": 110
        }
      },
      "id": "WbKpVMq56w6u",
      "execution_count": null,
      "outputs": [
        {
          "output_type": "error",
          "ename": "SyntaxError",
          "evalue": "invalid syntax (ipython-input-2070931840.py, line 3)",
          "traceback": [
            "\u001b[0;36m  File \u001b[0;32m\"/tmp/ipython-input-2070931840.py\"\u001b[0;36m, line \u001b[0;32m3\u001b[0m\n\u001b[0;31m    pip uninstall -y pyg_lib torch_scatter torch_sparse torch_cluster torch_spline_conv\u001b[0m\n\u001b[0m        ^\u001b[0m\n\u001b[0;31mSyntaxError\u001b[0m\u001b[0;31m:\u001b[0m invalid syntax\n"
          ]
        }
      ]
    },
    {
      "cell_type": "code",
      "source": [
        "import torch, numpy as np\n",
        "print(\"Torch :\", torch.__version__)\n",
        "print(\"NumPy :\", np.__version__)\n",
        "x = torch.rand(5)\n",
        "print(\"↪ tensor → numpy OK:\", x.numpy())"
      ],
      "metadata": {
        "id": "mmsBi4wW68jr",
        "outputId": "78011ee1-5d57-4eb2-aaee-b0f1630d812f",
        "colab": {
          "base_uri": "https://localhost:8080/"
        }
      },
      "id": "mmsBi4wW68jr",
      "execution_count": null,
      "outputs": [
        {
          "output_type": "stream",
          "name": "stdout",
          "text": [
            "Torch : 2.6.0+cu124\n",
            "NumPy : 2.0.2\n",
            "↪ tensor → numpy OK: [0.06840491 0.78222835 0.91989636 0.92580205 0.62915576]\n"
          ]
        }
      ]
    },
    {
      "cell_type": "code",
      "source": [
        "## GNN 2차\n",
        "\"\"\"\n",
        "High‑fidelity GIN‑based SMILES Binary Classifier (K‑fold OOF)\n",
        "================================================================\n",
        "✦ Publication‑ready implementation with modern GNN best practices.\n",
        "   – Edge‑aware GINEConv + Residual + Virtual Node\n",
        "   – Rich atom / bond features (≈29 dims)\n",
        "   – OneCycleLR schedule + early stopping (best‑weight restore)\n",
        "   – Stratified K‑fold OOF saving for stacking\n",
        "   – Optuna hyper‑parameter search scaffold (optional)\n",
        "Colab target  ▸ NVIDIA T4 GPU (16 GB)\n",
        "Author        ▸ You 😊\n",
        "\n",
        "\"\"\"\n",
        "#shutil.rmtree(Path(DATA_ROOT) / \"processed\", ignore_errors=True)\n",
        "\n",
        "# ============================ Imports ============================\n",
        "import os, random, json, shutil, warnings, copy\n",
        "from pathlib import Path\n",
        "import numpy as np, pandas as pd, torch\n",
        "from rdkit import Chem\n",
        "from sklearn.model_selection import StratifiedKFold\n",
        "from sklearn.metrics import roc_auc_score, average_precision_score, accuracy_score\n",
        "from torch_geometric.data import Data, InMemoryDataset\n",
        "from torch_geometric.loader import DataLoader\n",
        "from torch_geometric.nn import GINEConv, global_add_pool, LayerNorm, BatchNorm\n",
        "from torch_geometric.nn.models import MLP, GIN\n",
        "from torch_geometric.nn.aggr import AttentionalAggregation\n",
        "from torch_geometric.nn import global_mean_pool, global_add_pool\n",
        "from torch.optim.lr_scheduler import OneCycleLR\n",
        "# --------------------------------------------------------------\n",
        "warnings.filterwarnings(\"ignore\")\n",
        "\n",
        "# ======================== Hyper‑parameters =======================\n",
        "CSV_PATH     = \"https://raw.githubusercontent.com/Parkss0/0428/main/dataset.csv\"         # ⇐ upload to Colab /content\n",
        "DATA_ROOT    = \"graph_cache\"         # PyG processed cache\n",
        "OUTPUT_DIR   = \"outputs_gnn\"         # OOF + metrics\n",
        "OOF_FILE     = \"oof_preds_gnn.csv\"\n",
        "K_FOLD       = 5\n",
        "EPOCHS       = 150                   # OneCycle → 30% warmup, rest cool\n",
        "BATCH_SIZE   = 64                    # T4 GPU OK\n",
        "BASE_LR      = 1e-3\n",
        "MAX_LR       = 3e-3\n",
        "HIDDEN_DIM   = 256\n",
        "NUM_LAYERS   = 6\n",
        "DROPOUT      = 0.25\n",
        "SEED         = 42\n",
        "PATIENCE     = 20                    # early‑stop patience (epochs)\n",
        "DEVICE       = torch.device(\"cuda\" if torch.cuda.is_available() else \"cpu\")\n",
        "\n",
        "os.makedirs(OUTPUT_DIR, exist_ok=True)\n",
        "random.seed(SEED); np.random.seed(SEED); torch.manual_seed(SEED)\n",
        "\n",
        "# ====================== Atom / Bond features =====================\n",
        "ATOM_LIST  = [\"C\",\"N\",\"O\",\"S\",\"F\",\"P\",\"Cl\",\"Br\",\"I\",\"H\"]\n",
        "HYB_LIST   = [Chem.rdchem.HybridizationType.SP,\n",
        "              Chem.rdchem.HybridizationType.SP2,\n",
        "              Chem.rdchem.HybridizationType.SP3,\n",
        "              Chem.rdchem.HybridizationType.SP3D]\n",
        "BOND_TYPES = {\n",
        "    Chem.rdchem.BondType.SINGLE  :0,\n",
        "    Chem.rdchem.BondType.DOUBLE  :1,\n",
        "    Chem.rdchem.BondType.TRIPLE  :2,\n",
        "    Chem.rdchem.BondType.AROMATIC:3,\n",
        "}\n",
        "\n",
        "def one_hot(idx: int, size: int) -> torch.Tensor:\n",
        "    v = torch.zeros(size); v[idx] = 1.\n",
        "    return v\n",
        "\n",
        "def atom_features(a: Chem.Atom) -> torch.Tensor:\n",
        "    # One‑hot: atom symbol, hybridization, valence bucket (≤4,5,6,>6)\n",
        "    symbol = one_hot(ATOM_LIST.index(a.GetSymbol())\n",
        "                     if a.GetSymbol() in ATOM_LIST else len(ATOM_LIST),\n",
        "                     len(ATOM_LIST)+1)\n",
        "    hyb    = one_hot(HYB_LIST.index(a.GetHybridization())\n",
        "                     if a.GetHybridization() in HYB_LIST else len(HYB_LIST),\n",
        "                     len(HYB_LIST)+1)\n",
        "    valence_bucket = min(a.GetTotalValence(), 7) // 2  # 0‑3 → bucket 0‑3\n",
        "    valence = one_hot(valence_bucket, 4)\n",
        "    # Scalar ints -> float\n",
        "    scalars = torch.tensor([\n",
        "        a.GetFormalCharge(),           # charge\n",
        "        a.GetTotalNumHs(),             # num Hs\n",
        "        int(a.GetIsAromatic()),\n",
        "        int(a.IsInRing())\n",
        "    ], dtype=torch.float)\n",
        "    return torch.cat([symbol, hyb, valence, scalars])  # ≈29 dims\n",
        "\n",
        "def bond_features(b: Chem.Bond) -> torch.Tensor:\n",
        "    return torch.tensor([\n",
        "        BOND_TYPES[b.GetBondType()],         # bond type idx\n",
        "        int(b.GetIsConjugated()),            # conjugated\n",
        "        int(b.IsInRing())                    # in ring\n",
        "    ], dtype=torch.long)\n",
        "\n",
        "# ==================== SMILES → PyG.Data ==========================\n",
        "\n",
        "def smiles_to_data(smiles: str, label: int):\n",
        "    mol = Chem.MolFromSmiles(smiles)\n",
        "    if mol is None:\n",
        "        return None\n",
        "    Chem.Kekulize(mol, clearAromaticFlags=True)\n",
        "\n",
        "    x = torch.stack([atom_features(a) for a in mol.GetAtoms()])\n",
        "\n",
        "    edge_index, edge_attr = [], []\n",
        "    for b in mol.GetBonds():\n",
        "        i, j = b.GetBeginAtomIdx(), b.GetEndAtomIdx()\n",
        "        e = bond_features(b)\n",
        "        edge_index += [[i, j], [j, i]]\n",
        "        edge_attr += [e, e]\n",
        "\n",
        "    edge_index = torch.tensor(\n",
        "        edge_index,\n",
        "        dtype=torch.long\n",
        "    ).t().contiguous()\n",
        "\n",
        "    # 🔑 edge_attr: float32로\n",
        "    if edge_attr:\n",
        "        edge_attr = torch.stack(edge_attr).float()\n",
        "    else:\n",
        "        edge_attr = torch.empty((0, 3), dtype=torch.float)\n",
        "\n",
        "    y = torch.tensor([label], dtype=torch.long)\n",
        "\n",
        "    return Data(\n",
        "        x=x,\n",
        "        edge_index=edge_index,\n",
        "        edge_attr=edge_attr,\n",
        "        y=y,\n",
        "        smiles=smiles\n",
        "    )\n",
        "\n",
        "# =================== In‑Memory Dataset ===========================\n",
        "class SmilesDataset(InMemoryDataset):\n",
        "    def __init__(self, root, csv_path):\n",
        "        self.csv_path = csv_path\n",
        "        super().__init__(root)\n",
        "        self.data, self.slices = torch.load(self.processed_paths[0], weights_only = False)\n",
        "\n",
        "    @property\n",
        "    def processed_file_names(self):\n",
        "        return [\"data.pt\"]\n",
        "\n",
        "    def process(self):\n",
        "        import csv  # csv.QUOTE_NONE 용\n",
        "\n",
        "        # --- 1) CSV 로드 (헤더 유무·깨진 줄 모두 대비) ---\n",
        "        df = pd.read_csv(\n",
        "            self.csv_path,\n",
        "            names=[\"canonical_smiles\", \"label\"],\n",
        "            header=None,\n",
        "            engine=\"python\",\n",
        "            quoting=csv.QUOTE_NONE,   # SMILES 안의 \" 무시\n",
        "            on_bad_lines=\"skip\"       # 완전히 깨진 줄 건너뜀\n",
        "        )\n",
        "\n",
        "        # --- 2) 첫 행이 헤더라면 제거 ---\n",
        "        if df.iloc[0, 0].lower() in {\"smiles\", \"canonical_smiles\"}:\n",
        "            df = df.drop(index=0).reset_index(drop=True)\n",
        "\n",
        "        # --- 3) label 열을 int로 안전 변환 후 0/1 외 값 제거 ---\n",
        "        df[\"label\"] = pd.to_numeric(df[\"label\"], errors=\"coerce\")\n",
        "        df = (\n",
        "            df.dropna(subset=[\"label\"])          # NaN 제거\n",
        "              .astype({\"label\": \"int64\"})        # int64 캐스팅\n",
        "              [df[\"label\"].isin([0, 1])]         # 0/1 필터\n",
        "              .reset_index(drop=True)\n",
        "        )\n",
        "\n",
        "        # --- 4) SMILES → PyG Data ---\n",
        "        smi_col = \"canonical_smiles\"\n",
        "        data_list = [\n",
        "            smiles_to_data(smi, lbl) for smi, lbl in zip(df[smi_col], df[\"label\"])\n",
        "        ]\n",
        "        data_list = [d for d in data_list if d]  # None 제거\n",
        "\n",
        "        # --- 5) Collate & 캐시 저장 ---\n",
        "        data, slices = self.collate(data_list)\n",
        "        Path(self.processed_paths[0]).parent.mkdir(parents=True, exist_ok=True)\n",
        "        torch.save((data, slices), self.processed_paths[0])\n",
        "\n",
        "\n",
        "# ========================= GINE model ===========================\n",
        "class ResidualGINE(torch.nn.Module):\n",
        "    def __init__(self, in_dim, hidden, n_layers, dropout):\n",
        "        super().__init__()\n",
        "        self.layers = torch.nn.ModuleList()\n",
        "        self.bns    = torch.nn.ModuleList()\n",
        "        self.dropout = torch.nn.Dropout(dropout)\n",
        "        for i in range(n_layers):\n",
        "            mlp = MLP([hidden if i>0 else in_dim, hidden, hidden], act=\"relu\", norm=None)\n",
        "            self.layers.append(GINEConv(mlp, edge_dim=3))  # edge_attr size=3\n",
        "            self.bns.append(LayerNorm(hidden))\n",
        "        self.head = torch.nn.Linear(hidden, 2)\n",
        "\n",
        "    def forward(self, data):\n",
        "        x, ei, ea, batch = data.x, data.edge_index, data.edge_attr, data.batch\n",
        "        h = x\n",
        "        for conv, bn in zip(self.layers, self.bns):\n",
        "            h_res = h\n",
        "            h = torch.relu(conv(h, ei, ea))\n",
        "            h = bn(h)\n",
        "            h = self.dropout(h)\n",
        "            h = h + h_res if h_res.shape == h.shape else h  # residual\n",
        "        out = self.head(global_add_pool(h, batch))\n",
        "        return out\n",
        "\n",
        "# ======================= Train utils ============================\n",
        "@torch.no_grad()\n",
        "def infer(model, loader):\n",
        "    model.eval(); probs, labs = [], []\n",
        "    for d in loader:\n",
        "        d = d.to(DEVICE)\n",
        "        o = torch.softmax(model(d), dim=1)[:,1]\n",
        "        probs.extend(o.cpu().numpy()); labs.extend(d.y.cpu().numpy())\n",
        "    return np.array(labs), np.array(probs)\n",
        "\n",
        "# ============================ Main ==============================\n",
        "\n",
        "def main():\n",
        "    ds = SmilesDataset(DATA_ROOT, CSV_PATH)\n",
        "    in_dim = ds[0].x.size(1)\n",
        "    labels = [d.y.item() for d in ds]\n",
        "\n",
        "    skf = StratifiedKFold(n_splits=K_FOLD, shuffle=True, random_state=SEED)\n",
        "    oof_probs = np.zeros(len(ds))\n",
        "    metrics, oof_list = [], []\n",
        "\n",
        "    for fold, (tr_idx, vl_idx) in enumerate(skf.split(np.zeros(len(labels)), labels)):\n",
        "        print(f\"\\n===== Fold {fold+1}/{K_FOLD} =====\")\n",
        "        torch.manual_seed(SEED+fold); torch.cuda.manual_seed_all(SEED+fold)\n",
        "\n",
        "        tr_set = ds[torch.tensor(tr_idx, dtype=torch.long)]\n",
        "        vl_set = ds[torch.tensor(vl_idx, dtype=torch.long)]\n",
        "        dl_tr  = DataLoader(tr_set, batch_size=BATCH_SIZE, shuffle=True)\n",
        "        dl_vl  = DataLoader(vl_set, batch_size=BATCH_SIZE)\n",
        "\n",
        "        model = ResidualGINE(in_dim, HIDDEN_DIM, NUM_LAYERS, DROPOUT).to(DEVICE)\n",
        "        opt   = torch.optim.AdamW(model.parameters(), lr=BASE_LR, weight_decay=1e-4)\n",
        "        sched = OneCycleLR(opt, max_lr=MAX_LR, total_steps=EPOCHS*len(dl_tr)//1)\n",
        "        crit  = torch.nn.CrossEntropyLoss()\n",
        "\n",
        "        best_auc, wait, best_state = 0, 0, None\n",
        "        for epoch in range(1, EPOCHS+1):\n",
        "            # --- train ---\n",
        "            model.train(); total_loss = 0\n",
        "            for d in dl_tr:\n",
        "                d = d.to(DEVICE)\n",
        "                opt.zero_grad()\n",
        "                out = model(d)\n",
        "                loss = crit(out, d.y)\n",
        "                loss.backward(); opt.step(); sched.step()\n",
        "                total_loss += loss.item()*d.num_graphs\n",
        "            # --- val ---\n",
        "            y_true, y_prob = infer(model, dl_vl)\n",
        "            auc = roc_auc_score(y_true, y_prob)\n",
        "            if auc > best_auc:\n",
        "                best_auc, wait = auc, 0\n",
        "                best_state = copy.deepcopy(model.state_dict())\n",
        "            else:\n",
        "                wait += 1\n",
        "            if epoch % 10 == 0 or epoch == 1:\n",
        "                print(f\"Epoch {epoch:03d} | loss {total_loss/len(dl_tr.dataset):.4f} | AUROC {auc:.4f}\")\n",
        "            if wait >= PATIENCE:\n",
        "                break\n",
        "        # restore best\n",
        "        model.load_state_dict(best_state)\n",
        "        y_true, y_prob = infer(model, dl_vl)\n",
        "        oof_probs[vl_idx] = y_prob\n",
        "\n",
        "        fold_metrics = {\n",
        "            \"AUROC\": roc_auc_score(y_true, y_prob),\n",
        "            \"AUPRC\": average_precision_score(y_true, y_prob),\n",
        "            \"ACC\"  : accuracy_score(y_true, (y_prob>0.5).astype(int))\n",
        "        }\n",
        "        metrics.append(fold_metrics)\n",
        "        print(\"Fold done:\", fold_metrics)\n",
        "\n",
        "        oof_list.append(pd.DataFrame({\n",
        "            \"idx\"  : vl_idx,\n",
        "            \"label\": y_true,\n",
        "            \"prob\" : y_prob,\n",
        "            \"fold\" : fold\n",
        "        }))\n",
        "\n",
        "    # ---------------- CV summary & OOF save ----------------\n",
        "    cv_mean = {k: float(np.mean([m[k] for m in metrics])) for k in metrics[0]}\n",
        "    print(\"\\n=== CV mean ===\\n\", json.dumps(cv_mean, indent=2))\n",
        "    with open(Path(OUTPUT_DIR)/\"cv_metrics.json\", \"w\") as f:\n",
        "        json.dump(cv_mean, f, indent=2)\n",
        "\n",
        "    oof_df = pd.concat(oof_list).sort_values(\"idx\").reset_index(drop=True)\n",
        "    oof_df.to_csv(Path(OUTPUT_DIR)/OOF_FILE, index=False)\n",
        "    print(f\"[INFO] OOF saved → {Path(OUTPUT_DIR)/OOF_FILE}\")\n",
        "\n",
        "if __name__ == \"__main__\":\n",
        "    # Uncomment to clear processed cache for new feature sets\n",
        "    # shutil.rmtree(Path(DATA_ROOT)/\"processed\", ignore_errors=True)\n",
        "    main()\n"
      ],
      "metadata": {
        "id": "b-XeAj271tut",
        "outputId": "4f6543c5-3909-4cf6-b608-767822fffbf8",
        "colab": {
          "base_uri": "https://localhost:8080/"
        }
      },
      "id": "b-XeAj271tut",
      "execution_count": null,
      "outputs": [
        {
          "output_type": "stream",
          "name": "stderr",
          "text": [
            "Processing...\n",
            "[05:15:23] WARNING: not removing hydrogen atom without neighbors\n",
            "Done!\n"
          ]
        },
        {
          "output_type": "stream",
          "name": "stdout",
          "text": [
            "\n",
            "===== Fold 1/5 =====\n",
            "Epoch 001 | loss 3.5919 | AUROC 0.5325\n",
            "Epoch 010 | loss 0.8759 | AUROC 0.4801\n",
            "Epoch 020 | loss 0.5833 | AUROC 0.5956\n",
            "Epoch 030 | loss 0.3080 | AUROC 0.5478\n",
            "Epoch 040 | loss 0.2587 | AUROC 0.6250\n",
            "Epoch 050 | loss 0.2526 | AUROC 0.6333\n",
            "Fold done: {'AUROC': 0.7394679173408154, 'AUPRC': 0.9633054057384592, 'ACC': 0.9218981710331191}\n",
            "\n",
            "===== Fold 2/5 =====\n",
            "Epoch 001 | loss 2.9726 | AUROC 0.5031\n",
            "Epoch 010 | loss 0.7597 | AUROC 0.6013\n",
            "Epoch 020 | loss 0.4779 | AUROC 0.4805\n",
            "Epoch 030 | loss 0.3362 | AUROC 0.4931\n",
            "Fold done: {'AUROC': 0.6895712304121517, 'AUPRC': 0.9600037119414733, 'ACC': 0.16806722689075632}\n",
            "\n",
            "===== Fold 3/5 =====\n",
            "Epoch 001 | loss 2.2851 | AUROC 0.5374\n",
            "Epoch 010 | loss 0.7458 | AUROC 0.6637\n",
            "Epoch 020 | loss 0.4690 | AUROC 0.6524\n",
            "Epoch 030 | loss 0.3683 | AUROC 0.6170\n",
            "Epoch 040 | loss 0.2759 | AUROC 0.6046\n",
            "Fold done: {'AUROC': 0.7410901899386099, 'AUPRC': 0.9691875747747688, 'ACC': 0.5615422639644093}\n",
            "\n",
            "===== Fold 4/5 =====\n",
            "Epoch 001 | loss 4.6137 | AUROC 0.3548\n",
            "Epoch 010 | loss 0.6894 | AUROC 0.4118\n",
            "Epoch 020 | loss 0.4672 | AUROC 0.5522\n",
            "Fold done: {'AUROC': 0.6688160081304162, 'AUPRC': 0.9512163960390067, 'ACC': 0.328719723183391}\n",
            "\n",
            "===== Fold 5/5 =====\n",
            "Epoch 001 | loss 3.3386 | AUROC 0.4024\n",
            "Epoch 010 | loss 0.6511 | AUROC 0.6395\n",
            "Epoch 020 | loss 0.4366 | AUROC 0.4361\n",
            "Epoch 030 | loss 0.3460 | AUROC 0.6863\n",
            "Epoch 040 | loss 0.2652 | AUROC 0.6386\n",
            "Epoch 050 | loss 0.2525 | AUROC 0.6787\n",
            "Fold done: {'AUROC': 0.7248089977189656, 'AUPRC': 0.958867030871672, 'ACC': 0.9183976261127597}\n",
            "\n",
            "=== CV mean ===\n",
            " {\n",
            "  \"AUROC\": 0.7127508687081917,\n",
            "  \"AUPRC\": 0.9605160238730761,\n",
            "  \"ACC\": 0.579725002236887\n",
            "}\n",
            "[INFO] OOF saved → outputs_gnn/oof_preds_gnn.csv\n"
          ]
        }
      ]
    },
    {
      "cell_type": "code",
      "source": [
        "from google.colab import files\n",
        "import os\n",
        "\n",
        "# 다운로드할 파일 경로 지정\n",
        "output_dir = \"outputs_gnn\"\n",
        "cv_metrics_file = os.path.join(output_dir, \"cv_metrics.json\")\n",
        "oof_file = os.path.join(output_dir, \"oof_preds_gnn.csv\")\n",
        "\n",
        "# 파일이 존재하는지 확인\n",
        "if os.path.exists(cv_metrics_file):\n",
        "    print(f\"Downloading {cv_metrics_file}...\")\n",
        "    files.download(cv_metrics_file)\n",
        "else:\n",
        "    print(f\"File not found: {cv_metrics_file}\")\n",
        "\n",
        "if os.path.exists(oof_file):\n",
        "    print(f\"Downloading {oof_file}...\")\n",
        "    files.download(oof_file)\n",
        "else:\n",
        "    print(f\"File not found: {oof_file}\")"
      ],
      "metadata": {
        "id": "gg2nowyD_fkY",
        "outputId": "b9263209-90f1-4fed-e529-941da2f6d39a",
        "colab": {
          "base_uri": "https://localhost:8080/",
          "height": 54
        }
      },
      "id": "gg2nowyD_fkY",
      "execution_count": null,
      "outputs": [
        {
          "output_type": "stream",
          "name": "stdout",
          "text": [
            "Downloading outputs_gnn/cv_metrics.json...\n"
          ]
        },
        {
          "output_type": "display_data",
          "data": {
            "text/plain": [
              "<IPython.core.display.Javascript object>"
            ],
            "application/javascript": [
              "\n",
              "    async function download(id, filename, size) {\n",
              "      if (!google.colab.kernel.accessAllowed) {\n",
              "        return;\n",
              "      }\n",
              "      const div = document.createElement('div');\n",
              "      const label = document.createElement('label');\n",
              "      label.textContent = `Downloading \"${filename}\": `;\n",
              "      div.appendChild(label);\n",
              "      const progress = document.createElement('progress');\n",
              "      progress.max = size;\n",
              "      div.appendChild(progress);\n",
              "      document.body.appendChild(div);\n",
              "\n",
              "      const buffers = [];\n",
              "      let downloaded = 0;\n",
              "\n",
              "      const channel = await google.colab.kernel.comms.open(id);\n",
              "      // Send a message to notify the kernel that we're ready.\n",
              "      channel.send({})\n",
              "\n",
              "      for await (const message of channel.messages) {\n",
              "        // Send a message to notify the kernel that we're ready.\n",
              "        channel.send({})\n",
              "        if (message.buffers) {\n",
              "          for (const buffer of message.buffers) {\n",
              "            buffers.push(buffer);\n",
              "            downloaded += buffer.byteLength;\n",
              "            progress.value = downloaded;\n",
              "          }\n",
              "        }\n",
              "      }\n",
              "      const blob = new Blob(buffers, {type: 'application/binary'});\n",
              "      const a = document.createElement('a');\n",
              "      a.href = window.URL.createObjectURL(blob);\n",
              "      a.download = filename;\n",
              "      div.appendChild(a);\n",
              "      a.click();\n",
              "      div.remove();\n",
              "    }\n",
              "  "
            ]
          },
          "metadata": {}
        },
        {
          "output_type": "display_data",
          "data": {
            "text/plain": [
              "<IPython.core.display.Javascript object>"
            ],
            "application/javascript": [
              "download(\"download_6c5aa0b4-be36-4cb0-b25e-9f3e0a066334\", \"cv_metrics.json\", 92)"
            ]
          },
          "metadata": {}
        },
        {
          "output_type": "stream",
          "name": "stdout",
          "text": [
            "Downloading outputs_gnn/oof_preds_gnn.csv...\n"
          ]
        },
        {
          "output_type": "display_data",
          "data": {
            "text/plain": [
              "<IPython.core.display.Javascript object>"
            ],
            "application/javascript": [
              "\n",
              "    async function download(id, filename, size) {\n",
              "      if (!google.colab.kernel.accessAllowed) {\n",
              "        return;\n",
              "      }\n",
              "      const div = document.createElement('div');\n",
              "      const label = document.createElement('label');\n",
              "      label.textContent = `Downloading \"${filename}\": `;\n",
              "      div.appendChild(label);\n",
              "      const progress = document.createElement('progress');\n",
              "      progress.max = size;\n",
              "      div.appendChild(progress);\n",
              "      document.body.appendChild(div);\n",
              "\n",
              "      const buffers = [];\n",
              "      let downloaded = 0;\n",
              "\n",
              "      const channel = await google.colab.kernel.comms.open(id);\n",
              "      // Send a message to notify the kernel that we're ready.\n",
              "      channel.send({})\n",
              "\n",
              "      for await (const message of channel.messages) {\n",
              "        // Send a message to notify the kernel that we're ready.\n",
              "        channel.send({})\n",
              "        if (message.buffers) {\n",
              "          for (const buffer of message.buffers) {\n",
              "            buffers.push(buffer);\n",
              "            downloaded += buffer.byteLength;\n",
              "            progress.value = downloaded;\n",
              "          }\n",
              "        }\n",
              "      }\n",
              "      const blob = new Blob(buffers, {type: 'application/binary'});\n",
              "      const a = document.createElement('a');\n",
              "      a.href = window.URL.createObjectURL(blob);\n",
              "      a.download = filename;\n",
              "      div.appendChild(a);\n",
              "      a.click();\n",
              "      div.remove();\n",
              "    }\n",
              "  "
            ]
          },
          "metadata": {}
        },
        {
          "output_type": "display_data",
          "data": {
            "text/plain": [
              "<IPython.core.display.Javascript object>"
            ],
            "application/javascript": [
              "download(\"download_50fe1d98-5a89-4cf6-a37e-6961474f0523\", \"oof_preds_gnn.csv\", 199772)"
            ]
          },
          "metadata": {}
        }
      ]
    },
    {
      "cell_type": "code",
      "source": [
        "# ⚡ Colab T4(GPU·CUDA 11.8)에서 가장 안전한 세트###3333\n",
        "# 기존에 설치된 라이브러리 제거 및 업데이트\n",
        "!pip install -U pip wheel\n",
        "!pip uninstall -y torch-geometric torch-scatter torch-sparse torch-cluster\n",
        "!pip uninstall -y torch torchvision torchaudio\n",
        "\n",
        "# PyTorch 및 의존성 재설치\n",
        "!pip install torch==2.1.2 torchvision==0.16.2 torchaudio==2.1.2 \\\n",
        "            --extra-index-url https://download.pytorch.org/whl/cu118\n",
        "\n",
        "# PyG 확장 라이브러리 재설치 (PyTorch 버전에 맞춰)\n",
        "!pip install torch-scatter -f https://data.pyg.org/whl/torch-2.1.0+cu118.html\n",
        "!pip install torch-sparse  -f https://data.pyg.org/whl/torch-2.1.0+cu118.html\n",
        "!pip install torch-cluster -f https://data.pyg.org/whl/torch-2.1.0+cu118.html\n",
        "\n",
        "# PyG 본체 재설치\n",
        "!pip install torch-geometric==2.5.0\n",
        "\n",
        "# NumPy도 PyTorch에 맞춰 재설치\n",
        "!pip install numpy==1.26.4"
      ],
      "metadata": {
        "id": "42Kti4d48ZNn",
        "outputId": "16e43734-8259-4c2d-876d-660770579d58",
        "colab": {
          "base_uri": "https://localhost:8080/",
          "height": 1000
        }
      },
      "id": "42Kti4d48ZNn",
      "execution_count": null,
      "outputs": [
        {
          "output_type": "stream",
          "name": "stdout",
          "text": [
            "Requirement already satisfied: pip in /usr/local/lib/python3.11/dist-packages (25.2)\n",
            "Requirement already satisfied: wheel in /usr/local/lib/python3.11/dist-packages (0.45.1)\n",
            "Found existing installation: torch_geometric 2.5.0\n",
            "Uninstalling torch_geometric-2.5.0:\n",
            "  Successfully uninstalled torch_geometric-2.5.0\n",
            "Found existing installation: torch-scatter 2.1.2+pt21cu118\n",
            "Uninstalling torch-scatter-2.1.2+pt21cu118:\n",
            "  Successfully uninstalled torch-scatter-2.1.2+pt21cu118\n",
            "Found existing installation: torch-sparse 0.6.18+pt21cu118\n",
            "Uninstalling torch-sparse-0.6.18+pt21cu118:\n",
            "  Successfully uninstalled torch-sparse-0.6.18+pt21cu118\n",
            "Found existing installation: torch-cluster 1.6.3+pt21cu118\n",
            "Uninstalling torch-cluster-1.6.3+pt21cu118:\n",
            "  Successfully uninstalled torch-cluster-1.6.3+pt21cu118\n",
            "Found existing installation: torch 2.1.2+cu118\n",
            "Uninstalling torch-2.1.2+cu118:\n",
            "  Successfully uninstalled torch-2.1.2+cu118\n",
            "Found existing installation: torchvision 0.16.2+cu118\n",
            "Uninstalling torchvision-0.16.2+cu118:\n",
            "  Successfully uninstalled torchvision-0.16.2+cu118\n",
            "Found existing installation: torchaudio 2.1.2+cu118\n",
            "Uninstalling torchaudio-2.1.2+cu118:\n",
            "  Successfully uninstalled torchaudio-2.1.2+cu118\n",
            "Looking in indexes: https://pypi.org/simple, https://download.pytorch.org/whl/cu118\n",
            "Collecting torch==2.1.2\n",
            "  Using cached https://download.pytorch.org/whl/cu118/torch-2.1.2%2Bcu118-cp311-cp311-linux_x86_64.whl (2325.9 MB)\n",
            "Collecting torchvision==0.16.2\n",
            "  Using cached https://download.pytorch.org/whl/cu118/torchvision-0.16.2%2Bcu118-cp311-cp311-linux_x86_64.whl (6.1 MB)\n",
            "Collecting torchaudio==2.1.2\n",
            "  Using cached https://download.pytorch.org/whl/cu118/torchaudio-2.1.2%2Bcu118-cp311-cp311-linux_x86_64.whl (3.2 MB)\n",
            "Requirement already satisfied: filelock in /usr/local/lib/python3.11/dist-packages (from torch==2.1.2) (3.18.0)\n",
            "Requirement already satisfied: typing-extensions in /usr/local/lib/python3.11/dist-packages (from torch==2.1.2) (4.14.1)\n",
            "Requirement already satisfied: sympy in /usr/local/lib/python3.11/dist-packages (from torch==2.1.2) (1.13.1)\n",
            "Requirement already satisfied: networkx in /usr/local/lib/python3.11/dist-packages (from torch==2.1.2) (3.5)\n",
            "Requirement already satisfied: jinja2 in /usr/local/lib/python3.11/dist-packages (from torch==2.1.2) (3.1.6)\n",
            "Requirement already satisfied: fsspec in /usr/local/lib/python3.11/dist-packages (from torch==2.1.2) (2025.3.0)\n",
            "Requirement already satisfied: triton==2.1.0 in /usr/local/lib/python3.11/dist-packages (from torch==2.1.2) (2.1.0)\n",
            "Requirement already satisfied: numpy in /usr/local/lib/python3.11/dist-packages (from torchvision==0.16.2) (2.0.2)\n",
            "Requirement already satisfied: requests in /usr/local/lib/python3.11/dist-packages (from torchvision==0.16.2) (2.32.3)\n",
            "Requirement already satisfied: pillow!=8.3.*,>=5.3.0 in /usr/local/lib/python3.11/dist-packages (from torchvision==0.16.2) (11.3.0)\n",
            "Requirement already satisfied: MarkupSafe>=2.0 in /usr/local/lib/python3.11/dist-packages (from jinja2->torch==2.1.2) (3.0.2)\n",
            "Requirement already satisfied: charset-normalizer<4,>=2 in /usr/local/lib/python3.11/dist-packages (from requests->torchvision==0.16.2) (3.4.2)\n",
            "Requirement already satisfied: idna<4,>=2.5 in /usr/local/lib/python3.11/dist-packages (from requests->torchvision==0.16.2) (3.10)\n",
            "Requirement already satisfied: urllib3<3,>=1.21.1 in /usr/local/lib/python3.11/dist-packages (from requests->torchvision==0.16.2) (2.5.0)\n",
            "Requirement already satisfied: certifi>=2017.4.17 in /usr/local/lib/python3.11/dist-packages (from requests->torchvision==0.16.2) (2025.7.14)\n",
            "Requirement already satisfied: mpmath<1.4,>=1.1.0 in /usr/local/lib/python3.11/dist-packages (from sympy->torch==2.1.2) (1.3.0)\n",
            "Installing collected packages: torch, torchvision, torchaudio\n",
            "\u001b[2K   \u001b[90m━━━━━━━━━━━━━━━━━━━━━━━━━━━━━━━━━━━━━━━━\u001b[0m \u001b[32m3/3\u001b[0m [torchaudio]\n",
            "\u001b[1A\u001b[2KSuccessfully installed torch-2.1.2+cu118 torchaudio-2.1.2+cu118 torchvision-0.16.2+cu118\n",
            "Looking in links: https://data.pyg.org/whl/torch-2.1.0+cu118.html\n",
            "Collecting torch-scatter\n",
            "  Using cached https://data.pyg.org/whl/torch-2.1.0%2Bcu118/torch_scatter-2.1.2%2Bpt21cu118-cp311-cp311-linux_x86_64.whl (10.2 MB)\n",
            "Installing collected packages: torch-scatter\n",
            "Successfully installed torch-scatter-2.1.2+pt21cu118\n",
            "Looking in links: https://data.pyg.org/whl/torch-2.1.0+cu118.html\n",
            "Collecting torch-sparse\n",
            "  Using cached https://data.pyg.org/whl/torch-2.1.0%2Bcu118/torch_sparse-0.6.18%2Bpt21cu118-cp311-cp311-linux_x86_64.whl (4.9 MB)\n",
            "Requirement already satisfied: scipy in /usr/local/lib/python3.11/dist-packages (from torch-sparse) (1.16.1)\n",
            "Requirement already satisfied: numpy<2.6,>=1.25.2 in /usr/local/lib/python3.11/dist-packages (from scipy->torch-sparse) (2.0.2)\n",
            "Installing collected packages: torch-sparse\n",
            "Successfully installed torch-sparse-0.6.18+pt21cu118\n",
            "Looking in links: https://data.pyg.org/whl/torch-2.1.0+cu118.html\n",
            "Collecting torch-cluster\n",
            "  Using cached https://data.pyg.org/whl/torch-2.1.0%2Bcu118/torch_cluster-1.6.3%2Bpt21cu118-cp311-cp311-linux_x86_64.whl (3.3 MB)\n",
            "Requirement already satisfied: scipy in /usr/local/lib/python3.11/dist-packages (from torch-cluster) (1.16.1)\n",
            "Requirement already satisfied: numpy<2.6,>=1.25.2 in /usr/local/lib/python3.11/dist-packages (from scipy->torch-cluster) (2.0.2)\n",
            "Installing collected packages: torch-cluster\n",
            "Successfully installed torch-cluster-1.6.3+pt21cu118\n",
            "Collecting torch-geometric==2.5.0\n",
            "  Using cached torch_geometric-2.5.0-py3-none-any.whl.metadata (64 kB)\n",
            "Requirement already satisfied: tqdm in /usr/local/lib/python3.11/dist-packages (from torch-geometric==2.5.0) (4.67.1)\n",
            "Requirement already satisfied: numpy in /usr/local/lib/python3.11/dist-packages (from torch-geometric==2.5.0) (2.0.2)\n",
            "Requirement already satisfied: scipy in /usr/local/lib/python3.11/dist-packages (from torch-geometric==2.5.0) (1.16.1)\n",
            "Requirement already satisfied: fsspec in /usr/local/lib/python3.11/dist-packages (from torch-geometric==2.5.0) (2025.3.0)\n",
            "Requirement already satisfied: jinja2 in /usr/local/lib/python3.11/dist-packages (from torch-geometric==2.5.0) (3.1.6)\n",
            "Requirement already satisfied: aiohttp in /usr/local/lib/python3.11/dist-packages (from torch-geometric==2.5.0) (3.12.15)\n",
            "Requirement already satisfied: requests in /usr/local/lib/python3.11/dist-packages (from torch-geometric==2.5.0) (2.32.3)\n",
            "Requirement already satisfied: pyparsing in /usr/local/lib/python3.11/dist-packages (from torch-geometric==2.5.0) (3.2.3)\n",
            "Requirement already satisfied: scikit-learn in /usr/local/lib/python3.11/dist-packages (from torch-geometric==2.5.0) (1.6.1)\n",
            "Requirement already satisfied: psutil>=5.8.0 in /usr/local/lib/python3.11/dist-packages (from torch-geometric==2.5.0) (5.9.5)\n",
            "Requirement already satisfied: aiohappyeyeballs>=2.5.0 in /usr/local/lib/python3.11/dist-packages (from aiohttp->torch-geometric==2.5.0) (2.6.1)\n",
            "Requirement already satisfied: aiosignal>=1.4.0 in /usr/local/lib/python3.11/dist-packages (from aiohttp->torch-geometric==2.5.0) (1.4.0)\n",
            "Requirement already satisfied: attrs>=17.3.0 in /usr/local/lib/python3.11/dist-packages (from aiohttp->torch-geometric==2.5.0) (25.3.0)\n",
            "Requirement already satisfied: frozenlist>=1.1.1 in /usr/local/lib/python3.11/dist-packages (from aiohttp->torch-geometric==2.5.0) (1.7.0)\n",
            "Requirement already satisfied: multidict<7.0,>=4.5 in /usr/local/lib/python3.11/dist-packages (from aiohttp->torch-geometric==2.5.0) (6.6.3)\n",
            "Requirement already satisfied: propcache>=0.2.0 in /usr/local/lib/python3.11/dist-packages (from aiohttp->torch-geometric==2.5.0) (0.3.2)\n",
            "Requirement already satisfied: yarl<2.0,>=1.17.0 in /usr/local/lib/python3.11/dist-packages (from aiohttp->torch-geometric==2.5.0) (1.20.1)\n",
            "Requirement already satisfied: idna>=2.0 in /usr/local/lib/python3.11/dist-packages (from yarl<2.0,>=1.17.0->aiohttp->torch-geometric==2.5.0) (3.10)\n",
            "Requirement already satisfied: typing-extensions>=4.2 in /usr/local/lib/python3.11/dist-packages (from aiosignal>=1.4.0->aiohttp->torch-geometric==2.5.0) (4.14.1)\n",
            "Requirement already satisfied: MarkupSafe>=2.0 in /usr/local/lib/python3.11/dist-packages (from jinja2->torch-geometric==2.5.0) (3.0.2)\n",
            "Requirement already satisfied: charset-normalizer<4,>=2 in /usr/local/lib/python3.11/dist-packages (from requests->torch-geometric==2.5.0) (3.4.2)\n",
            "Requirement already satisfied: urllib3<3,>=1.21.1 in /usr/local/lib/python3.11/dist-packages (from requests->torch-geometric==2.5.0) (2.5.0)\n",
            "Requirement already satisfied: certifi>=2017.4.17 in /usr/local/lib/python3.11/dist-packages (from requests->torch-geometric==2.5.0) (2025.7.14)\n",
            "Requirement already satisfied: joblib>=1.2.0 in /usr/local/lib/python3.11/dist-packages (from scikit-learn->torch-geometric==2.5.0) (1.5.1)\n",
            "Requirement already satisfied: threadpoolctl>=3.1.0 in /usr/local/lib/python3.11/dist-packages (from scikit-learn->torch-geometric==2.5.0) (3.6.0)\n",
            "Using cached torch_geometric-2.5.0-py3-none-any.whl (1.1 MB)\n",
            "Installing collected packages: torch-geometric\n",
            "Successfully installed torch-geometric-2.5.0\n",
            "Collecting numpy==1.26.4\n",
            "  Downloading numpy-1.26.4-cp311-cp311-manylinux_2_17_x86_64.manylinux2014_x86_64.whl.metadata (61 kB)\n",
            "Downloading numpy-1.26.4-cp311-cp311-manylinux_2_17_x86_64.manylinux2014_x86_64.whl (18.3 MB)\n",
            "\u001b[2K   \u001b[90m━━━━━━━━━━━━━━━━━━━━━━━━━━━━━━━━━━━━━━━━\u001b[0m \u001b[32m18.3/18.3 MB\u001b[0m \u001b[31m104.3 MB/s\u001b[0m  \u001b[33m0:00:00\u001b[0m\n",
            "\u001b[?25hInstalling collected packages: numpy\n",
            "  Attempting uninstall: numpy\n",
            "    Found existing installation: numpy 2.0.2\n",
            "    Uninstalling numpy-2.0.2:\n",
            "      Successfully uninstalled numpy-2.0.2\n",
            "\u001b[31mERROR: pip's dependency resolver does not currently take into account all the packages that are installed. This behaviour is the source of the following dependency conflicts.\n",
            "opencv-python 4.12.0.88 requires numpy<2.3.0,>=2; python_version >= \"3.9\", but you have numpy 1.26.4 which is incompatible.\n",
            "opencv-python-headless 4.12.0.88 requires numpy<2.3.0,>=2; python_version >= \"3.9\", but you have numpy 1.26.4 which is incompatible.\n",
            "opencv-contrib-python 4.12.0.88 requires numpy<2.3.0,>=2; python_version >= \"3.9\", but you have numpy 1.26.4 which is incompatible.\n",
            "thinc 8.3.6 requires numpy<3.0.0,>=2.0.0, but you have numpy 1.26.4 which is incompatible.\u001b[0m\u001b[31m\n",
            "\u001b[0mSuccessfully installed numpy-1.26.4\n"
          ]
        },
        {
          "output_type": "display_data",
          "data": {
            "application/vnd.colab-display-data+json": {
              "pip_warning": {
                "packages": [
                  "numpy"
                ]
              },
              "id": "b7f8d13b9993493481df711c10ae6ea1"
            }
          },
          "metadata": {}
        }
      ]
    },
    {
      "cell_type": "code",
      "source": [
        "!pip install rdkit"
      ],
      "metadata": {
        "id": "zDQqfBzZ7FEa",
        "outputId": "ccf51c2a-61b6-4b1a-e161-840823c6b470",
        "colab": {
          "base_uri": "https://localhost:8080/"
        }
      },
      "id": "zDQqfBzZ7FEa",
      "execution_count": null,
      "outputs": [
        {
          "output_type": "stream",
          "name": "stdout",
          "text": [
            "Collecting rdkit\n",
            "  Downloading rdkit-2025.3.5-cp311-cp311-manylinux_2_28_x86_64.whl.metadata (4.1 kB)\n",
            "Requirement already satisfied: numpy in /usr/local/lib/python3.11/dist-packages (from rdkit) (2.0.2)\n",
            "Requirement already satisfied: Pillow in /usr/local/lib/python3.11/dist-packages (from rdkit) (11.3.0)\n",
            "Downloading rdkit-2025.3.5-cp311-cp311-manylinux_2_28_x86_64.whl (36.3 MB)\n",
            "\u001b[2K   \u001b[90m━━━━━━━━━━━━━━━━━━━━━━━━━━━━━━━━━━━━━━━━\u001b[0m \u001b[32m36.3/36.3 MB\u001b[0m \u001b[31m17.5 MB/s\u001b[0m eta \u001b[36m0:00:00\u001b[0m\n",
            "\u001b[?25hInstalling collected packages: rdkit\n",
            "Successfully installed rdkit-2025.3.5\n"
          ]
        }
      ]
    },
    {
      "cell_type": "code",
      "source": [
        "# ⚡  Colab T4(GPU·CUDA 11.8)에서 가장 안전한 세트\n",
        "!pip install -U pip wheel\n",
        "!pip install torch==2.1.2+cu118 torchvision==0.16.2+cu118 torchaudio==2.1.2+cu118 \\\n",
        "           --extra-index-url https://download.pytorch.org/whl/cu118\n",
        "!pip install torch-scatter -f https://data.pyg.org/whl/torch-2.1.0+cu118.html\n",
        "!pip install torch-sparse  -f https://data.pyg.org/whl/torch-2.1.0+cu118.html\n",
        "!pip install torch-cluster -f https://data.pyg.org/whl/torch-2.1.0+cu118.html\n",
        "!pip install torch-geometric==2.5.0"
      ],
      "metadata": {
        "id": "QbQYQO4j7UzA",
        "outputId": "f5cb16c8-cbf0-431d-e119-3eeffa5bdd91",
        "colab": {
          "base_uri": "https://localhost:8080/"
        }
      },
      "id": "QbQYQO4j7UzA",
      "execution_count": null,
      "outputs": [
        {
          "output_type": "stream",
          "name": "stdout",
          "text": [
            "Requirement already satisfied: pip in /usr/local/lib/python3.11/dist-packages (24.1.2)\n",
            "Collecting pip\n",
            "  Downloading pip-25.2-py3-none-any.whl.metadata (4.7 kB)\n",
            "Requirement already satisfied: wheel in /usr/local/lib/python3.11/dist-packages (0.45.1)\n",
            "Downloading pip-25.2-py3-none-any.whl (1.8 MB)\n",
            "\u001b[2K   \u001b[90m━━━━━━━━━━━━━━━━━━━━━━━━━━━━━━━━━━━━━━━━\u001b[0m \u001b[32m1.8/1.8 MB\u001b[0m \u001b[31m30.9 MB/s\u001b[0m eta \u001b[36m0:00:00\u001b[0m\n",
            "\u001b[?25hInstalling collected packages: pip\n",
            "  Attempting uninstall: pip\n",
            "    Found existing installation: pip 24.1.2\n",
            "    Uninstalling pip-24.1.2:\n",
            "      Successfully uninstalled pip-24.1.2\n",
            "Successfully installed pip-25.2\n",
            "Looking in indexes: https://pypi.org/simple, https://download.pytorch.org/whl/cu118\n",
            "Collecting torch==2.1.2+cu118\n",
            "  Downloading https://download.pytorch.org/whl/cu118/torch-2.1.2%2Bcu118-cp311-cp311-linux_x86_64.whl (2325.9 MB)\n",
            "\u001b[2K     \u001b[90m━━━━━━━━━━━━━━━━━━━━━━━━━━━━━━━━━━━━━━━━\u001b[0m \u001b[32m2.3/2.3 GB\u001b[0m \u001b[31m9.4 MB/s\u001b[0m  \u001b[33m0:00:52\u001b[0m\n",
            "\u001b[?25hCollecting torchvision==0.16.2+cu118\n",
            "  Downloading https://download.pytorch.org/whl/cu118/torchvision-0.16.2%2Bcu118-cp311-cp311-linux_x86_64.whl (6.1 MB)\n",
            "\u001b[2K     \u001b[90m━━━━━━━━━━━━━━━━━━━━━━━━━━━━━━━━━━━━━━━━\u001b[0m \u001b[32m6.1/6.1 MB\u001b[0m \u001b[31m91.5 MB/s\u001b[0m  \u001b[33m0:00:00\u001b[0m\n",
            "\u001b[?25hCollecting torchaudio==2.1.2+cu118\n",
            "  Downloading https://download.pytorch.org/whl/cu118/torchaudio-2.1.2%2Bcu118-cp311-cp311-linux_x86_64.whl (3.2 MB)\n",
            "\u001b[2K     \u001b[90m━━━━━━━━━━━━━━━━━━━━━━━━━━━━━━━━━━━━━━━━\u001b[0m \u001b[32m3.2/3.2 MB\u001b[0m \u001b[31m97.8 MB/s\u001b[0m  \u001b[33m0:00:00\u001b[0m\n",
            "\u001b[?25hRequirement already satisfied: filelock in /usr/local/lib/python3.11/dist-packages (from torch==2.1.2+cu118) (3.18.0)\n",
            "Requirement already satisfied: typing-extensions in /usr/local/lib/python3.11/dist-packages (from torch==2.1.2+cu118) (4.14.1)\n",
            "Requirement already satisfied: sympy in /usr/local/lib/python3.11/dist-packages (from torch==2.1.2+cu118) (1.13.1)\n",
            "Requirement already satisfied: networkx in /usr/local/lib/python3.11/dist-packages (from torch==2.1.2+cu118) (3.5)\n",
            "Requirement already satisfied: jinja2 in /usr/local/lib/python3.11/dist-packages (from torch==2.1.2+cu118) (3.1.6)\n",
            "Requirement already satisfied: fsspec in /usr/local/lib/python3.11/dist-packages (from torch==2.1.2+cu118) (2025.3.0)\n",
            "Collecting triton==2.1.0 (from torch==2.1.2+cu118)\n",
            "  Downloading https://download.pytorch.org/whl/triton-2.1.0-0-cp311-cp311-manylinux2014_x86_64.manylinux_2_17_x86_64.whl (89.2 MB)\n",
            "\u001b[2K     \u001b[90m━━━━━━━━━━━━━━━━━━━━━━━━━━━━━━━━━━━━━━━━\u001b[0m \u001b[32m89.2/89.2 MB\u001b[0m \u001b[31m60.8 MB/s\u001b[0m  \u001b[33m0:00:01\u001b[0m\n",
            "\u001b[?25hRequirement already satisfied: numpy in /usr/local/lib/python3.11/dist-packages (from torchvision==0.16.2+cu118) (2.0.2)\n",
            "Requirement already satisfied: requests in /usr/local/lib/python3.11/dist-packages (from torchvision==0.16.2+cu118) (2.32.3)\n",
            "Requirement already satisfied: pillow!=8.3.*,>=5.3.0 in /usr/local/lib/python3.11/dist-packages (from torchvision==0.16.2+cu118) (11.3.0)\n",
            "Requirement already satisfied: MarkupSafe>=2.0 in /usr/local/lib/python3.11/dist-packages (from jinja2->torch==2.1.2+cu118) (3.0.2)\n",
            "Requirement already satisfied: charset-normalizer<4,>=2 in /usr/local/lib/python3.11/dist-packages (from requests->torchvision==0.16.2+cu118) (3.4.2)\n",
            "Requirement already satisfied: idna<4,>=2.5 in /usr/local/lib/python3.11/dist-packages (from requests->torchvision==0.16.2+cu118) (3.10)\n",
            "Requirement already satisfied: urllib3<3,>=1.21.1 in /usr/local/lib/python3.11/dist-packages (from requests->torchvision==0.16.2+cu118) (2.5.0)\n",
            "Requirement already satisfied: certifi>=2017.4.17 in /usr/local/lib/python3.11/dist-packages (from requests->torchvision==0.16.2+cu118) (2025.7.14)\n",
            "Requirement already satisfied: mpmath<1.4,>=1.1.0 in /usr/local/lib/python3.11/dist-packages (from sympy->torch==2.1.2+cu118) (1.3.0)\n",
            "Installing collected packages: triton, torch, torchvision, torchaudio\n",
            "\u001b[2K  Attempting uninstall: triton\n",
            "\u001b[2K    Found existing installation: triton 3.2.0\n",
            "\u001b[2K    Uninstalling triton-3.2.0:\n",
            "\u001b[2K      Successfully uninstalled triton-3.2.0\n",
            "\u001b[2K  Attempting uninstall: torch\n",
            "\u001b[2K    Found existing installation: torch 2.6.0+cu124\n",
            "\u001b[2K    Uninstalling torch-2.6.0+cu124:\n",
            "\u001b[2K      Successfully uninstalled torch-2.6.0+cu124\n",
            "\u001b[2K  Attempting uninstall: torchvision\n",
            "\u001b[2K    Found existing installation: torchvision 0.21.0+cu124\n",
            "\u001b[2K    Uninstalling torchvision-0.21.0+cu124:\n",
            "\u001b[2K      Successfully uninstalled torchvision-0.21.0+cu124\n",
            "\u001b[2K  Attempting uninstall: torchaudio\n",
            "\u001b[2K    Found existing installation: torchaudio 2.6.0+cu124\n",
            "\u001b[2K    Uninstalling torchaudio-2.6.0+cu124:\n",
            "\u001b[2K      Successfully uninstalled torchaudio-2.6.0+cu124\n",
            "\u001b[2K   \u001b[90m━━━━━━━━━━━━━━━━━━━━━━━━━━━━━━━━━━━━━━━━\u001b[0m \u001b[32m4/4\u001b[0m [torchaudio]\n",
            "\u001b[1A\u001b[2KSuccessfully installed torch-2.1.2+cu118 torchaudio-2.1.2+cu118 torchvision-0.16.2+cu118 triton-2.1.0\n",
            "Looking in links: https://data.pyg.org/whl/torch-2.1.0+cu118.html\n",
            "Collecting torch-scatter\n",
            "  Downloading https://data.pyg.org/whl/torch-2.1.0%2Bcu118/torch_scatter-2.1.2%2Bpt21cu118-cp311-cp311-linux_x86_64.whl (10.2 MB)\n",
            "\u001b[2K     \u001b[90m━━━━━━━━━━━━━━━━━━━━━━━━━━━━━━━━━━━━━━━━\u001b[0m \u001b[32m10.2/10.2 MB\u001b[0m \u001b[31m128.1 MB/s\u001b[0m  \u001b[33m0:00:00\u001b[0m\n",
            "\u001b[?25hInstalling collected packages: torch-scatter\n",
            "Successfully installed torch-scatter-2.1.2+pt21cu118\n",
            "Looking in links: https://data.pyg.org/whl/torch-2.1.0+cu118.html\n",
            "Collecting torch-sparse\n",
            "  Downloading https://data.pyg.org/whl/torch-2.1.0%2Bcu118/torch_sparse-0.6.18%2Bpt21cu118-cp311-cp311-linux_x86_64.whl (4.9 MB)\n",
            "\u001b[2K     \u001b[90m━━━━━━━━━━━━━━━━━━━━━━━━━━━━━━━━━━━━━━━━\u001b[0m \u001b[32m4.9/4.9 MB\u001b[0m \u001b[31m96.2 MB/s\u001b[0m  \u001b[33m0:00:00\u001b[0m\n",
            "\u001b[?25hRequirement already satisfied: scipy in /usr/local/lib/python3.11/dist-packages (from torch-sparse) (1.16.1)\n",
            "Requirement already satisfied: numpy<2.6,>=1.25.2 in /usr/local/lib/python3.11/dist-packages (from scipy->torch-sparse) (2.0.2)\n",
            "Installing collected packages: torch-sparse\n",
            "Successfully installed torch-sparse-0.6.18+pt21cu118\n",
            "Looking in links: https://data.pyg.org/whl/torch-2.1.0+cu118.html\n",
            "Collecting torch-cluster\n",
            "  Downloading https://data.pyg.org/whl/torch-2.1.0%2Bcu118/torch_cluster-1.6.3%2Bpt21cu118-cp311-cp311-linux_x86_64.whl (3.3 MB)\n",
            "\u001b[2K     \u001b[90m━━━━━━━━━━━━━━━━━━━━━━━━━━━━━━━━━━━━━━━━\u001b[0m \u001b[32m3.3/3.3 MB\u001b[0m \u001b[31m35.0 MB/s\u001b[0m  \u001b[33m0:00:00\u001b[0m\n",
            "\u001b[?25hRequirement already satisfied: scipy in /usr/local/lib/python3.11/dist-packages (from torch-cluster) (1.16.1)\n",
            "Requirement already satisfied: numpy<2.6,>=1.25.2 in /usr/local/lib/python3.11/dist-packages (from scipy->torch-cluster) (2.0.2)\n",
            "Installing collected packages: torch-cluster\n",
            "Successfully installed torch-cluster-1.6.3+pt21cu118\n",
            "Collecting torch-geometric==2.5.0\n",
            "  Downloading torch_geometric-2.5.0-py3-none-any.whl.metadata (64 kB)\n",
            "Requirement already satisfied: tqdm in /usr/local/lib/python3.11/dist-packages (from torch-geometric==2.5.0) (4.67.1)\n",
            "Requirement already satisfied: numpy in /usr/local/lib/python3.11/dist-packages (from torch-geometric==2.5.0) (2.0.2)\n",
            "Requirement already satisfied: scipy in /usr/local/lib/python3.11/dist-packages (from torch-geometric==2.5.0) (1.16.1)\n",
            "Requirement already satisfied: fsspec in /usr/local/lib/python3.11/dist-packages (from torch-geometric==2.5.0) (2025.3.0)\n",
            "Requirement already satisfied: jinja2 in /usr/local/lib/python3.11/dist-packages (from torch-geometric==2.5.0) (3.1.6)\n",
            "Requirement already satisfied: aiohttp in /usr/local/lib/python3.11/dist-packages (from torch-geometric==2.5.0) (3.12.15)\n",
            "Requirement already satisfied: requests in /usr/local/lib/python3.11/dist-packages (from torch-geometric==2.5.0) (2.32.3)\n",
            "Requirement already satisfied: pyparsing in /usr/local/lib/python3.11/dist-packages (from torch-geometric==2.5.0) (3.2.3)\n",
            "Requirement already satisfied: scikit-learn in /usr/local/lib/python3.11/dist-packages (from torch-geometric==2.5.0) (1.6.1)\n",
            "Requirement already satisfied: psutil>=5.8.0 in /usr/local/lib/python3.11/dist-packages (from torch-geometric==2.5.0) (5.9.5)\n",
            "Requirement already satisfied: aiohappyeyeballs>=2.5.0 in /usr/local/lib/python3.11/dist-packages (from aiohttp->torch-geometric==2.5.0) (2.6.1)\n",
            "Requirement already satisfied: aiosignal>=1.4.0 in /usr/local/lib/python3.11/dist-packages (from aiohttp->torch-geometric==2.5.0) (1.4.0)\n",
            "Requirement already satisfied: attrs>=17.3.0 in /usr/local/lib/python3.11/dist-packages (from aiohttp->torch-geometric==2.5.0) (25.3.0)\n",
            "Requirement already satisfied: frozenlist>=1.1.1 in /usr/local/lib/python3.11/dist-packages (from aiohttp->torch-geometric==2.5.0) (1.7.0)\n",
            "Requirement already satisfied: multidict<7.0,>=4.5 in /usr/local/lib/python3.11/dist-packages (from aiohttp->torch-geometric==2.5.0) (6.6.3)\n",
            "Requirement already satisfied: propcache>=0.2.0 in /usr/local/lib/python3.11/dist-packages (from aiohttp->torch-geometric==2.5.0) (0.3.2)\n",
            "Requirement already satisfied: yarl<2.0,>=1.17.0 in /usr/local/lib/python3.11/dist-packages (from aiohttp->torch-geometric==2.5.0) (1.20.1)\n",
            "Requirement already satisfied: idna>=2.0 in /usr/local/lib/python3.11/dist-packages (from yarl<2.0,>=1.17.0->aiohttp->torch-geometric==2.5.0) (3.10)\n",
            "Requirement already satisfied: typing-extensions>=4.2 in /usr/local/lib/python3.11/dist-packages (from aiosignal>=1.4.0->aiohttp->torch-geometric==2.5.0) (4.14.1)\n",
            "Requirement already satisfied: MarkupSafe>=2.0 in /usr/local/lib/python3.11/dist-packages (from jinja2->torch-geometric==2.5.0) (3.0.2)\n",
            "Requirement already satisfied: charset-normalizer<4,>=2 in /usr/local/lib/python3.11/dist-packages (from requests->torch-geometric==2.5.0) (3.4.2)\n",
            "Requirement already satisfied: urllib3<3,>=1.21.1 in /usr/local/lib/python3.11/dist-packages (from requests->torch-geometric==2.5.0) (2.5.0)\n",
            "Requirement already satisfied: certifi>=2017.4.17 in /usr/local/lib/python3.11/dist-packages (from requests->torch-geometric==2.5.0) (2025.7.14)\n",
            "Requirement already satisfied: joblib>=1.2.0 in /usr/local/lib/python3.11/dist-packages (from scikit-learn->torch-geometric==2.5.0) (1.5.1)\n",
            "Requirement already satisfied: threadpoolctl>=3.1.0 in /usr/local/lib/python3.11/dist-packages (from scikit-learn->torch-geometric==2.5.0) (3.6.0)\n",
            "Downloading torch_geometric-2.5.0-py3-none-any.whl (1.1 MB)\n",
            "\u001b[2K   \u001b[90m━━━━━━━━━━━━━━━━━━━━━━━━━━━━━━━━━━━━━━━━\u001b[0m \u001b[32m1.1/1.1 MB\u001b[0m \u001b[31m32.4 MB/s\u001b[0m  \u001b[33m0:00:00\u001b[0m\n",
            "\u001b[?25hInstalling collected packages: torch-geometric\n",
            "Successfully installed torch-geometric-2.5.0\n"
          ]
        }
      ]
    },
    {
      "cell_type": "code",
      "source": [
        "# ────────────────────────────────────────────────────────────────\n",
        "#  GNN 학습 전 호환성·바이너리 체크 스크립트\n",
        "#  (PyTorch ≥2.3.x + CUDA 11.8/12.x 대상)\n",
        "# ────────────────────────────────────────────────────────────────\n",
        "import sys, platform, torch, numpy as np\n",
        "\n",
        "print(\"▶ Python        :\", sys.version.split()[0], platform.platform())\n",
        "print(\"▶ NumPy         :\", np.__version__)\n",
        "print(\"▶ Torch         :\", torch.__version__, \"| CUDA:\", torch.version.cuda)\n",
        "print(\"▶ CUDA available:\", torch.cuda.is_available())\n",
        "if torch.cuda.is_available():\n",
        "    print(\"▶ GPU           :\", torch.cuda.get_device_name(0))\n",
        "\n",
        "# --- PyG & 확장 모듈 ---\n",
        "from torch_geometric.data import Data\n",
        "from torch_geometric.nn   import GINEConv, global_add_pool\n",
        "import torch_geometric, torch_scatter, torch_sparse, torch_cluster, torch_spline_conv\n",
        "\n",
        "print(\"▶ torch_geometric:\", torch_geometric.__version__)\n",
        "print(\"▶ torch_scatter  :\", torch_scatter.__version__)\n",
        "print(\"▶ torch_sparse   :\", torch_sparse.__version__)\n",
        "print(\"▶ torch_cluster  :\", torch_cluster.__version__)\n",
        "print(\"▶ torch_spline   :\", torch_spline_conv.__version__)\n",
        "\n",
        "# --- Dummy graph → GINEConv forward ---\n",
        "device = 'cuda' if torch.cuda.is_available() else 'cpu'\n",
        "edge_index = torch.tensor([[0,1,1,2],\n",
        "                           [1,0,2,1]], dtype=torch.long, device=device)\n",
        "x         = torch.randn(3, 29, device=device)        # 29-dim atom feats\n",
        "edge_attr = torch.randn(edge_index.size(1), 3, device=device)  # 3-dim bond feats\n",
        "\n",
        "mlp = torch.nn.Sequential(\n",
        "    torch.nn.Linear(29, 64), torch.nn.ReLU(), torch.nn.Linear(64, 64)\n",
        ")\n",
        "conv = GINEConv(mlp, edge_dim=3).to(device)\n",
        "\n",
        "out = conv(x, edge_index, edge_attr)\n",
        "print(\"▶ GINEConv OK   :\", out.shape)\n",
        "\n",
        "# --- NumPy bridge ---\n",
        "print(\"▶ tensor→numpy  :\", out[0].cpu().numpy()[:3])\n",
        "\n",
        "print(\"\\n✅  All compatibility checks passed!  이제 학습 스크립트 실행해도 됩니다.\")\n"
      ],
      "metadata": {
        "id": "930r-wGo7c9_",
        "outputId": "bcc524f5-2ecb-4823-9892-4d9618677d67",
        "colab": {
          "base_uri": "https://localhost:8080/",
          "height": 497
        }
      },
      "id": "930r-wGo7c9_",
      "execution_count": null,
      "outputs": [
        {
          "output_type": "stream",
          "name": "stdout",
          "text": [
            "▶ Python        : 3.11.13 Linux-6.1.123+-x86_64-with-glibc2.35\n",
            "▶ NumPy         : 1.26.4\n",
            "▶ Torch         : 2.1.2+cu118 | CUDA: 11.8\n",
            "▶ CUDA available: True\n",
            "▶ GPU           : Tesla T4\n"
          ]
        },
        {
          "output_type": "error",
          "ename": "ModuleNotFoundError",
          "evalue": "No module named 'torch_spline_conv'",
          "traceback": [
            "\u001b[0;31m---------------------------------------------------------------------------\u001b[0m",
            "\u001b[0;31mModuleNotFoundError\u001b[0m                       Traceback (most recent call last)",
            "\u001b[0;32m/tmp/ipython-input-3345021164.py\u001b[0m in \u001b[0;36m<cell line: 0>\u001b[0;34m()\u001b[0m\n\u001b[1;32m     15\u001b[0m \u001b[0;32mfrom\u001b[0m \u001b[0mtorch_geometric\u001b[0m\u001b[0;34m.\u001b[0m\u001b[0mdata\u001b[0m \u001b[0;32mimport\u001b[0m \u001b[0mData\u001b[0m\u001b[0;34m\u001b[0m\u001b[0;34m\u001b[0m\u001b[0m\n\u001b[1;32m     16\u001b[0m \u001b[0;32mfrom\u001b[0m \u001b[0mtorch_geometric\u001b[0m\u001b[0;34m.\u001b[0m\u001b[0mnn\u001b[0m   \u001b[0;32mimport\u001b[0m \u001b[0mGINEConv\u001b[0m\u001b[0;34m,\u001b[0m \u001b[0mglobal_add_pool\u001b[0m\u001b[0;34m\u001b[0m\u001b[0;34m\u001b[0m\u001b[0m\n\u001b[0;32m---> 17\u001b[0;31m \u001b[0;32mimport\u001b[0m \u001b[0mtorch_geometric\u001b[0m\u001b[0;34m,\u001b[0m \u001b[0mtorch_scatter\u001b[0m\u001b[0;34m,\u001b[0m \u001b[0mtorch_sparse\u001b[0m\u001b[0;34m,\u001b[0m \u001b[0mtorch_cluster\u001b[0m\u001b[0;34m,\u001b[0m \u001b[0mtorch_spline_conv\u001b[0m\u001b[0;34m\u001b[0m\u001b[0;34m\u001b[0m\u001b[0m\n\u001b[0m\u001b[1;32m     18\u001b[0m \u001b[0;34m\u001b[0m\u001b[0m\n\u001b[1;32m     19\u001b[0m \u001b[0mprint\u001b[0m\u001b[0;34m(\u001b[0m\u001b[0;34m\"▶ torch_geometric:\"\u001b[0m\u001b[0;34m,\u001b[0m \u001b[0mtorch_geometric\u001b[0m\u001b[0;34m.\u001b[0m\u001b[0m__version__\u001b[0m\u001b[0;34m)\u001b[0m\u001b[0;34m\u001b[0m\u001b[0;34m\u001b[0m\u001b[0m\n",
            "\u001b[0;31mModuleNotFoundError\u001b[0m: No module named 'torch_spline_conv'",
            "",
            "\u001b[0;31m---------------------------------------------------------------------------\u001b[0;32m\nNOTE: If your import is failing due to a missing package, you can\nmanually install dependencies using either !pip or !apt.\n\nTo view examples of installing some common dependencies, click the\n\"Open Examples\" button below.\n\u001b[0;31m---------------------------------------------------------------------------\u001b[0m\n"
          ],
          "errorDetails": {
            "actions": [
              {
                "action": "open_url",
                "actionText": "Open Examples",
                "url": "/notebooks/snippets/importing_libraries.ipynb"
              }
            ]
          }
        }
      ]
    },
    {
      "cell_type": "code",
      "source": [
        "import torch\n",
        "import numpy as np\n",
        "import rdkit\n",
        "import torch_geometric\n",
        "\n",
        "print(\"--- Version Check ---\")\n",
        "print(f\"PyTorch Version: {torch.__version__}\")\n",
        "print(f\"NumPy Version: {np.__version__}\")\n",
        "print(f\"RDKit Version: {rdkit.__version__}\")\n",
        "print(f\"PyTorch Geometric Version: {torch_geometric.__version__}\")\n",
        "print(\"-\" * 20)\n",
        "\n",
        "print(\"\\n--- Device Check ---\")\n",
        "print(f\"CUDA available: {torch.cuda.is_available()}\")\n",
        "if torch.cuda.is_available():\n",
        "    print(f\"CUDA device name: {torch.cuda.get_device_name(0)}\")\n",
        "    print(f\"CUDA device count: {torch.cuda.device_count()}\")\n",
        "else:\n",
        "    print(\"WARNING: CUDA is not available. The model will run on CPU.\")\n",
        "print(\"-\" * 20)\n",
        "\n",
        "print(\"\\n--- Tensor/Numpy Interoperability Check ---\")\n",
        "try:\n",
        "    test_tensor = torch.randn(5, device='cpu')\n",
        "    test_numpy = test_tensor.numpy()\n",
        "    print(\"✅ PyTorch to NumPy conversion successful!\")\n",
        "    print(f\"  PyTorch Tensor: {test_tensor}\")\n",
        "    print(f\"  NumPy Array: {test_numpy}\")\n",
        "except Exception as e:\n",
        "    print(f\"❌ PyTorch to NumPy conversion failed: {e}\")\n",
        "print(\"-\" * 20)\n",
        "\n",
        "print(\"\\n--- PyG Library Check ---\")\n",
        "try:\n",
        "    from torch_geometric.data import Data\n",
        "    from torch_geometric.nn import GINConv\n",
        "    print(\"✅ Essential PyG modules imported successfully!\")\n",
        "    print(\"  `Data` class is available.\")\n",
        "    print(\"  `GINConv` layer is available.\")\n",
        "except ImportError as e:\n",
        "    print(f\"❌ PyG module import failed: {e}\")\n",
        "print(\"-\" * 20)\n",
        "\n",
        "print(\"\\n--- RDKit Check ---\")\n",
        "try:\n",
        "    from rdkit import Chem\n",
        "    mol = Chem.MolFromSmiles(\"CCO\")\n",
        "    if mol:\n",
        "        print(\"✅ RDKit can successfully process SMILES strings!\")\n",
        "        print(f\"  Processed molecule has {mol.GetNumAtoms()} atoms.\")\n",
        "    else:\n",
        "        print(\"❌ RDKit could not process a simple SMILES string.\")\n",
        "except ImportError as e:\n",
        "    print(f\"❌ RDKit import failed: {e}\")\n",
        "print(\"-\" * 20)\n",
        "\n",
        "print(\"\\n--- Final Status ---\")\n",
        "print(\"All checks completed. Please review the output for any errors.\")"
      ],
      "metadata": {
        "id": "ymVRyG9O76PW",
        "outputId": "872c571b-7459-47d8-fe68-9d1ce56f1e9f",
        "colab": {
          "base_uri": "https://localhost:8080/"
        }
      },
      "id": "ymVRyG9O76PW",
      "execution_count": null,
      "outputs": [
        {
          "output_type": "stream",
          "name": "stdout",
          "text": [
            "--- Version Check ---\n",
            "PyTorch Version: 2.1.2+cu118\n",
            "NumPy Version: 1.26.4\n",
            "RDKit Version: 2025.03.5\n",
            "PyTorch Geometric Version: 2.5.0\n",
            "--------------------\n",
            "\n",
            "--- Device Check ---\n",
            "CUDA available: True\n",
            "CUDA device name: Tesla T4\n",
            "CUDA device count: 1\n",
            "--------------------\n",
            "\n",
            "--- Tensor/Numpy Interoperability Check ---\n",
            "✅ PyTorch to NumPy conversion successful!\n",
            "  PyTorch Tensor: tensor([ 0.4723,  1.8157,  2.0674,  0.8337, -0.5219])\n",
            "  NumPy Array: [ 0.4722821   1.815727    2.0674112   0.83369726 -0.52194524]\n",
            "--------------------\n",
            "\n",
            "--- PyG Library Check ---\n",
            "✅ Essential PyG modules imported successfully!\n",
            "  `Data` class is available.\n",
            "  `GINConv` layer is available.\n",
            "--------------------\n",
            "\n",
            "--- RDKit Check ---\n",
            "✅ RDKit can successfully process SMILES strings!\n",
            "  Processed molecule has 3 atoms.\n",
            "--------------------\n",
            "\n",
            "--- Final Status ---\n",
            "All checks completed. Please review the output for any errors.\n"
          ]
        }
      ]
    },
    {
      "cell_type": "code",
      "source": [
        "# 6LQA PDB 다운로드\n",
        "!wget https://files.rcsb.org/download/6LQA.pdb\n"
      ],
      "metadata": {
        "id": "SuTfR4qpu73E",
        "outputId": "0690e18d-c441-40e7-c6de-226ac7c2b4c1",
        "colab": {
          "base_uri": "https://localhost:8080/"
        }
      },
      "id": "SuTfR4qpu73E",
      "execution_count": null,
      "outputs": [
        {
          "output_type": "stream",
          "name": "stdout",
          "text": [
            "--2025-09-02 14:03:31--  https://files.rcsb.org/download/6LQA.pdb\n",
            "Resolving files.rcsb.org (files.rcsb.org)... 18.239.18.71, 18.239.18.50, 18.239.18.95, ...\n",
            "Connecting to files.rcsb.org (files.rcsb.org)|18.239.18.71|:443... connected.\n",
            "HTTP request sent, awaiting response... 200 OK\n",
            "Length: unspecified [text/plain]\n",
            "Saving to: ‘6LQA.pdb’\n",
            "\n",
            "6LQA.pdb                [  <=>               ] 867.82K  1.91MB/s    in 0.4s    \n",
            "\n",
            "2025-09-02 14:03:32 (1.91 MB/s) - ‘6LQA.pdb’ saved [888651]\n",
            "\n"
          ]
        }
      ]
    },
    {
      "cell_type": "code",
      "source": [
        "!python3 ../script/split_chain.py 6LQA.pdb A receptor.pdb\n"
      ],
      "metadata": {
        "id": "jsLrTR9FvYGr",
        "outputId": "f1366b2a-e615-461d-d8e3-a8667be58dfc",
        "colab": {
          "base_uri": "https://localhost:8080/"
        }
      },
      "id": "jsLrTR9FvYGr",
      "execution_count": null,
      "outputs": [
        {
          "output_type": "stream",
          "name": "stdout",
          "text": [
            "python3: can't open file '/content/../script/split_chain.py': [Errno 2] No such file or directory\n"
          ]
        }
      ]
    },
    {
      "cell_type": "code",
      "source": [
        "pdb_file = \"6LQA.pdb\"      # 입력 PDB\n",
        "chain_id = \"A\"             # 뽑을 체인\n",
        "rec_file = \"receptor.pdb\"  # 출력 파일 이름\n",
        "\n",
        "with open(pdb_file, 'r') as in_file, open(rec_file, 'w') as out_file:\n",
        "    for line in in_file:\n",
        "        if not line.startswith(\"ATOM\"):\n",
        "            continue\n",
        "        atom_chain = line[21]\n",
        "        if atom_chain == chain_id:\n",
        "            out_file.write(line)\n",
        "\n",
        "print(f\"✅ Chain {chain_id} 추출 완료 → {rec_file}\")\n"
      ],
      "metadata": {
        "id": "COBozHMPv51H",
        "outputId": "7d8d5ca8-d9e7-41f9-ba74-b641f5d5c32f",
        "colab": {
          "base_uri": "https://localhost:8080/"
        }
      },
      "id": "COBozHMPv51H",
      "execution_count": null,
      "outputs": [
        {
          "output_type": "stream",
          "name": "stdout",
          "text": [
            "✅ Chain A 추출 완료 → receptor.pdb\n"
          ]
        }
      ]
    },
    {
      "cell_type": "code",
      "source": [
        "!obabel receptor.pdb -xr -O receptor.pdbqt -h --partialcharge gasteiger\n"
      ],
      "metadata": {
        "id": "M4RViK9jwAwO",
        "outputId": "02e41125-bc41-4688-b2f3-8a6e1593626c",
        "colab": {
          "base_uri": "https://localhost:8080/"
        }
      },
      "id": "M4RViK9jwAwO",
      "execution_count": null,
      "outputs": [
        {
          "output_type": "stream",
          "name": "stdout",
          "text": [
            "0 molecules converted\n"
          ]
        }
      ]
    },
    {
      "cell_type": "code",
      "source": [
        "!apt-get update -y\n",
        "!apt-get install -y openbabel\n"
      ],
      "metadata": {
        "id": "nKKNqowlwEyf",
        "outputId": "5727cdbe-52a0-4464-bf16-c0d5d58b7e31",
        "colab": {
          "base_uri": "https://localhost:8080/"
        }
      },
      "id": "nKKNqowlwEyf",
      "execution_count": 1,
      "outputs": [
        {
          "output_type": "stream",
          "name": "stdout",
          "text": [
            "\r0% [Working]\r            \rHit:1 https://cli.github.com/packages stable InRelease\n",
            "\r0% [Connecting to archive.ubuntu.com] [Connecting to security.ubuntu.com (185.1\r                                                                               \rGet:2 https://cloud.r-project.org/bin/linux/ubuntu jammy-cran40/ InRelease [3,632 B]\n",
            "Get:3 https://developer.download.nvidia.com/compute/cuda/repos/ubuntu2204/x86_64  InRelease [1,581 B]\n",
            "Get:4 http://security.ubuntu.com/ubuntu jammy-security InRelease [129 kB]\n",
            "Hit:5 http://archive.ubuntu.com/ubuntu jammy InRelease\n",
            "Get:6 https://cloud.r-project.org/bin/linux/ubuntu jammy-cran40/ Packages [80.2 kB]\n",
            "Get:7 http://archive.ubuntu.com/ubuntu jammy-updates InRelease [128 kB]\n",
            "Hit:8 https://ppa.launchpadcontent.net/deadsnakes/ppa/ubuntu jammy InRelease\n",
            "Get:9 https://developer.download.nvidia.com/compute/cuda/repos/ubuntu2204/x86_64  Packages [1,961 kB]\n",
            "Get:10 https://r2u.stat.illinois.edu/ubuntu jammy InRelease [6,555 B]\n",
            "Get:11 https://ppa.launchpadcontent.net/graphics-drivers/ppa/ubuntu jammy InRelease [24.3 kB]\n",
            "Hit:12 https://ppa.launchpadcontent.net/ubuntugis/ppa/ubuntu jammy InRelease\n",
            "Get:13 http://archive.ubuntu.com/ubuntu jammy-backports InRelease [127 kB]\n",
            "Get:14 http://security.ubuntu.com/ubuntu jammy-security/main amd64 Packages [3,307 kB]\n",
            "Get:15 https://r2u.stat.illinois.edu/ubuntu jammy/main amd64 Packages [2,790 kB]\n",
            "Get:16 https://ppa.launchpadcontent.net/graphics-drivers/ppa/ubuntu jammy/main amd64 Packages [42.7 kB]\n",
            "Get:17 http://security.ubuntu.com/ubuntu jammy-security/restricted amd64 Packages [5,365 kB]\n",
            "Get:18 http://archive.ubuntu.com/ubuntu jammy-updates/restricted amd64 Packages [5,560 kB]\n",
            "Get:19 https://r2u.stat.illinois.edu/ubuntu jammy/main all Packages [9,232 kB]\n",
            "Get:20 http://archive.ubuntu.com/ubuntu jammy-updates/main amd64 Packages [3,623 kB]\n",
            "Get:21 http://archive.ubuntu.com/ubuntu jammy-updates/universe amd64 Packages [1,579 kB]\n",
            "Fetched 34.0 MB in 8s (4,056 kB/s)\n",
            "Reading package lists... Done\n",
            "W: Skipping acquire of configured file 'main/source/Sources' as repository 'https://r2u.stat.illinois.edu/ubuntu jammy InRelease' does not seem to provide it (sources.list entry misspelt?)\n",
            "Reading package lists... Done\n",
            "Building dependency tree... Done\n",
            "Reading state information... Done\n",
            "The following additional packages will be installed:\n",
            "  libinchi1 libmaeparser1 libopenbabel7\n",
            "The following NEW packages will be installed:\n",
            "  libinchi1 libmaeparser1 libopenbabel7 openbabel\n",
            "0 upgraded, 4 newly installed, 0 to remove and 38 not upgraded.\n",
            "Need to get 3,903 kB of archives.\n",
            "After this operation, 16.9 MB of additional disk space will be used.\n",
            "Get:1 http://archive.ubuntu.com/ubuntu jammy/universe amd64 libinchi1 amd64 1.03+dfsg-4 [455 kB]\n",
            "Get:2 http://archive.ubuntu.com/ubuntu jammy/universe amd64 libmaeparser1 amd64 1.2.4-1build1 [88.2 kB]\n",
            "Get:3 http://archive.ubuntu.com/ubuntu jammy/universe amd64 libopenbabel7 amd64 3.1.1+dfsg-6ubuntu5 [3,231 kB]\n",
            "Get:4 http://archive.ubuntu.com/ubuntu jammy/universe amd64 openbabel amd64 3.1.1+dfsg-6ubuntu5 [128 kB]\n",
            "Fetched 3,903 kB in 3s (1,522 kB/s)\n",
            "Selecting previously unselected package libinchi1.\n",
            "(Reading database ... 126371 files and directories currently installed.)\n",
            "Preparing to unpack .../libinchi1_1.03+dfsg-4_amd64.deb ...\n",
            "Unpacking libinchi1 (1.03+dfsg-4) ...\n",
            "Selecting previously unselected package libmaeparser1:amd64.\n",
            "Preparing to unpack .../libmaeparser1_1.2.4-1build1_amd64.deb ...\n",
            "Unpacking libmaeparser1:amd64 (1.2.4-1build1) ...\n",
            "Selecting previously unselected package libopenbabel7.\n",
            "Preparing to unpack .../libopenbabel7_3.1.1+dfsg-6ubuntu5_amd64.deb ...\n",
            "Unpacking libopenbabel7 (3.1.1+dfsg-6ubuntu5) ...\n",
            "Selecting previously unselected package openbabel.\n",
            "Preparing to unpack .../openbabel_3.1.1+dfsg-6ubuntu5_amd64.deb ...\n",
            "Unpacking openbabel (3.1.1+dfsg-6ubuntu5) ...\n",
            "Setting up libmaeparser1:amd64 (1.2.4-1build1) ...\n",
            "Setting up libinchi1 (1.03+dfsg-4) ...\n",
            "Setting up libopenbabel7 (3.1.1+dfsg-6ubuntu5) ...\n",
            "Setting up openbabel (3.1.1+dfsg-6ubuntu5) ...\n",
            "Processing triggers for libc-bin (2.35-0ubuntu3.8) ...\n",
            "/sbin/ldconfig.real: /usr/local/lib/libtcm_debug.so.1 is not a symbolic link\n",
            "\n",
            "/sbin/ldconfig.real: /usr/local/lib/libhwloc.so.15 is not a symbolic link\n",
            "\n",
            "/sbin/ldconfig.real: /usr/local/lib/libur_adapter_level_zero_v2.so.0 is not a symbolic link\n",
            "\n",
            "/sbin/ldconfig.real: /usr/local/lib/libtbb.so.12 is not a symbolic link\n",
            "\n",
            "/sbin/ldconfig.real: /usr/local/lib/libtbbbind_2_0.so.3 is not a symbolic link\n",
            "\n",
            "/sbin/ldconfig.real: /usr/local/lib/libtbbbind.so.3 is not a symbolic link\n",
            "\n",
            "/sbin/ldconfig.real: /usr/local/lib/libumf.so.0 is not a symbolic link\n",
            "\n",
            "/sbin/ldconfig.real: /usr/local/lib/libtbbmalloc_proxy.so.2 is not a symbolic link\n",
            "\n",
            "/sbin/ldconfig.real: /usr/local/lib/libur_adapter_opencl.so.0 is not a symbolic link\n",
            "\n",
            "/sbin/ldconfig.real: /usr/local/lib/libur_adapter_level_zero.so.0 is not a symbolic link\n",
            "\n",
            "/sbin/ldconfig.real: /usr/local/lib/libur_loader.so.0 is not a symbolic link\n",
            "\n",
            "/sbin/ldconfig.real: /usr/local/lib/libtbbmalloc.so.2 is not a symbolic link\n",
            "\n",
            "/sbin/ldconfig.real: /usr/local/lib/libtcm.so.1 is not a symbolic link\n",
            "\n",
            "/sbin/ldconfig.real: /usr/local/lib/libtbbbind_2_5.so.3 is not a symbolic link\n",
            "\n",
            "Processing triggers for man-db (2.10.2-1) ...\n"
          ]
        }
      ]
    },
    {
      "cell_type": "code",
      "source": [
        "!obabel -V\n"
      ],
      "metadata": {
        "id": "xFu6zbJlwHKu",
        "outputId": "2b464619-d389-4895-c8ed-6ed7c87bc4ae",
        "colab": {
          "base_uri": "https://localhost:8080/"
        }
      },
      "id": "xFu6zbJlwHKu",
      "execution_count": null,
      "outputs": [
        {
          "output_type": "stream",
          "name": "stdout",
          "text": [
            "Open Babel 3.1.1 -- Feb  7 2022 -- 06:51:49\n"
          ]
        }
      ]
    },
    {
      "cell_type": "code",
      "source": [
        "!ls -lh receptor.pdb\n",
        "!head -n 5 receptor.pdb\n",
        "!grep -c '^ATOM' receptor.pdb\n"
      ],
      "metadata": {
        "id": "_e2nOnPPwc9R",
        "outputId": "b4b1b1fd-1ca3-4ad0-bb0f-fdd93201b8a2",
        "colab": {
          "base_uri": "https://localhost:8080/"
        }
      },
      "id": "_e2nOnPPwc9R",
      "execution_count": null,
      "outputs": [
        {
          "output_type": "stream",
          "name": "stdout",
          "text": [
            "-rw-r--r-- 1 root root 0 Sep  2 14:07 receptor.pdb\n",
            "0\n"
          ]
        }
      ]
    },
    {
      "cell_type": "code",
      "source": [
        "!awk '{print substr($0,22,1)}' 6LQA.pdb | sort | uniq -c\n"
      ],
      "metadata": {
        "id": "KU3NTy_Gwt8t",
        "outputId": "85061c96-12f8-47c1-eb29-3fbf88a91ead",
        "colab": {
          "base_uri": "https://localhost:8080/"
        }
      },
      "id": "KU3NTy_Gwt8t",
      "execution_count": null,
      "outputs": [
        {
          "output_type": "stream",
          "name": "stdout",
          "text": [
            "   1170  \n",
            "      1 '\n",
            "      5 .\n",
            "      2 :\n",
            "      1 ;\n",
            "      2 _\n",
            "     13 0\n",
            "     39 1\n",
            "      7 2\n",
            "      7 3\n",
            "     11 4\n",
            "     12 5\n",
            "      8 6\n",
            "     11 7\n",
            "     13 8\n",
            "      6 9\n",
            "     24 A\n",
            "   9404 B\n",
            "      5 C\n",
            "      4 D\n",
            "     36 E\n",
            "      4 F\n",
            "     14 G\n",
            "      1 H\n",
            "     10 I\n",
            "      9 L\n",
            "      2 M\n",
            "     19 N\n",
            "     15 O\n",
            "     15 P\n",
            "     26 R\n",
            "     18 S\n",
            "     15 T\n",
            "     27 U\n",
            "      1 W\n",
            "      3 X\n",
            "     11 Y\n"
          ]
        }
      ]
    },
    {
      "cell_type": "code",
      "source": [
        "pdb_file = \"6LQA.pdb\"\n",
        "chain_id = \"B\"          # ← B로 변경\n",
        "rec_file = \"receptor.pdb\"\n",
        "\n",
        "with open(pdb_file, 'r') as fin, open(rec_file, 'w') as fout:\n",
        "    for line in fin:\n",
        "        if not line.startswith(\"ATOM\"):\n",
        "            continue\n",
        "        if line[21] == chain_id:\n",
        "            fout.write(line)\n",
        "\n",
        "print(\"done\")\n"
      ],
      "metadata": {
        "id": "2N6tRwfNw2nT",
        "outputId": "3dcfb37b-ff72-406d-95dd-bb68221df8a2",
        "colab": {
          "base_uri": "https://localhost:8080/"
        }
      },
      "id": "2N6tRwfNw2nT",
      "execution_count": null,
      "outputs": [
        {
          "output_type": "stream",
          "name": "stdout",
          "text": [
            "done\n"
          ]
        }
      ]
    },
    {
      "cell_type": "code",
      "source": [
        "!obabel -i pdb receptor.pdb -o pdbqt -O receptor.pdbqt -h --partialcharge gasteiger\n"
      ],
      "metadata": {
        "id": "7zhwUNi8w4Xo",
        "outputId": "c50b65b2-f385-418e-f5c6-229dc6160567",
        "colab": {
          "base_uri": "https://localhost:8080/"
        }
      },
      "id": "7zhwUNi8w4Xo",
      "execution_count": null,
      "outputs": [
        {
          "output_type": "stream",
          "name": "stdout",
          "text": [
            "==============================\n",
            "*** Open Babel Warning  in PerceiveBondOrders\n",
            "  Failed to kekulize aromatic bonds in OBMol::PerceiveBondOrders (title is receptor.pdb)\n",
            "\n",
            "1 molecule converted\n"
          ]
        }
      ]
    },
    {
      "cell_type": "code",
      "source": [
        "!ls -lh receptor.pdb receptor.pdbqt\n",
        "!grep -c '^ATOM' receptor.pdb\n",
        "!wc -l receptor.pdbqt\n"
      ],
      "metadata": {
        "id": "c2uXVheOxqbk",
        "outputId": "cd76b8e1-74e5-4779-b7dd-b355348963d2",
        "colab": {
          "base_uri": "https://localhost:8080/"
        }
      },
      "id": "c2uXVheOxqbk",
      "execution_count": null,
      "outputs": [
        {
          "output_type": "stream",
          "name": "stdout",
          "text": [
            "-rw-r--r-- 1 root root 731K Sep  2 14:10 receptor.pdb\n",
            "-rw-r--r-- 1 root root 1.9M Sep  2 14:12 receptor.pdbqt\n",
            "9237\n",
            "35848 receptor.pdbqt\n"
          ]
        }
      ]
    },
    {
      "cell_type": "code",
      "source": [
        "!head -n 10 receptor.pdbqt\n",
        "!tail -n 5 receptor.pdbqt\n"
      ],
      "metadata": {
        "id": "Kya9qJMBx04M",
        "outputId": "839c59ba-eb96-41c6-9ba3-470320a44858",
        "colab": {
          "base_uri": "https://localhost:8080/"
        }
      },
      "id": "Kya9qJMBx04M",
      "execution_count": null,
      "outputs": [
        {
          "output_type": "stream",
          "name": "stdout",
          "text": [
            "REMARK  Name = receptor.pdb\n",
            "REMARK  5293 active torsions:\n",
            "REMARK  status: ('A' for Active; 'I' for Inactive)\n",
            "REMARK    1  A    between atoms: CA_2  and  C_3\n",
            "REMARK    2  A    between atoms: N_8  and  CA_9\n",
            "REMARK    3  A    between atoms: CA_9  and  C_10\n",
            "REMARK    4  A    between atoms: CA_9  and  CB_12\n",
            "REMARK    5  A    between atoms: CB_12  and  CG1_13\n",
            "REMARK    6  A    between atoms: CB_12  and  CG2_14\n",
            "REMARK    7  A    between atoms: CG1_13  and  CD1_15\n",
            "ATOM   5765  CD2 LEU B1480     118.841 107.361 119.252  0.00  0.00    +0.000 C \n",
            "ENDBRANCH57625763\n",
            "ENDBRANCH28875762\n",
            "ENDBRANCH   32887\n",
            "TORSDOF 2332\n"
          ]
        }
      ]
    },
    {
      "cell_type": "code",
      "source": [
        "from google.colab import files\n",
        "files.download(\"receptor.pdbqt\")\n"
      ],
      "metadata": {
        "id": "pkBKJpWmyC2G",
        "outputId": "ff278e68-119d-4b57-a514-ea30a94b854e",
        "colab": {
          "base_uri": "https://localhost:8080/",
          "height": 17
        }
      },
      "id": "pkBKJpWmyC2G",
      "execution_count": null,
      "outputs": [
        {
          "output_type": "display_data",
          "data": {
            "text/plain": [
              "<IPython.core.display.Javascript object>"
            ],
            "application/javascript": [
              "\n",
              "    async function download(id, filename, size) {\n",
              "      if (!google.colab.kernel.accessAllowed) {\n",
              "        return;\n",
              "      }\n",
              "      const div = document.createElement('div');\n",
              "      const label = document.createElement('label');\n",
              "      label.textContent = `Downloading \"${filename}\": `;\n",
              "      div.appendChild(label);\n",
              "      const progress = document.createElement('progress');\n",
              "      progress.max = size;\n",
              "      div.appendChild(progress);\n",
              "      document.body.appendChild(div);\n",
              "\n",
              "      const buffers = [];\n",
              "      let downloaded = 0;\n",
              "\n",
              "      const channel = await google.colab.kernel.comms.open(id);\n",
              "      // Send a message to notify the kernel that we're ready.\n",
              "      channel.send({})\n",
              "\n",
              "      for await (const message of channel.messages) {\n",
              "        // Send a message to notify the kernel that we're ready.\n",
              "        channel.send({})\n",
              "        if (message.buffers) {\n",
              "          for (const buffer of message.buffers) {\n",
              "            buffers.push(buffer);\n",
              "            downloaded += buffer.byteLength;\n",
              "            progress.value = downloaded;\n",
              "          }\n",
              "        }\n",
              "      }\n",
              "      const blob = new Blob(buffers, {type: 'application/binary'});\n",
              "      const a = document.createElement('a');\n",
              "      a.href = window.URL.createObjectURL(blob);\n",
              "      a.download = filename;\n",
              "      div.appendChild(a);\n",
              "      a.click();\n",
              "      div.remove();\n",
              "    }\n",
              "  "
            ]
          },
          "metadata": {}
        },
        {
          "output_type": "display_data",
          "data": {
            "text/plain": [
              "<IPython.core.display.Javascript object>"
            ],
            "application/javascript": [
              "download(\"download_1e097491-ecf8-4fec-85c0-2c9debbb3269\", \"receptor.pdbqt\", 1912977)"
            ]
          },
          "metadata": {}
        }
      ]
    },
    {
      "cell_type": "code",
      "source": [
        "!python3 ../script/split_chain.py 7LJD.pdb A receptor.pdb"
      ],
      "metadata": {
        "id": "A_sxoqNmOfFu",
        "outputId": "2e7d7baf-8af0-4333-fdb8-dbaf41bc8278",
        "colab": {
          "base_uri": "https://localhost:8080/"
        }
      },
      "id": "A_sxoqNmOfFu",
      "execution_count": 2,
      "outputs": [
        {
          "output_type": "stream",
          "name": "stdout",
          "text": [
            "python3: can't open file '/content/../script/split_chain.py': [Errno 2] No such file or directory\n"
          ]
        }
      ]
    },
    {
      "cell_type": "code",
      "source": [
        "# 6LQA PDB 다운로드\n",
        "!wget https://files.rcsb.org/download/7LJD.pdb"
      ],
      "metadata": {
        "id": "9l8iU-w9OrQM",
        "outputId": "264d0e21-d0d6-4e83-c046-eff5c3728866",
        "colab": {
          "base_uri": "https://localhost:8080/"
        }
      },
      "id": "9l8iU-w9OrQM",
      "execution_count": 3,
      "outputs": [
        {
          "output_type": "stream",
          "name": "stdout",
          "text": [
            "--2025-09-03 10:59:29--  https://files.rcsb.org/download/7LJD.pdb\n",
            "Resolving files.rcsb.org (files.rcsb.org)... 3.171.198.60, 3.171.198.112, 3.171.198.123, ...\n",
            "Connecting to files.rcsb.org (files.rcsb.org)|3.171.198.60|:443... connected.\n",
            "HTTP request sent, awaiting response... 200 OK\n",
            "Length: unspecified [text/plain]\n",
            "Saving to: ‘7LJD.pdb’\n",
            "\n",
            "7LJD.pdb                [   <=>              ] 755.10K   880KB/s    in 0.9s    \n",
            "\n",
            "2025-09-03 10:59:30 (880 KB/s) - ‘7LJD.pdb’ saved [773226]\n",
            "\n"
          ]
        }
      ]
    },
    {
      "cell_type": "code",
      "source": [
        "pdb_file = \"7LJD.pdb\"      # 입력 PDB\n",
        "chain_id = \"R\"             # 뽑을 체인\n",
        "rec_file = \"receptor.pdb\"  # 출력 파일 이름\n",
        "\n",
        "with open(pdb_file, 'r') as in_file, open(rec_file, 'w') as out_file:\n",
        "    for line in in_file:\n",
        "        if not line.startswith(\"ATOM\"):\n",
        "            continue\n",
        "        atom_chain = line[21]\n",
        "        if atom_chain == chain_id:\n",
        "            out_file.write(line)\n",
        "\n",
        "print(f\"✅ Chain {chain_id} 추출 완료 → {rec_file}\")"
      ],
      "metadata": {
        "id": "kdbUkE9lO3hl",
        "outputId": "84a60fcd-40ae-4783-8d48-0a98412b947d",
        "colab": {
          "base_uri": "https://localhost:8080/"
        }
      },
      "id": "kdbUkE9lO3hl",
      "execution_count": 4,
      "outputs": [
        {
          "output_type": "stream",
          "name": "stdout",
          "text": [
            "✅ Chain R 추출 완료 → receptor.pdb\n"
          ]
        }
      ]
    },
    {
      "cell_type": "code",
      "source": [],
      "metadata": {
        "id": "cXlczTLhPRH-"
      },
      "id": "cXlczTLhPRH-",
      "execution_count": null,
      "outputs": []
    }
  ],
  "metadata": {
    "language_info": {
      "name": "python"
    },
    "colab": {
      "provenance": [],
      "gpuType": "T4"
    },
    "kernelspec": {
      "name": "python3",
      "display_name": "Python 3"
    },
    "accelerator": "GPU"
  },
  "nbformat": 4,
  "nbformat_minor": 5
}